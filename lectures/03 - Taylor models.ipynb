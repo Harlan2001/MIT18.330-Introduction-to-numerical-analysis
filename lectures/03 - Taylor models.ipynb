{
 "cells": [
  {
   "cell_type": "markdown",
   "metadata": {},
   "source": [
    "# TaylorModels\n",
    "\n",
    "- **Taylor model** $\\equiv$ **Taylor polynomial** + **interval bound** of truncation error *and* rounding error\n",
    "\n",
    "\n",
    "- https://github.com/JuliaIntervals/TaylorModels.jl"
   ]
  },
  {
   "cell_type": "code",
   "execution_count": 1,
   "metadata": {},
   "outputs": [],
   "source": [
    "using TaylorModels"
   ]
  },
  {
   "cell_type": "code",
   "execution_count": 2,
   "metadata": {},
   "outputs": [
    {
     "data": {
      "text/plain": [
       "0.25"
      ]
     },
     "execution_count": 2,
     "metadata": {},
     "output_type": "execute_result"
    }
   ],
   "source": [
    "f(x) = x * (x-1.1) * (x+2) * (x+2.2) * (x+2.5) * (x+3) * sin(1.7*x+0.5)\n",
    "a =  -0.5 .. 1.0 # Domain \n",
    "x0 = mid(a)     # Expansion point"
   ]
  },
  {
   "cell_type": "code",
   "execution_count": 3,
   "metadata": {},
   "outputs": [
    {
     "data": {
      "text/plain": [
       "[-0.5, 1]"
      ]
     },
     "execution_count": 3,
     "metadata": {},
     "output_type": "execute_result"
    }
   ],
   "source": [
    "a"
   ]
  },
  {
   "cell_type": "code",
   "execution_count": 4,
   "metadata": {},
   "outputs": [
    {
     "data": {
      "text/html": [
       "<script>\n",
       "// Immediately-invoked-function-expression to avoid global variables.\n",
       "(function() {\n",
       "    var warning_div = document.getElementById(\"webio-warning-10600612448664213579\");\n",
       "    var hide = function () {\n",
       "        var script = document.getElementById(\"webio-setup-5628934585282379225\");\n",
       "        var parent = script && script.parentElement;\n",
       "        var grandparent = parent && parent.parentElement;\n",
       "        if (grandparent) {\n",
       "            grandparent.style.display = \"none\";\n",
       "        }\n",
       "        warning_div.style.display = \"none\";\n",
       "    };\n",
       "    if (typeof Jupyter !== \"undefined\") {\n",
       "        console.log(\"WebIO detected Jupyter notebook environment.\");\n",
       "        // Jupyter notebook.\n",
       "        var extensions = (\n",
       "            Jupyter\n",
       "            && Jupyter.notebook.config.data\n",
       "            && Jupyter.notebook.config.data.load_extensions\n",
       "        );\n",
       "        if (extensions && extensions[\"webio-jupyter-notebook\"]) {\n",
       "            // Extension already loaded.\n",
       "            console.log(\"Jupyter WebIO nbextension detected; not loading ad-hoc.\");\n",
       "            hide();\n",
       "            return;\n",
       "        }\n",
       "    } else if (window.location.pathname.includes(\"/lab\")) {\n",
       "        // Guessing JupyterLa\n",
       "        console.log(\"Jupyter Lab detected; make sure the @webio/jupyter-lab-provider labextension is installed.\");\n",
       "        hide();\n",
       "        return;\n",
       "    }\n",
       "})();\n",
       "\n",
       "</script>\n",
       "<p\n",
       "    id=\"webio-warning-10600612448664213579\"\n",
       "    class=\"output_text output_stderr\"\n",
       "    style=\"padding: 1em; font-weight: bold;\"\n",
       ">\n",
       "    Unable to load WebIO. Please make sure WebIO works for your Jupyter client.\n",
       "    For troubleshooting, please see <a href=\"https://juliagizmos.github.io/WebIO.jl/latest/providers/ijulia/\">\n",
       "    the WebIO/IJulia documentation</a>.\n",
       "    <!-- TODO: link to installation docs. -->\n",
       "</p>\n"
      ],
      "text/plain": [
       "HTML{String}(\"<script>\\n// Immediately-invoked-function-expression to avoid global variables.\\n(function() {\\n    var warning_div = document.getElementById(\\\"webio-warning-10600612448664213579\\\");\\n    var hide = function () {\\n        var script = document.getElementById(\\\"webio-setup-5628934585282379225\\\");\\n        var parent = script && script.parentElement;\\n        var grandparent = parent && parent.parentElement;\\n        if (grandparent) {\\n            grandparent.style.display = \\\"none\\\";\\n        }\\n        warning_div.style.display = \\\"none\\\";\\n    };\\n    if (typeof Jupyter !== \\\"undefined\\\") {\\n        console.log(\\\"WebIO detected Jupyter notebook environment.\\\");\\n        // Jupyter notebook.\\n        var extensions = (\\n            Jupyter\\n            && Jupyter.notebook.config.data\\n            && Jupyter.notebook.config.data.load_extensions\\n        );\\n        if (extensions && extensions[\\\"webio-jupyter-notebook\\\"]) {\\n            // Extension already loaded.\\n            console.log(\\\"Jupyter WebIO nbextension detected; not loading ad-hoc.\\\");\\n            hide();\\n            return;\\n        }\\n    } else if (window.location.pathname.includes(\\\"/lab\\\")) {\\n        // Guessing JupyterLa\\n        console.log(\\\"Jupyter Lab detected; make sure the @webio/jupyter-lab-provider labextension is installed.\\\");\\n        hide();\\n        return;\\n    }\\n})();\\n\\n</script>\\n<p\\n    id=\\\"webio-warning-10600612448664213579\\\"\\n    class=\\\"output_text output_stderr\\\"\\n    style=\\\"padding: 1em; font-weight: bold;\\\"\\n>\\n    Unable to load WebIO. Please make sure WebIO works for your Jupyter client.\\n    For troubleshooting, please see <a href=\\\"https://juliagizmos.github.io/WebIO.jl/latest/providers/ijulia/\\\">\\n    the WebIO/IJulia documentation</a>.\\n    <!-- TODO: link to installation docs. -->\\n</p>\\n\")"
      ]
     },
     "metadata": {},
     "output_type": "display_data"
    }
   ],
   "source": [
    "using Interact, Plots"
   ]
  },
  {
   "cell_type": "code",
   "execution_count": 5,
   "metadata": {},
   "outputs": [
    {
     "data": {
      "text/plain": [
       " 0.25 + 1.0 t + [0, 0]"
      ]
     },
     "execution_count": 5,
     "metadata": {},
     "output_type": "execute_result"
    }
   ],
   "source": [
    "n = 3\n",
    "xx = TaylorModel1(n, x0, a)  # identity function x \\mapsto x"
   ]
  },
  {
   "cell_type": "code",
   "execution_count": 6,
   "metadata": {},
   "outputs": [
    {
     "data": {
      "image/svg+xml": [
       "<?xml version=\"1.0\" encoding=\"utf-8\"?>\n",
       "<svg xmlns=\"http://www.w3.org/2000/svg\" xmlns:xlink=\"http://www.w3.org/1999/xlink\" width=\"600\" height=\"400\" viewBox=\"0 0 2400 1600\">\n",
       "<defs>\n",
       "  <clipPath id=\"clip2200\">\n",
       "    <rect x=\"0\" y=\"0\" width=\"2400\" height=\"1600\"/>\n",
       "  </clipPath>\n",
       "</defs>\n",
       "<path clip-path=\"url(#clip2200)\" d=\"\n",
       "M0 1600 L2400 1600 L2400 0 L0 0  Z\n",
       "  \" fill=\"#ffffff\" fill-rule=\"evenodd\" fill-opacity=\"1\"/>\n",
       "<defs>\n",
       "  <clipPath id=\"clip2201\">\n",
       "    <rect x=\"480\" y=\"0\" width=\"1681\" height=\"1600\"/>\n",
       "  </clipPath>\n",
       "</defs>\n",
       "<path clip-path=\"url(#clip2200)\" d=\"\n",
       "M182.008 1487.47 L2352.76 1487.47 L2352.76 47.2441 L182.008 47.2441  Z\n",
       "  \" fill=\"#ffffff\" fill-rule=\"evenodd\" fill-opacity=\"1\"/>\n",
       "<defs>\n",
       "  <clipPath id=\"clip2202\">\n",
       "    <rect x=\"182\" y=\"47\" width=\"2172\" height=\"1441\"/>\n",
       "  </clipPath>\n",
       "</defs>\n",
       "<polyline clip-path=\"url(#clip2202)\" style=\"stroke:#000000; stroke-width:2; stroke-opacity:0.1; fill:none\" points=\"\n",
       "  588.028,1487.47 588.028,47.2441 \n",
       "  \"/>\n",
       "<polyline clip-path=\"url(#clip2202)\" style=\"stroke:#000000; stroke-width:2; stroke-opacity:0.1; fill:none\" points=\"\n",
       "  1040.93,1487.47 1040.93,47.2441 \n",
       "  \"/>\n",
       "<polyline clip-path=\"url(#clip2202)\" style=\"stroke:#000000; stroke-width:2; stroke-opacity:0.1; fill:none\" points=\"\n",
       "  1493.83,1487.47 1493.83,47.2441 \n",
       "  \"/>\n",
       "<polyline clip-path=\"url(#clip2202)\" style=\"stroke:#000000; stroke-width:2; stroke-opacity:0.1; fill:none\" points=\"\n",
       "  1946.74,1487.47 1946.74,47.2441 \n",
       "  \"/>\n",
       "<polyline clip-path=\"url(#clip2202)\" style=\"stroke:#000000; stroke-width:2; stroke-opacity:0.1; fill:none\" points=\"\n",
       "  182.008,1265.55 2352.76,1265.55 \n",
       "  \"/>\n",
       "<polyline clip-path=\"url(#clip2202)\" style=\"stroke:#000000; stroke-width:2; stroke-opacity:0.1; fill:none\" points=\"\n",
       "  182.008,993.811 2352.76,993.811 \n",
       "  \"/>\n",
       "<polyline clip-path=\"url(#clip2202)\" style=\"stroke:#000000; stroke-width:2; stroke-opacity:0.1; fill:none\" points=\"\n",
       "  182.008,722.069 2352.76,722.069 \n",
       "  \"/>\n",
       "<polyline clip-path=\"url(#clip2202)\" style=\"stroke:#000000; stroke-width:2; stroke-opacity:0.1; fill:none\" points=\"\n",
       "  182.008,450.328 2352.76,450.328 \n",
       "  \"/>\n",
       "<polyline clip-path=\"url(#clip2202)\" style=\"stroke:#000000; stroke-width:2; stroke-opacity:0.1; fill:none\" points=\"\n",
       "  182.008,178.586 2352.76,178.586 \n",
       "  \"/>\n",
       "<polyline clip-path=\"url(#clip2200)\" style=\"stroke:#000000; stroke-width:4; stroke-opacity:1; fill:none\" points=\"\n",
       "  182.008,1487.47 2352.76,1487.47 \n",
       "  \"/>\n",
       "<polyline clip-path=\"url(#clip2200)\" style=\"stroke:#000000; stroke-width:4; stroke-opacity:1; fill:none\" points=\"\n",
       "  182.008,1487.47 182.008,47.2441 \n",
       "  \"/>\n",
       "<polyline clip-path=\"url(#clip2200)\" style=\"stroke:#000000; stroke-width:4; stroke-opacity:1; fill:none\" points=\"\n",
       "  588.028,1487.47 588.028,1470.19 \n",
       "  \"/>\n",
       "<polyline clip-path=\"url(#clip2200)\" style=\"stroke:#000000; stroke-width:4; stroke-opacity:1; fill:none\" points=\"\n",
       "  1040.93,1487.47 1040.93,1470.19 \n",
       "  \"/>\n",
       "<polyline clip-path=\"url(#clip2200)\" style=\"stroke:#000000; stroke-width:4; stroke-opacity:1; fill:none\" points=\"\n",
       "  1493.83,1487.47 1493.83,1470.19 \n",
       "  \"/>\n",
       "<polyline clip-path=\"url(#clip2200)\" style=\"stroke:#000000; stroke-width:4; stroke-opacity:1; fill:none\" points=\"\n",
       "  1946.74,1487.47 1946.74,1470.19 \n",
       "  \"/>\n",
       "<polyline clip-path=\"url(#clip2200)\" style=\"stroke:#000000; stroke-width:4; stroke-opacity:1; fill:none\" points=\"\n",
       "  182.008,1265.55 208.057,1265.55 \n",
       "  \"/>\n",
       "<polyline clip-path=\"url(#clip2200)\" style=\"stroke:#000000; stroke-width:4; stroke-opacity:1; fill:none\" points=\"\n",
       "  182.008,993.811 208.057,993.811 \n",
       "  \"/>\n",
       "<polyline clip-path=\"url(#clip2200)\" style=\"stroke:#000000; stroke-width:4; stroke-opacity:1; fill:none\" points=\"\n",
       "  182.008,722.069 208.057,722.069 \n",
       "  \"/>\n",
       "<polyline clip-path=\"url(#clip2200)\" style=\"stroke:#000000; stroke-width:4; stroke-opacity:1; fill:none\" points=\"\n",
       "  182.008,450.328 208.057,450.328 \n",
       "  \"/>\n",
       "<polyline clip-path=\"url(#clip2200)\" style=\"stroke:#000000; stroke-width:4; stroke-opacity:1; fill:none\" points=\"\n",
       "  182.008,178.586 208.057,178.586 \n",
       "  \"/>\n",
       "<g clip-path=\"url(#clip2200)\">\n",
       "<text style=\"fill:#000000; fill-opacity:1; font-family:Arial,Helvetica Neue,Helvetica,sans-serif; font-size:48px; text-anchor:middle;\" transform=\"rotate(0, 588.028, 1541.47)\" x=\"588.028\" y=\"1541.47\">-0.5</text>\n",
       "</g>\n",
       "<g clip-path=\"url(#clip2200)\">\n",
       "<text style=\"fill:#000000; fill-opacity:1; font-family:Arial,Helvetica Neue,Helvetica,sans-serif; font-size:48px; text-anchor:middle;\" transform=\"rotate(0, 1040.93, 1541.47)\" x=\"1040.93\" y=\"1541.47\">0.0</text>\n",
       "</g>\n",
       "<g clip-path=\"url(#clip2200)\">\n",
       "<text style=\"fill:#000000; fill-opacity:1; font-family:Arial,Helvetica Neue,Helvetica,sans-serif; font-size:48px; text-anchor:middle;\" transform=\"rotate(0, 1493.83, 1541.47)\" x=\"1493.83\" y=\"1541.47\">0.5</text>\n",
       "</g>\n",
       "<g clip-path=\"url(#clip2200)\">\n",
       "<text style=\"fill:#000000; fill-opacity:1; font-family:Arial,Helvetica Neue,Helvetica,sans-serif; font-size:48px; text-anchor:middle;\" transform=\"rotate(0, 1946.74, 1541.47)\" x=\"1946.74\" y=\"1541.47\">1.0</text>\n",
       "</g>\n",
       "<g clip-path=\"url(#clip2200)\">\n",
       "<text style=\"fill:#000000; fill-opacity:1; font-family:Arial,Helvetica Neue,Helvetica,sans-serif; font-size:48px; text-anchor:end;\" transform=\"rotate(0, 158.008, 1283.05)\" x=\"158.008\" y=\"1283.05\">-0.3</text>\n",
       "</g>\n",
       "<g clip-path=\"url(#clip2200)\">\n",
       "<text style=\"fill:#000000; fill-opacity:1; font-family:Arial,Helvetica Neue,Helvetica,sans-serif; font-size:48px; text-anchor:end;\" transform=\"rotate(0, 158.008, 1011.31)\" x=\"158.008\" y=\"1011.31\">0.0</text>\n",
       "</g>\n",
       "<g clip-path=\"url(#clip2200)\">\n",
       "<text style=\"fill:#000000; fill-opacity:1; font-family:Arial,Helvetica Neue,Helvetica,sans-serif; font-size:48px; text-anchor:end;\" transform=\"rotate(0, 158.008, 739.569)\" x=\"158.008\" y=\"739.569\">0.3</text>\n",
       "</g>\n",
       "<g clip-path=\"url(#clip2200)\">\n",
       "<text style=\"fill:#000000; fill-opacity:1; font-family:Arial,Helvetica Neue,Helvetica,sans-serif; font-size:48px; text-anchor:end;\" transform=\"rotate(0, 158.008, 467.828)\" x=\"158.008\" y=\"467.828\">0.6</text>\n",
       "</g>\n",
       "<g clip-path=\"url(#clip2200)\">\n",
       "<text style=\"fill:#000000; fill-opacity:1; font-family:Arial,Helvetica Neue,Helvetica,sans-serif; font-size:48px; text-anchor:end;\" transform=\"rotate(0, 158.008, 196.086)\" x=\"158.008\" y=\"196.086\">0.9</text>\n",
       "</g>\n",
       "<path clip-path=\"url(#clip2202)\" d=\"\n",
       "M588.028 1446.71 L601.752 1432.99 L615.477 1419.26 L629.201 1405.54 L642.925 1391.82 L656.65 1378.09 L670.374 1364.37 L684.098 1350.64 L697.823 1336.92 L711.547 1323.19 \n",
       "  L725.271 1309.47 L738.995 1295.75 L752.72 1282.02 L766.444 1268.3 L780.168 1254.57 L793.893 1240.85 L807.617 1227.12 L821.341 1213.4 L835.066 1199.68 L848.79 1185.95 \n",
       "  L862.514 1172.23 L876.239 1158.5 L889.963 1144.78 L903.687 1131.05 L917.412 1117.33 L931.136 1103.61 L944.86 1089.88 L958.585 1076.16 L972.309 1062.43 L986.033 1048.71 \n",
       "  L999.758 1034.98 L1013.48 1021.26 L1027.21 1007.54 L1040.93 993.811 L1054.65 980.086 L1068.38 966.362 L1082.1 952.638 L1095.83 938.913 L1109.55 925.189 L1123.28 911.465 \n",
       "  L1137 897.74 L1150.73 884.016 L1164.45 870.292 L1178.17 856.568 L1191.9 842.843 L1205.62 829.119 L1219.35 815.395 L1233.07 801.67 L1246.8 787.946 L1260.52 774.222 \n",
       "  L1274.24 760.497 L1287.97 746.773 L1301.69 733.049 L1315.42 719.324 L1329.14 705.6 L1342.87 691.876 L1356.59 678.151 L1370.31 664.427 L1384.04 650.703 L1397.76 636.978 \n",
       "  L1411.49 623.254 L1425.21 609.53 L1438.94 595.805 L1452.66 582.081 L1466.38 568.357 L1480.11 554.632 L1493.83 540.908 L1507.56 527.184 L1521.28 513.459 L1535.01 499.735 \n",
       "  L1548.73 486.011 L1562.45 472.286 L1576.18 458.562 L1589.9 444.838 L1603.63 431.113 L1617.35 417.389 L1631.08 403.665 L1644.8 389.94 L1658.53 376.216 L1672.25 362.492 \n",
       "  L1685.97 348.768 L1699.7 335.043 L1713.42 321.319 L1727.15 307.595 L1740.87 293.87 L1754.6 280.146 L1768.32 266.422 L1782.04 252.697 L1795.77 238.973 L1809.49 225.249 \n",
       "  L1823.22 211.524 L1836.94 197.8 L1850.67 184.076 L1864.39 170.351 L1878.11 156.627 L1891.84 142.903 L1905.56 129.178 L1919.29 115.454 L1933.01 101.73 L1946.74 88.0053 \n",
       "  L1946.74 88.0053 L1933.01 101.73 L1919.29 115.454 L1905.56 129.178 L1891.84 142.903 L1878.11 156.627 L1864.39 170.351 L1850.67 184.076 L1836.94 197.8 L1823.22 211.524 \n",
       "  L1809.49 225.249 L1795.77 238.973 L1782.04 252.697 L1768.32 266.422 L1754.6 280.146 L1740.87 293.87 L1727.15 307.595 L1713.42 321.319 L1699.7 335.043 L1685.97 348.768 \n",
       "  L1672.25 362.492 L1658.53 376.216 L1644.8 389.94 L1631.08 403.665 L1617.35 417.389 L1603.63 431.113 L1589.9 444.838 L1576.18 458.562 L1562.45 472.286 L1548.73 486.011 \n",
       "  L1535.01 499.735 L1521.28 513.459 L1507.56 527.184 L1493.83 540.908 L1480.11 554.632 L1466.38 568.357 L1452.66 582.081 L1438.94 595.805 L1425.21 609.53 L1411.49 623.254 \n",
       "  L1397.76 636.978 L1384.04 650.703 L1370.31 664.427 L1356.59 678.151 L1342.87 691.876 L1329.14 705.6 L1315.42 719.324 L1301.69 733.049 L1287.97 746.773 L1274.24 760.497 \n",
       "  L1260.52 774.222 L1246.8 787.946 L1233.07 801.67 L1219.35 815.395 L1205.62 829.119 L1191.9 842.843 L1178.17 856.568 L1164.45 870.292 L1150.73 884.016 L1137 897.74 \n",
       "  L1123.28 911.465 L1109.55 925.189 L1095.83 938.913 L1082.1 952.638 L1068.38 966.362 L1054.65 980.086 L1040.93 993.811 L1027.21 1007.54 L1013.48 1021.26 L999.758 1034.98 \n",
       "  L986.033 1048.71 L972.309 1062.43 L958.585 1076.16 L944.86 1089.88 L931.136 1103.61 L917.412 1117.33 L903.687 1131.05 L889.963 1144.78 L876.239 1158.5 L862.514 1172.23 \n",
       "  L848.79 1185.95 L835.066 1199.68 L821.341 1213.4 L807.617 1227.12 L793.893 1240.85 L780.168 1254.57 L766.444 1268.3 L752.72 1282.02 L738.995 1295.75 L725.271 1309.47 \n",
       "  L711.547 1323.19 L697.823 1336.92 L684.098 1350.64 L670.374 1364.37 L656.65 1378.09 L642.925 1391.82 L629.201 1405.54 L615.477 1419.26 L601.752 1432.99 L588.028 1446.71 \n",
       "  L588.028 1446.71 L588.028 1446.71  Z\n",
       "  \" fill=\"#009af9\" fill-rule=\"evenodd\" fill-opacity=\"0.3\"/>\n",
       "<polyline clip-path=\"url(#clip2202)\" style=\"stroke:#000000; stroke-width:4; stroke-opacity:0.3; fill:none\" points=\"\n",
       "  588.028,1446.71 601.752,1432.99 615.477,1419.26 629.201,1405.54 642.925,1391.82 656.65,1378.09 670.374,1364.37 684.098,1350.64 697.823,1336.92 711.547,1323.19 \n",
       "  725.271,1309.47 738.995,1295.75 752.72,1282.02 766.444,1268.3 780.168,1254.57 793.893,1240.85 807.617,1227.12 821.341,1213.4 835.066,1199.68 848.79,1185.95 \n",
       "  862.514,1172.23 876.239,1158.5 889.963,1144.78 903.687,1131.05 917.412,1117.33 931.136,1103.61 944.86,1089.88 958.585,1076.16 972.309,1062.43 986.033,1048.71 \n",
       "  999.758,1034.98 1013.48,1021.26 1027.21,1007.54 1040.93,993.811 1054.65,980.086 1068.38,966.362 1082.1,952.638 1095.83,938.913 1109.55,925.189 1123.28,911.465 \n",
       "  1137,897.74 1150.73,884.016 1164.45,870.292 1178.17,856.568 1191.9,842.843 1205.62,829.119 1219.35,815.395 1233.07,801.67 1246.8,787.946 1260.52,774.222 \n",
       "  1274.24,760.497 1287.97,746.773 1301.69,733.049 1315.42,719.324 1329.14,705.6 1342.87,691.876 1356.59,678.151 1370.31,664.427 1384.04,650.703 1397.76,636.978 \n",
       "  1411.49,623.254 1425.21,609.53 1438.94,595.805 1452.66,582.081 1466.38,568.357 1480.11,554.632 1493.83,540.908 1507.56,527.184 1521.28,513.459 1535.01,499.735 \n",
       "  1548.73,486.011 1562.45,472.286 1576.18,458.562 1589.9,444.838 1603.63,431.113 1617.35,417.389 1631.08,403.665 1644.8,389.94 1658.53,376.216 1672.25,362.492 \n",
       "  1685.97,348.768 1699.7,335.043 1713.42,321.319 1727.15,307.595 1740.87,293.87 1754.6,280.146 1768.32,266.422 1782.04,252.697 1795.77,238.973 1809.49,225.249 \n",
       "  1823.22,211.524 1836.94,197.8 1850.67,184.076 1864.39,170.351 1878.11,156.627 1891.84,142.903 1905.56,129.178 1919.29,115.454 1933.01,101.73 1946.74,88.0053 \n",
       "  1933.01,101.73 1919.29,115.454 1905.56,129.178 1891.84,142.903 1878.11,156.627 1864.39,170.351 1850.67,184.076 1836.94,197.8 1823.22,211.524 \n",
       "  1809.49,225.249 1795.77,238.973 1782.04,252.697 1768.32,266.422 1754.6,280.146 1740.87,293.87 1727.15,307.595 1713.42,321.319 1699.7,335.043 1685.97,348.768 \n",
       "  1672.25,362.492 1658.53,376.216 1644.8,389.94 1631.08,403.665 1617.35,417.389 1603.63,431.113 1589.9,444.838 1576.18,458.562 1562.45,472.286 1548.73,486.011 \n",
       "  1535.01,499.735 1521.28,513.459 1507.56,527.184 1493.83,540.908 1480.11,554.632 1466.38,568.357 1452.66,582.081 1438.94,595.805 1425.21,609.53 1411.49,623.254 \n",
       "  1397.76,636.978 1384.04,650.703 1370.31,664.427 1356.59,678.151 1342.87,691.876 1329.14,705.6 1315.42,719.324 1301.69,733.049 1287.97,746.773 1274.24,760.497 \n",
       "  1260.52,774.222 1246.8,787.946 1233.07,801.67 1219.35,815.395 1205.62,829.119 1191.9,842.843 1178.17,856.568 1164.45,870.292 1150.73,884.016 1137,897.74 \n",
       "  1123.28,911.465 1109.55,925.189 1095.83,938.913 1082.1,952.638 1068.38,966.362 1054.65,980.086 1040.93,993.811 1027.21,1007.54 1013.48,1021.26 999.758,1034.98 \n",
       "  986.033,1048.71 972.309,1062.43 958.585,1076.16 944.86,1089.88 931.136,1103.61 917.412,1117.33 903.687,1131.05 889.963,1144.78 876.239,1158.5 862.514,1172.23 \n",
       "  848.79,1185.95 835.066,1199.68 821.341,1213.4 807.617,1227.12 793.893,1240.85 780.168,1254.57 766.444,1268.3 752.72,1282.02 738.995,1295.75 725.271,1309.47 \n",
       "  711.547,1323.19 697.823,1336.92 684.098,1350.64 670.374,1364.37 656.65,1378.09 642.925,1391.82 629.201,1405.54 615.477,1419.26 601.752,1432.99 588.028,1446.71 \n",
       "  \n",
       "  \"/>\n",
       "<path clip-path=\"url(#clip2200)\" d=\"\n",
       "M1989.93 251.724 L2280.76 251.724 L2280.76 130.764 L1989.93 130.764  Z\n",
       "  \" fill=\"#ffffff\" fill-rule=\"evenodd\" fill-opacity=\"1\"/>\n",
       "<polyline clip-path=\"url(#clip2200)\" style=\"stroke:#000000; stroke-width:4; stroke-opacity:1; fill:none\" points=\"\n",
       "  1989.93,251.724 2280.76,251.724 2280.76,130.764 1989.93,130.764 1989.93,251.724 \n",
       "  \"/>\n",
       "<path clip-path=\"url(#clip2200)\" d=\"\n",
       "M2013.93 215.436 L2157.93 215.436 L2157.93 167.052 L2013.93 167.052 L2013.93 215.436  Z\n",
       "  \" fill=\"#009af9\" fill-rule=\"evenodd\" fill-opacity=\"0.3\"/>\n",
       "<polyline clip-path=\"url(#clip2200)\" style=\"stroke:#000000; stroke-width:4; stroke-opacity:1; fill:none\" points=\"\n",
       "  2013.93,215.436 2157.93,215.436 2157.93,167.052 2013.93,167.052 2013.93,215.436 \n",
       "  \"/>\n",
       "<g clip-path=\"url(#clip2200)\">\n",
       "<text style=\"fill:#000000; fill-opacity:1; font-family:Arial,Helvetica Neue,Helvetica,sans-serif; font-size:48px; text-anchor:start;\" transform=\"rotate(0, 2181.93, 208.744)\" x=\"2181.93\" y=\"208.744\">y1</text>\n",
       "</g>\n",
       "</svg>\n"
      ]
     },
     "execution_count": 6,
     "metadata": {},
     "output_type": "execute_result"
    }
   ],
   "source": [
    "plot(xx, ratio=1)"
   ]
  },
  {
   "cell_type": "code",
   "execution_count": 7,
   "metadata": {},
   "outputs": [
    {
     "data": {
      "text/plain": [
       " - 8.361114845930823 - 47.06114518304093 t - 38.35444517482823 t² + 90.43760911956869 t³ + [-83.4513, 81.1457]"
      ]
     },
     "execution_count": 7,
     "metadata": {},
     "output_type": "execute_result"
    }
   ],
   "source": [
    "ff = f(xx)"
   ]
  },
  {
   "cell_type": "code",
   "execution_count": 8,
   "metadata": {},
   "outputs": [
    {
     "data": {
      "text/plain": [
       " - 8.361114845930823 - 47.06114518304093 t - 38.35444517482823 t² + 90.43760911956869 t³ + 𝒪(t⁴)"
      ]
     },
     "execution_count": 8,
     "metadata": {},
     "output_type": "execute_result"
    }
   ],
   "source": [
    "ff.pol"
   ]
  },
  {
   "cell_type": "code",
   "execution_count": 10,
   "metadata": {},
   "outputs": [
    {
     "data": {
      "application/vnd.webio.node+json": {
       "children": [
        {
         "children": [
          {
           "children": [
            {
             "children": [
              {
               "children": [
                {
                 "children": [
                  ""
                 ],
                 "instanceArgs": {
                  "namespace": "html",
                  "tag": "label"
                 },
                 "nodeType": "DOM",
                 "props": {
                  "className": "interact ",
                  "style": {
                   "padding": "5px 10px 0px 10px"
                  }
                 },
                 "type": "node"
                }
               ],
               "instanceArgs": {
                "namespace": "html",
                "tag": "div"
               },
               "nodeType": "DOM",
               "props": {
                "className": "interact-flex-row-left"
               },
               "type": "node"
              },
              {
               "children": [
                {
                 "children": [],
                 "instanceArgs": {
                  "namespace": "html",
                  "tag": "input"
                 },
                 "nodeType": "DOM",
                 "props": {
                  "attributes": {
                   "data-bind": "numericValue: index, valueUpdate: 'input', event: {change: function (){this.changes(this.changes()+1)}}",
                   "orient": "horizontal",
                   "type": "range"
                  },
                  "className": "slider slider is-fullwidth",
                  "max": 10,
                  "min": 1,
                  "step": 1,
                  "style": {}
                 },
                 "type": "node"
                }
               ],
               "instanceArgs": {
                "namespace": "html",
                "tag": "div"
               },
               "nodeType": "DOM",
               "props": {
                "className": "interact-flex-row-center"
               },
               "type": "node"
              },
              {
               "children": [
                {
                 "children": [],
                 "instanceArgs": {
                  "namespace": "html",
                  "tag": "p"
                 },
                 "nodeType": "DOM",
                 "props": {
                  "attributes": {
                   "data-bind": "text: formatted_val"
                  }
                 },
                 "type": "node"
                }
               ],
               "instanceArgs": {
                "namespace": "html",
                "tag": "div"
               },
               "nodeType": "DOM",
               "props": {
                "className": "interact-flex-row-right"
               },
               "type": "node"
              }
             ],
             "instanceArgs": {
              "namespace": "html",
              "tag": "div"
             },
             "nodeType": "DOM",
             "props": {
              "className": "interact-flex-row interact-widget"
             },
             "type": "node"
            }
           ],
           "instanceArgs": {
            "handlers": {
             "changes": [
              "(function (val){return (val!=this.model[\"changes\"]()) ? (this.valueFromJulia[\"changes\"]=true, this.model[\"changes\"](val)) : undefined})"
             ],
             "index": [
              "(function (val){return (val!=this.model[\"index\"]()) ? (this.valueFromJulia[\"index\"]=true, this.model[\"index\"](val)) : undefined})"
             ]
            },
            "id": "8077181893187044820",
            "imports": {
             "data": [
              {
               "name": "knockout",
               "type": "js",
               "url": "/assetserver/9a186147d51179d2ec12ccfac1799b0b805a79d5-knockout.js"
              },
              {
               "name": "knockout_punches",
               "type": "js",
               "url": "/assetserver/eccef011301f679ebde0900f01478cac573870ce-knockout_punches.js"
              },
              {
               "name": null,
               "type": "js",
               "url": "/assetserver/5d2042c6908ffff0b7c8d26135740476bcf00827-all.js"
              },
              {
               "name": null,
               "type": "css",
               "url": "/assetserver/87ad319ae61de5d44f67c268a0a8f65862fca478-style.css"
              },
              {
               "name": null,
               "type": "css",
               "url": "/assetserver/9354074556c360cc537db1e8b0f0283e19c8ea9d-bulma_confined.min.css"
              }
             ],
             "type": "async_block"
            },
            "mount_callbacks": [
             "function () {\n    var handler = (function (ko, koPunches) {\n    ko.punches.enableAll();\n    ko.bindingHandlers.numericValue = {\n        init: function(element, valueAccessor, allBindings, data, context) {\n            var stringified = ko.observable(ko.unwrap(valueAccessor()));\n            stringified.subscribe(function(value) {\n                var val = parseFloat(value);\n                if (!isNaN(val)) {\n                    valueAccessor()(val);\n                }\n            });\n            valueAccessor().subscribe(function(value) {\n                var str = JSON.stringify(value);\n                if ((str == \"0\") && ([\"-0\", \"-0.\"].indexOf(stringified()) >= 0))\n                     return;\n                 if ([\"null\", \"\"].indexOf(str) >= 0)\n                     return;\n                stringified(str);\n            });\n            ko.applyBindingsToNode(\n                element,\n                {\n                    value: stringified,\n                    valueUpdate: allBindings.get('valueUpdate'),\n                },\n                context,\n            );\n        }\n    };\n    var json_data = {\"formatted_vals\":[\"1\",\"2\",\"3\",\"4\",\"5\",\"6\",\"7\",\"8\",\"9\",\"10\"],\"changes\":WebIO.getval({\"name\":\"changes\",\"scope\":\"8077181893187044820\",\"id\":\"ob_10\",\"type\":\"observable\"}),\"index\":WebIO.getval({\"name\":\"index\",\"scope\":\"8077181893187044820\",\"id\":\"ob_09\",\"type\":\"observable\"})};\n    var self = this;\n    function AppViewModel() {\n        for (var key in json_data) {\n            var el = json_data[key];\n            this[key] = Array.isArray(el) ? ko.observableArray(el) : ko.observable(el);\n        }\n        \n        [this[\"formatted_val\"]=ko.computed(    function(){\n        return this.formatted_vals()[parseInt(this.index())-(1)];\n    }\n,this)]\n        [this[\"changes\"].subscribe((function (val){!(this.valueFromJulia[\"changes\"]) ? (WebIO.setval({\"name\":\"changes\",\"scope\":\"8077181893187044820\",\"id\":\"ob_10\",\"type\":\"observable\"},val)) : undefined; return this.valueFromJulia[\"changes\"]=false}),self),this[\"index\"].subscribe((function (val){!(this.valueFromJulia[\"index\"]) ? (WebIO.setval({\"name\":\"index\",\"scope\":\"8077181893187044820\",\"id\":\"ob_09\",\"type\":\"observable\"},val)) : undefined; return this.valueFromJulia[\"index\"]=false}),self)]\n        \n    }\n    self.model = new AppViewModel();\n    self.valueFromJulia = {};\n    for (var key in json_data) {\n        self.valueFromJulia[key] = false;\n    }\n    ko.applyBindings(self.model, self.dom);\n}\n);\n    (WebIO.importBlock({\"data\":[{\"name\":\"knockout\",\"type\":\"js\",\"url\":\"/assetserver/9a186147d51179d2ec12ccfac1799b0b805a79d5-knockout.js\"},{\"name\":\"knockout_punches\",\"type\":\"js\",\"url\":\"/assetserver/eccef011301f679ebde0900f01478cac573870ce-knockout_punches.js\"}],\"type\":\"async_block\"})).then((imports) => handler.apply(this, imports));\n}\n"
            ],
            "observables": {
             "changes": {
              "id": "ob_10",
              "sync": false,
              "value": 0
             },
             "index": {
              "id": "ob_09",
              "sync": true,
              "value": 1
             }
            },
            "systemjs_options": null
           },
           "nodeType": "Scope",
           "props": {},
           "type": "node"
          }
         ],
         "instanceArgs": {
          "namespace": "html",
          "tag": "div"
         },
         "nodeType": "DOM",
         "props": {
          "className": "field interact-widget"
         },
         "type": "node"
        },
        {
         "children": [
          {
           "children": [
            {
             "children": [
              {
               "children": [
                {
                 "children": [
                  "y"
                 ],
                 "instanceArgs": {
                  "namespace": "html",
                  "tag": "label"
                 },
                 "nodeType": "DOM",
                 "props": {
                  "className": "interact ",
                  "style": {
                   "padding": "5px 10px 0px 10px"
                  }
                 },
                 "type": "node"
                }
               ],
               "instanceArgs": {
                "namespace": "html",
                "tag": "div"
               },
               "nodeType": "DOM",
               "props": {
                "className": "interact-flex-row-left"
               },
               "type": "node"
              },
              {
               "children": [
                {
                 "children": [],
                 "instanceArgs": {
                  "namespace": "html",
                  "tag": "input"
                 },
                 "nodeType": "DOM",
                 "props": {
                  "attributes": {
                   "data-bind": "numericValue: index, valueUpdate: 'input', event: {change: function (){this.changes(this.changes()+1)}}",
                   "orient": "horizontal",
                   "type": "range"
                  },
                  "className": "slider slider is-fullwidth",
                  "max": 100,
                  "min": 1,
                  "step": 1,
                  "style": {}
                 },
                 "type": "node"
                }
               ],
               "instanceArgs": {
                "namespace": "html",
                "tag": "div"
               },
               "nodeType": "DOM",
               "props": {
                "className": "interact-flex-row-center"
               },
               "type": "node"
              },
              {
               "children": [
                {
                 "children": [],
                 "instanceArgs": {
                  "namespace": "html",
                  "tag": "p"
                 },
                 "nodeType": "DOM",
                 "props": {
                  "attributes": {
                   "data-bind": "text: formatted_val"
                  }
                 },
                 "type": "node"
                }
               ],
               "instanceArgs": {
                "namespace": "html",
                "tag": "div"
               },
               "nodeType": "DOM",
               "props": {
                "className": "interact-flex-row-right"
               },
               "type": "node"
              }
             ],
             "instanceArgs": {
              "namespace": "html",
              "tag": "div"
             },
             "nodeType": "DOM",
             "props": {
              "className": "interact-flex-row interact-widget"
             },
             "type": "node"
            }
           ],
           "instanceArgs": {
            "handlers": {
             "changes": [
              "(function (val){return (val!=this.model[\"changes\"]()) ? (this.valueFromJulia[\"changes\"]=true, this.model[\"changes\"](val)) : undefined})"
             ],
             "index": [
              "(function (val){return (val!=this.model[\"index\"]()) ? (this.valueFromJulia[\"index\"]=true, this.model[\"index\"](val)) : undefined})"
             ]
            },
            "id": "5437806528319438796",
            "imports": {
             "data": [
              {
               "name": "knockout",
               "type": "js",
               "url": "/assetserver/9a186147d51179d2ec12ccfac1799b0b805a79d5-knockout.js"
              },
              {
               "name": "knockout_punches",
               "type": "js",
               "url": "/assetserver/eccef011301f679ebde0900f01478cac573870ce-knockout_punches.js"
              },
              {
               "name": null,
               "type": "js",
               "url": "/assetserver/5d2042c6908ffff0b7c8d26135740476bcf00827-all.js"
              },
              {
               "name": null,
               "type": "css",
               "url": "/assetserver/87ad319ae61de5d44f67c268a0a8f65862fca478-style.css"
              },
              {
               "name": null,
               "type": "css",
               "url": "/assetserver/9354074556c360cc537db1e8b0f0283e19c8ea9d-bulma_confined.min.css"
              }
             ],
             "type": "async_block"
            },
            "mount_callbacks": [
             "function () {\n    var handler = (function (ko, koPunches) {\n    ko.punches.enableAll();\n    ko.bindingHandlers.numericValue = {\n        init: function(element, valueAccessor, allBindings, data, context) {\n            var stringified = ko.observable(ko.unwrap(valueAccessor()));\n            stringified.subscribe(function(value) {\n                var val = parseFloat(value);\n                if (!isNaN(val)) {\n                    valueAccessor()(val);\n                }\n            });\n            valueAccessor().subscribe(function(value) {\n                var str = JSON.stringify(value);\n                if ((str == \"0\") && ([\"-0\", \"-0.\"].indexOf(stringified()) >= 0))\n                     return;\n                 if ([\"null\", \"\"].indexOf(str) >= 0)\n                     return;\n                stringified(str);\n            });\n            ko.applyBindingsToNode(\n                element,\n                {\n                    value: stringified,\n                    valueUpdate: allBindings.get('valueUpdate'),\n                },\n                context,\n            );\n        }\n    };\n    var json_data = {\"formatted_vals\":[\"1\",\"2\",\"3\",\"4\",\"5\",\"6\",\"7\",\"8\",\"9\",\"10\",\"11\",\"12\",\"13\",\"14\",\"15\",\"16\",\"17\",\"18\",\"19\",\"20\",\"21\",\"22\",\"23\",\"24\",\"25\",\"26\",\"27\",\"28\",\"29\",\"30\",\"31\",\"32\",\"33\",\"34\",\"35\",\"36\",\"37\",\"38\",\"39\",\"40\",\"41\",\"42\",\"43\",\"44\",\"45\",\"46\",\"47\",\"48\",\"49\",\"50\",\"51\",\"52\",\"53\",\"54\",\"55\",\"56\",\"57\",\"58\",\"59\",\"60\",\"61\",\"62\",\"63\",\"64\",\"65\",\"66\",\"67\",\"68\",\"69\",\"70\",\"71\",\"72\",\"73\",\"74\",\"75\",\"76\",\"77\",\"78\",\"79\",\"80\",\"81\",\"82\",\"83\",\"84\",\"85\",\"86\",\"87\",\"88\",\"89\",\"90\",\"91\",\"92\",\"93\",\"94\",\"95\",\"96\",\"97\",\"98\",\"99\",\"100\"],\"changes\":WebIO.getval({\"name\":\"changes\",\"scope\":\"5437806528319438796\",\"id\":\"ob_12\",\"type\":\"observable\"}),\"index\":WebIO.getval({\"name\":\"index\",\"scope\":\"5437806528319438796\",\"id\":\"ob_11\",\"type\":\"observable\"})};\n    var self = this;\n    function AppViewModel() {\n        for (var key in json_data) {\n            var el = json_data[key];\n            this[key] = Array.isArray(el) ? ko.observableArray(el) : ko.observable(el);\n        }\n        \n        [this[\"formatted_val\"]=ko.computed(    function(){\n        return this.formatted_vals()[parseInt(this.index())-(1)];\n    }\n,this)]\n        [this[\"changes\"].subscribe((function (val){!(this.valueFromJulia[\"changes\"]) ? (WebIO.setval({\"name\":\"changes\",\"scope\":\"5437806528319438796\",\"id\":\"ob_12\",\"type\":\"observable\"},val)) : undefined; return this.valueFromJulia[\"changes\"]=false}),self),this[\"index\"].subscribe((function (val){!(this.valueFromJulia[\"index\"]) ? (WebIO.setval({\"name\":\"index\",\"scope\":\"5437806528319438796\",\"id\":\"ob_11\",\"type\":\"observable\"},val)) : undefined; return this.valueFromJulia[\"index\"]=false}),self)]\n        \n    }\n    self.model = new AppViewModel();\n    self.valueFromJulia = {};\n    for (var key in json_data) {\n        self.valueFromJulia[key] = false;\n    }\n    ko.applyBindings(self.model, self.dom);\n}\n);\n    (WebIO.importBlock({\"data\":[{\"name\":\"knockout\",\"type\":\"js\",\"url\":\"/assetserver/9a186147d51179d2ec12ccfac1799b0b805a79d5-knockout.js\"},{\"name\":\"knockout_punches\",\"type\":\"js\",\"url\":\"/assetserver/eccef011301f679ebde0900f01478cac573870ce-knockout_punches.js\"}],\"type\":\"async_block\"})).then((imports) => handler.apply(this, imports));\n}\n"
            ],
            "observables": {
             "changes": {
              "id": "ob_12",
              "sync": false,
              "value": 0
             },
             "index": {
              "id": "ob_11",
              "sync": true,
              "value": 50
             }
            },
            "systemjs_options": null
           },
           "nodeType": "Scope",
           "props": {},
           "type": "node"
          }
         ],
         "instanceArgs": {
          "namespace": "html",
          "tag": "div"
         },
         "nodeType": "DOM",
         "props": {
          "className": "field interact-widget"
         },
         "type": "node"
        },
        {
         "children": [
          {
           "children": [],
           "instanceArgs": {
            "id": "ob_18",
            "name": "obs-node"
           },
           "nodeType": "ObservableNode",
           "props": {},
           "type": "node"
          }
         ],
         "instanceArgs": {
          "handlers": {},
          "id": "11146782750343517110",
          "imports": {
           "data": [],
           "type": "async_block"
          },
          "mount_callbacks": [],
          "observables": {
           "obs-node": {
            "id": "ob_18",
            "sync": false,
            "value": {
             "children": [
              {
               "children": [],
               "instanceArgs": {
                "namespace": "html",
                "tag": "div"
               },
               "nodeType": "DOM",
               "props": {
                "setInnerHtml": "<?xml version=\"1.0\" encoding=\"utf-8\"?>\n<svg xmlns=\"http://www.w3.org/2000/svg\" xmlns:xlink=\"http://www.w3.org/1999/xlink\" width=\"600\" height=\"400\" viewBox=\"0 0 2400 1600\">\n<defs>\n  <clipPath id=\"clip7000\">\n    <rect x=\"0\" y=\"0\" width=\"2400\" height=\"1600\"/>\n  </clipPath>\n</defs>\n<path clip-path=\"url(#clip7000)\" d=\"\nM0 1600 L2400 1600 L2400 0 L0 0  Z\n  \" fill=\"#ffffff\" fill-rule=\"evenodd\" fill-opacity=\"1\"/>\n<defs>\n  <clipPath id=\"clip7001\">\n    <rect x=\"480\" y=\"0\" width=\"1681\" height=\"1600\"/>\n  </clipPath>\n</defs>\n<path clip-path=\"url(#clip7000)\" d=\"\nM168.627 1487.47 L2352.76 1487.47 L2352.76 47.2441 L168.627 47.2441  Z\n  \" fill=\"#ffffff\" fill-rule=\"evenodd\" fill-opacity=\"1\"/>\n<defs>\n  <clipPath id=\"clip7002\">\n    <rect x=\"168\" y=\"47\" width=\"2185\" height=\"1441\"/>\n  </clipPath>\n</defs>\n<polyline clip-path=\"url(#clip7002)\" style=\"stroke:#000000; stroke-width:2; stroke-opacity:0.1; fill:none\" points=\"\n  547.94,1487.47 547.94,47.2441 \n  \"/>\n<polyline clip-path=\"url(#clip7002)\" style=\"stroke:#000000; stroke-width:2; stroke-opacity:0.1; fill:none\" points=\"\n  936.714,1487.47 936.714,47.2441 \n  \"/>\n<polyline clip-path=\"url(#clip7002)\" style=\"stroke:#000000; stroke-width:2; stroke-opacity:0.1; fill:none\" points=\"\n  1325.49,1487.47 1325.49,47.2441 \n  \"/>\n<polyline clip-path=\"url(#clip7002)\" style=\"stroke:#000000; stroke-width:2; stroke-opacity:0.1; fill:none\" points=\"\n  1714.26,1487.47 1714.26,47.2441 \n  \"/>\n<polyline clip-path=\"url(#clip7002)\" style=\"stroke:#000000; stroke-width:2; stroke-opacity:0.1; fill:none\" points=\"\n  2103.03,1487.47 2103.03,47.2441 \n  \"/>\n<polyline clip-path=\"url(#clip7002)\" style=\"stroke:#000000; stroke-width:2; stroke-opacity:0.1; fill:none\" points=\"\n  168.627,1487.47 2352.76,1487.47 \n  \"/>\n<polyline clip-path=\"url(#clip7002)\" style=\"stroke:#000000; stroke-width:2; stroke-opacity:0.1; fill:none\" points=\"\n  168.627,1127.42 2352.76,1127.42 \n  \"/>\n<polyline clip-path=\"url(#clip7002)\" style=\"stroke:#000000; stroke-width:2; stroke-opacity:0.1; fill:none\" points=\"\n  168.627,767.359 2352.76,767.359 \n  \"/>\n<polyline clip-path=\"url(#clip7002)\" style=\"stroke:#000000; stroke-width:2; stroke-opacity:0.1; fill:none\" points=\"\n  168.627,407.302 2352.76,407.302 \n  \"/>\n<polyline clip-path=\"url(#clip7002)\" style=\"stroke:#000000; stroke-width:2; stroke-opacity:0.1; fill:none\" points=\"\n  168.627,47.2441 2352.76,47.2441 \n  \"/>\n<polyline clip-path=\"url(#clip7000)\" style=\"stroke:#000000; stroke-width:4; stroke-opacity:1; fill:none\" points=\"\n  168.627,1487.47 2352.76,1487.47 \n  \"/>\n<polyline clip-path=\"url(#clip7000)\" style=\"stroke:#000000; stroke-width:4; stroke-opacity:1; fill:none\" points=\"\n  168.627,1487.47 168.627,47.2441 \n  \"/>\n<polyline clip-path=\"url(#clip7000)\" style=\"stroke:#000000; stroke-width:4; stroke-opacity:1; fill:none\" points=\"\n  547.94,1487.47 547.94,1470.19 \n  \"/>\n<polyline clip-path=\"url(#clip7000)\" style=\"stroke:#000000; stroke-width:4; stroke-opacity:1; fill:none\" points=\"\n  936.714,1487.47 936.714,1470.19 \n  \"/>\n<polyline clip-path=\"url(#clip7000)\" style=\"stroke:#000000; stroke-width:4; stroke-opacity:1; fill:none\" points=\"\n  1325.49,1487.47 1325.49,1470.19 \n  \"/>\n<polyline clip-path=\"url(#clip7000)\" style=\"stroke:#000000; stroke-width:4; stroke-opacity:1; fill:none\" points=\"\n  1714.26,1487.47 1714.26,1470.19 \n  \"/>\n<polyline clip-path=\"url(#clip7000)\" style=\"stroke:#000000; stroke-width:4; stroke-opacity:1; fill:none\" points=\"\n  2103.03,1487.47 2103.03,1470.19 \n  \"/>\n<polyline clip-path=\"url(#clip7000)\" style=\"stroke:#000000; stroke-width:4; stroke-opacity:1; fill:none\" points=\"\n  168.627,1487.47 194.836,1487.47 \n  \"/>\n<polyline clip-path=\"url(#clip7000)\" style=\"stroke:#000000; stroke-width:4; stroke-opacity:1; fill:none\" points=\"\n  168.627,1127.42 194.836,1127.42 \n  \"/>\n<polyline clip-path=\"url(#clip7000)\" style=\"stroke:#000000; stroke-width:4; stroke-opacity:1; fill:none\" points=\"\n  168.627,767.359 194.836,767.359 \n  \"/>\n<polyline clip-path=\"url(#clip7000)\" style=\"stroke:#000000; stroke-width:4; stroke-opacity:1; fill:none\" points=\"\n  168.627,407.302 194.836,407.302 \n  \"/>\n<polyline clip-path=\"url(#clip7000)\" style=\"stroke:#000000; stroke-width:4; stroke-opacity:1; fill:none\" points=\"\n  168.627,47.2441 194.836,47.2441 \n  \"/>\n<g clip-path=\"url(#clip7000)\">\n<text style=\"fill:#000000; fill-opacity:1; font-family:Arial,Helvetica Neue,Helvetica,sans-serif; font-size:48px; text-anchor:middle;\" transform=\"rotate(0, 547.94, 1541.47)\" x=\"547.94\" y=\"1541.47\">-0.3</text>\n</g>\n<g clip-path=\"url(#clip7000)\">\n<text style=\"fill:#000000; fill-opacity:1; font-family:Arial,Helvetica Neue,Helvetica,sans-serif; font-size:48px; text-anchor:middle;\" transform=\"rotate(0, 936.714, 1541.47)\" x=\"936.714\" y=\"1541.47\">0.0</text>\n</g>\n<g clip-path=\"url(#clip7000)\">\n<text style=\"fill:#000000; fill-opacity:1; font-family:Arial,Helvetica Neue,Helvetica,sans-serif; font-size:48px; text-anchor:middle;\" transform=\"rotate(0, 1325.49, 1541.47)\" x=\"1325.49\" y=\"1541.47\">0.3</text>\n</g>\n<g clip-path=\"url(#clip7000)\">\n<text style=\"fill:#000000; fill-opacity:1; font-family:Arial,Helvetica Neue,Helvetica,sans-serif; font-size:48px; text-anchor:middle;\" transform=\"rotate(0, 1714.26, 1541.47)\" x=\"1714.26\" y=\"1541.47\">0.6</text>\n</g>\n<g clip-path=\"url(#clip7000)\">\n<text style=\"fill:#000000; fill-opacity:1; font-family:Arial,Helvetica Neue,Helvetica,sans-serif; font-size:48px; text-anchor:middle;\" transform=\"rotate(0, 2103.03, 1541.47)\" x=\"2103.03\" y=\"1541.47\">0.9</text>\n</g>\n<g clip-path=\"url(#clip7000)\">\n<text style=\"fill:#000000; fill-opacity:1; font-family:Arial,Helvetica Neue,Helvetica,sans-serif; font-size:48px; text-anchor:end;\" transform=\"rotate(0, 144.627, 1504.97)\" x=\"144.627\" y=\"1504.97\">-50</text>\n</g>\n<g clip-path=\"url(#clip7000)\">\n<text style=\"fill:#000000; fill-opacity:1; font-family:Arial,Helvetica Neue,Helvetica,sans-serif; font-size:48px; text-anchor:end;\" transform=\"rotate(0, 144.627, 1144.92)\" x=\"144.627\" y=\"1144.92\">-25</text>\n</g>\n<g clip-path=\"url(#clip7000)\">\n<text style=\"fill:#000000; fill-opacity:1; font-family:Arial,Helvetica Neue,Helvetica,sans-serif; font-size:48px; text-anchor:end;\" transform=\"rotate(0, 144.627, 784.859)\" x=\"144.627\" y=\"784.859\">0</text>\n</g>\n<g clip-path=\"url(#clip7000)\">\n<text style=\"fill:#000000; fill-opacity:1; font-family:Arial,Helvetica Neue,Helvetica,sans-serif; font-size:48px; text-anchor:end;\" transform=\"rotate(0, 144.627, 424.802)\" x=\"144.627\" y=\"424.802\">25</text>\n</g>\n<g clip-path=\"url(#clip7000)\">\n<text style=\"fill:#000000; fill-opacity:1; font-family:Arial,Helvetica Neue,Helvetica,sans-serif; font-size:48px; text-anchor:end;\" transform=\"rotate(0, 144.627, 64.7441)\" x=\"144.627\" y=\"64.7441\">50</text>\n</g>\n<polyline clip-path=\"url(#clip7002)\" style=\"stroke:#009af9; stroke-width:12; stroke-opacity:1; fill:none\" points=\"\n  288.758,817.732 301.717,815.14 314.676,812.533 327.635,809.916 340.594,807.292 353.553,804.666 366.513,802.044 379.472,799.43 392.431,796.829 405.39,794.246 \n  418.349,791.687 431.308,789.155 444.267,786.657 457.226,784.198 470.185,781.783 483.145,779.417 496.104,777.107 509.063,774.856 522.022,772.671 534.981,770.557 \n  547.94,768.52 560.899,766.564 573.858,764.696 586.817,762.921 599.777,761.243 612.736,759.669 625.695,758.203 638.654,756.851 651.613,755.618 664.572,754.509 \n  677.531,753.528 690.49,752.681 703.45,751.973 716.409,751.407 729.368,750.989 742.327,750.722 755.286,750.611 768.245,750.661 781.204,750.874 794.163,751.255 \n  807.122,751.807 820.082,752.533 833.041,753.437 846,754.522 858.959,755.789 871.918,757.242 884.877,758.883 897.836,760.713 910.795,762.735 923.754,764.95 \n  936.714,767.359 949.673,769.963 962.632,772.763 975.591,775.759 988.55,778.95 1001.51,782.338 1014.47,785.92 1027.43,789.697 1040.39,793.666 1053.35,797.827 \n  1066.3,802.177 1079.26,806.714 1092.22,811.436 1105.18,816.339 1118.14,821.421 1131.1,826.677 1144.06,832.104 1157.02,837.697 1169.98,843.451 1182.94,849.362 \n  1195.9,855.424 1208.85,861.631 1221.81,867.976 1234.77,874.454 1247.73,881.057 1260.69,887.779 1273.65,894.611 1286.61,901.545 1299.57,908.573 1312.53,915.687 \n  1325.49,922.877 1338.45,930.135 1351.41,937.449 1364.36,944.811 1377.32,952.21 1390.28,959.636 1403.24,967.077 1416.2,974.522 1429.16,981.96 1442.12,989.379 \n  1455.08,996.767 1468.04,1004.11 1481,1011.4 1493.96,1018.62 1506.91,1025.76 1519.87,1032.81 1532.83,1039.75 1545.79,1046.56 1558.75,1053.25 1571.71,1059.78 \n  1584.67,1066.15 1597.63,1072.35 1610.59,1078.36 1623.55,1084.16 1636.51,1089.75 1649.46,1095.11 1662.42,1100.22 1675.38,1105.07 1688.34,1109.65 1701.3,1113.95 \n  1714.26,1117.94 1727.22,1121.62 1740.18,1124.98 1753.14,1127.99 1766.1,1130.65 1779.06,1132.95 1792.02,1134.87 1804.97,1136.41 1817.93,1137.54 1830.89,1138.26 \n  1843.85,1138.56 1856.81,1138.43 1869.77,1137.85 1882.73,1136.83 1895.69,1135.34 1908.65,1133.39 1921.61,1130.95 1934.57,1128.04 1947.52,1124.64 1960.48,1120.74 \n  1973.44,1116.34 1986.4,1111.44 1999.36,1106.03 2012.32,1100.11 2025.28,1093.67 2038.24,1086.73 2051.2,1079.28 2064.16,1071.31 2077.12,1062.84 2090.07,1053.86 \n  2103.03,1044.38 2115.99,1034.41 2128.95,1023.94 2141.91,1013 2154.87,1001.59 2167.83,989.709 2180.79,977.383 2193.75,964.62 2206.71,951.434 2219.67,937.841 \n  2232.62,923.858 \n  \"/>\n<circle clip-path=\"url(#clip7002)\" style=\"fill:#000000; stroke:none; fill-opacity:1\" cx=\"1260.69\" cy=\"887.779\" r=\"18\"/>\n<circle clip-path=\"url(#clip7002)\" style=\"fill:#e26f46; stroke:none; fill-opacity:1\" cx=\"1260.69\" cy=\"887.779\" r=\"14\"/>\n<path clip-path=\"url(#clip7002)\" d=\"\nM288.758 5146.09 L308.393 5156.36 L328.028 5166.63 L347.663 5176.9 L367.298 5187.17 L386.933 5197.44 L406.568 5207.71 L426.203 5217.98 L445.838 5228.25 L465.473 5238.52 \n  L485.108 5248.79 L504.743 5259.06 L524.378 5269.33 L544.013 5279.6 L563.648 5289.87 L583.283 5300.14 L602.918 5310.4 L622.553 5320.67 L642.188 5330.94 L661.823 5341.21 \n  L681.458 5351.48 L701.093 5361.75 L720.728 5372.02 L740.363 5382.29 L759.998 5392.56 L779.633 5402.83 L799.268 5413.1 L818.903 5423.37 L838.538 5433.64 L858.173 5443.91 \n  L877.808 5454.18 L897.444 5464.45 L917.079 5474.72 L936.714 5484.99 L956.349 5495.26 L975.984 5505.53 L995.619 5515.8 L1015.25 5526.06 L1034.89 5536.33 L1054.52 5546.6 \n  L1074.16 5556.87 L1093.79 5567.14 L1113.43 5577.41 L1133.06 5587.68 L1152.7 5597.95 L1172.33 5608.22 L1191.97 5618.49 L1211.6 5628.76 L1231.24 5639.03 L1250.87 5649.3 \n  L1270.51 5659.57 L1290.14 5669.84 L1309.78 5680.11 L1329.41 5690.38 L1349.05 5700.65 L1368.68 5710.92 L1388.32 5721.19 L1407.95 5731.46 L1427.59 5741.73 L1447.22 5751.99 \n  L1466.86 5762.26 L1486.49 5772.53 L1506.13 5782.8 L1525.76 5793.07 L1545.4 5803.34 L1565.03 5813.61 L1584.67 5823.88 L1604.3 5834.15 L1623.94 5844.42 L1643.57 5854.69 \n  L1663.21 5864.96 L1682.84 5875.23 L1702.48 5885.5 L1722.11 5895.77 L1741.75 5906.04 L1761.38 5916.31 L1781.02 5926.58 L1800.65 5936.85 L1820.29 5947.12 L1839.92 5957.39 \n  L1859.56 5967.65 L1879.19 5977.92 L1898.83 5988.19 L1918.46 5998.46 L1938.1 6008.73 L1957.73 6019 L1977.37 6029.27 L1997 6039.54 L2016.64 6049.81 L2036.27 6060.08 \n  L2055.91 6070.35 L2075.54 6080.62 L2095.18 6090.89 L2114.81 6101.16 L2134.45 6111.43 L2154.08 6121.7 L2173.72 6131.97 L2193.35 6142.24 L2212.99 6152.51 L2232.62 6162.78 \n  L2232.62 -3615.65 L2212.99 -3625.92 L2193.35 -3636.19 L2173.72 -3646.46 L2154.08 -3656.73 L2134.45 -3667 L2114.81 -3677.27 L2095.18 -3687.54 L2075.54 -3697.81 L2055.91 -3708.08 \n  L2036.27 -3718.35 L2016.64 -3728.62 L1997 -3738.89 L1977.37 -3749.16 L1957.73 -3759.43 L1938.1 -3769.7 L1918.46 -3779.97 L1898.83 -3790.24 L1879.19 -3800.5 L1859.56 -3810.77 \n  L1839.92 -3821.04 L1820.29 -3831.31 L1800.65 -3841.58 L1781.02 -3851.85 L1761.38 -3862.12 L1741.75 -3872.39 L1722.11 -3882.66 L1702.48 -3892.93 L1682.84 -3903.2 L1663.21 -3913.47 \n  L1643.57 -3923.74 L1623.94 -3934.01 L1604.3 -3944.28 L1584.67 -3954.55 L1565.03 -3964.82 L1545.4 -3975.09 L1525.76 -3985.36 L1506.13 -3995.63 L1486.49 -4005.9 L1466.86 -4016.16 \n  L1447.22 -4026.43 L1427.59 -4036.7 L1407.95 -4046.97 L1388.32 -4057.24 L1368.68 -4067.51 L1349.05 -4077.78 L1329.41 -4088.05 L1309.78 -4098.32 L1290.14 -4108.59 L1270.51 -4118.86 \n  L1250.87 -4129.13 L1231.24 -4139.4 L1211.6 -4149.67 L1191.97 -4159.94 L1172.33 -4170.21 L1152.7 -4180.48 L1133.06 -4190.75 L1113.43 -4201.02 L1093.79 -4211.29 L1074.16 -4221.56 \n  L1054.52 -4231.83 L1034.89 -4242.09 L1015.25 -4252.36 L995.619 -4262.63 L975.984 -4272.9 L956.349 -4283.17 L936.714 -4293.44 L917.079 -4303.71 L897.444 -4313.98 L877.808 -4324.25 \n  L858.173 -4334.52 L838.538 -4344.79 L818.903 -4355.06 L799.268 -4365.33 L779.633 -4375.6 L759.998 -4385.87 L740.363 -4396.14 L720.728 -4406.41 L701.093 -4416.68 L681.458 -4426.95 \n  L661.823 -4437.22 L642.188 -4447.49 L622.553 -4457.75 L602.918 -4468.02 L583.283 -4478.29 L563.648 -4488.56 L544.013 -4498.83 L524.378 -4509.1 L504.743 -4519.37 L485.108 -4529.64 \n  L465.473 -4539.91 L445.838 -4550.18 L426.203 -4560.45 L406.568 -4570.72 L386.933 -4580.99 L367.298 -4591.26 L347.663 -4601.53 L328.028 -4611.8 L308.393 -4622.07 L288.758 -4632.34 \n  L288.758 5146.09 L288.758 5146.09  Z\n  \" fill=\"#3da44d\" fill-rule=\"evenodd\" fill-opacity=\"0.3\"/>\n<polyline clip-path=\"url(#clip7002)\" style=\"stroke:#000000; stroke-width:4; stroke-opacity:0.3; fill:none\" points=\"\n  288.758,5146.09 308.393,5156.36 328.028,5166.63 347.663,5176.9 367.298,5187.17 386.933,5197.44 406.568,5207.71 426.203,5217.98 445.838,5228.25 465.473,5238.52 \n  485.108,5248.79 504.743,5259.06 524.378,5269.33 544.013,5279.6 563.648,5289.87 583.283,5300.14 602.918,5310.4 622.553,5320.67 642.188,5330.94 661.823,5341.21 \n  681.458,5351.48 701.093,5361.75 720.728,5372.02 740.363,5382.29 759.998,5392.56 779.633,5402.83 799.268,5413.1 818.903,5423.37 838.538,5433.64 858.173,5443.91 \n  877.808,5454.18 897.444,5464.45 917.079,5474.72 936.714,5484.99 956.349,5495.26 975.984,5505.53 995.619,5515.8 1015.25,5526.06 1034.89,5536.33 1054.52,5546.6 \n  1074.16,5556.87 1093.79,5567.14 1113.43,5577.41 1133.06,5587.68 1152.7,5597.95 1172.33,5608.22 1191.97,5618.49 1211.6,5628.76 1231.24,5639.03 1250.87,5649.3 \n  1270.51,5659.57 1290.14,5669.84 1309.78,5680.11 1329.41,5690.38 1349.05,5700.65 1368.68,5710.92 1388.32,5721.19 1407.95,5731.46 1427.59,5741.73 1447.22,5751.99 \n  1466.86,5762.26 1486.49,5772.53 1506.13,5782.8 1525.76,5793.07 1545.4,5803.34 1565.03,5813.61 1584.67,5823.88 1604.3,5834.15 1623.94,5844.42 1643.57,5854.69 \n  1663.21,5864.96 1682.84,5875.23 1702.48,5885.5 1722.11,5895.77 1741.75,5906.04 1761.38,5916.31 1781.02,5926.58 1800.65,5936.85 1820.29,5947.12 1839.92,5957.39 \n  1859.56,5967.65 1879.19,5977.92 1898.83,5988.19 1918.46,5998.46 1938.1,6008.73 1957.73,6019 1977.37,6029.27 1997,6039.54 2016.64,6049.81 2036.27,6060.08 \n  2055.91,6070.35 2075.54,6080.62 2095.18,6090.89 2114.81,6101.16 2134.45,6111.43 2154.08,6121.7 2173.72,6131.97 2193.35,6142.24 2212.99,6152.51 2232.62,6162.78 \n  2232.62,-3615.65 2212.99,-3625.92 2193.35,-3636.19 2173.72,-3646.46 2154.08,-3656.73 2134.45,-3667 2114.81,-3677.27 2095.18,-3687.54 2075.54,-3697.81 2055.91,-3708.08 \n  2036.27,-3718.35 2016.64,-3728.62 1997,-3738.89 1977.37,-3749.16 1957.73,-3759.43 1938.1,-3769.7 1918.46,-3779.97 1898.83,-3790.24 1879.19,-3800.5 1859.56,-3810.77 \n  1839.92,-3821.04 1820.29,-3831.31 1800.65,-3841.58 1781.02,-3851.85 1761.38,-3862.12 1741.75,-3872.39 1722.11,-3882.66 1702.48,-3892.93 1682.84,-3903.2 1663.21,-3913.47 \n  1643.57,-3923.74 1623.94,-3934.01 1604.3,-3944.28 1584.67,-3954.55 1565.03,-3964.82 1545.4,-3975.09 1525.76,-3985.36 1506.13,-3995.63 1486.49,-4005.9 1466.86,-4016.16 \n  1447.22,-4026.43 1427.59,-4036.7 1407.95,-4046.97 1388.32,-4057.24 1368.68,-4067.51 1349.05,-4077.78 1329.41,-4088.05 1309.78,-4098.32 1290.14,-4108.59 1270.51,-4118.86 \n  1250.87,-4129.13 1231.24,-4139.4 1211.6,-4149.67 1191.97,-4159.94 1172.33,-4170.21 1152.7,-4180.48 1133.06,-4190.75 1113.43,-4201.02 1093.79,-4211.29 1074.16,-4221.56 \n  1054.52,-4231.83 1034.89,-4242.09 1015.25,-4252.36 995.619,-4262.63 975.984,-4272.9 956.349,-4283.17 936.714,-4293.44 917.079,-4303.71 897.444,-4313.98 877.808,-4324.25 \n  858.173,-4334.52 838.538,-4344.79 818.903,-4355.06 799.268,-4365.33 779.633,-4375.6 759.998,-4385.87 740.363,-4396.14 720.728,-4406.41 701.093,-4416.68 681.458,-4426.95 \n  661.823,-4437.22 642.188,-4447.49 622.553,-4457.75 602.918,-4468.02 583.283,-4478.29 563.648,-4488.56 544.013,-4498.83 524.378,-4509.1 504.743,-4519.37 485.108,-4529.64 \n  465.473,-4539.91 445.838,-4550.18 426.203,-4560.45 406.568,-4570.72 386.933,-4580.99 367.298,-4591.26 347.663,-4601.53 328.028,-4611.8 308.393,-4622.07 288.758,-4632.34 \n  288.758,5146.09 \n  \"/>\n<polyline clip-path=\"url(#clip7002)\" style=\"stroke:#c271d2; stroke-width:8; stroke-opacity:1; fill:none\" stroke-dasharray=\"32, 20\" points=\"\n  230.442,348.936 250.564,359.461 436.626,456.775 548.441,515.257 642.979,564.702 745.674,618.414 840.349,667.931 941.852,721.019 1059.45,782.526 1163.96,837.187 \n  1255.61,885.119 1355.52,937.379 1456.04,989.948 1567.17,1048.07 1672.9,1103.37 1782.84,1160.87 1875.39,1209.28 1988.38,1268.37 2094.59,1323.93 2264.75,1412.92 \n  2290.94,1426.62 \n  \"/>\n</svg>\n"
               },
               "type": "node"
              }
             ],
             "instanceArgs": {
              "namespace": "html",
              "tag": "div"
             },
             "nodeType": "DOM",
             "props": {
              "className": "interact-flex-row interact-widget"
             },
             "type": "node"
            }
           }
          },
          "systemjs_options": null
         },
         "nodeType": "Scope",
         "props": {},
         "type": "node"
        }
       ],
       "instanceArgs": {
        "namespace": "html",
        "tag": "div"
       },
       "nodeType": "DOM",
       "props": {},
       "type": "node"
      },
      "text/html": [
       "<div\n",
       "    class=\"webio-mountpoint\"\n",
       "    data-webio-mountpoint=\"15807228466301408700\"\n",
       ">\n",
       "    <script>\n",
       "    if (window.require && require.defined && require.defined(\"nbextensions/webio-jupyter-notebook\")) {\n",
       "        console.log(\"Jupyter WebIO extension detected, not mounting.\");\n",
       "    } else if (window.WebIO) {\n",
       "        WebIO.mount(\n",
       "            document.querySelector('[data-webio-mountpoint=\"15807228466301408700\"]'),\n",
       "            {\"props\":{},\"nodeType\":\"DOM\",\"type\":\"node\",\"instanceArgs\":{\"namespace\":\"html\",\"tag\":\"div\"},\"children\":[{\"props\":{\"className\":\"field interact-widget\"},\"nodeType\":\"DOM\",\"type\":\"node\",\"instanceArgs\":{\"namespace\":\"html\",\"tag\":\"div\"},\"children\":[{\"props\":{},\"nodeType\":\"Scope\",\"type\":\"node\",\"instanceArgs\":{\"imports\":{\"data\":[{\"name\":\"knockout\",\"type\":\"js\",\"url\":\"\\/assetserver\\/9a186147d51179d2ec12ccfac1799b0b805a79d5-knockout.js\"},{\"name\":\"knockout_punches\",\"type\":\"js\",\"url\":\"\\/assetserver\\/eccef011301f679ebde0900f01478cac573870ce-knockout_punches.js\"},{\"name\":null,\"type\":\"js\",\"url\":\"\\/assetserver\\/5d2042c6908ffff0b7c8d26135740476bcf00827-all.js\"},{\"name\":null,\"type\":\"css\",\"url\":\"\\/assetserver\\/87ad319ae61de5d44f67c268a0a8f65862fca478-style.css\"},{\"name\":null,\"type\":\"css\",\"url\":\"\\/assetserver\\/9354074556c360cc537db1e8b0f0283e19c8ea9d-bulma_confined.min.css\"}],\"type\":\"async_block\"},\"id\":\"8077181893187044820\",\"handlers\":{\"changes\":[\"(function (val){return (val!=this.model[\\\"changes\\\"]()) ? (this.valueFromJulia[\\\"changes\\\"]=true, this.model[\\\"changes\\\"](val)) : undefined})\"],\"index\":[\"(function (val){return (val!=this.model[\\\"index\\\"]()) ? (this.valueFromJulia[\\\"index\\\"]=true, this.model[\\\"index\\\"](val)) : undefined})\"]},\"systemjs_options\":null,\"mount_callbacks\":[\"function () {\\n    var handler = (function (ko, koPunches) {\\n    ko.punches.enableAll();\\n    ko.bindingHandlers.numericValue = {\\n        init: function(element, valueAccessor, allBindings, data, context) {\\n            var stringified = ko.observable(ko.unwrap(valueAccessor()));\\n            stringified.subscribe(function(value) {\\n                var val = parseFloat(value);\\n                if (!isNaN(val)) {\\n                    valueAccessor()(val);\\n                }\\n            });\\n            valueAccessor().subscribe(function(value) {\\n                var str = JSON.stringify(value);\\n                if ((str == \\\"0\\\") && ([\\\"-0\\\", \\\"-0.\\\"].indexOf(stringified()) >= 0))\\n                     return;\\n                 if ([\\\"null\\\", \\\"\\\"].indexOf(str) >= 0)\\n                     return;\\n                stringified(str);\\n            });\\n            ko.applyBindingsToNode(\\n                element,\\n                {\\n                    value: stringified,\\n                    valueUpdate: allBindings.get('valueUpdate'),\\n                },\\n                context,\\n            );\\n        }\\n    };\\n    var json_data = {\\\"formatted_vals\\\":[\\\"1\\\",\\\"2\\\",\\\"3\\\",\\\"4\\\",\\\"5\\\",\\\"6\\\",\\\"7\\\",\\\"8\\\",\\\"9\\\",\\\"10\\\"],\\\"changes\\\":WebIO.getval({\\\"name\\\":\\\"changes\\\",\\\"scope\\\":\\\"8077181893187044820\\\",\\\"id\\\":\\\"ob_10\\\",\\\"type\\\":\\\"observable\\\"}),\\\"index\\\":WebIO.getval({\\\"name\\\":\\\"index\\\",\\\"scope\\\":\\\"8077181893187044820\\\",\\\"id\\\":\\\"ob_09\\\",\\\"type\\\":\\\"observable\\\"})};\\n    var self = this;\\n    function AppViewModel() {\\n        for (var key in json_data) {\\n            var el = json_data[key];\\n            this[key] = Array.isArray(el) ? ko.observableArray(el) : ko.observable(el);\\n        }\\n        \\n        [this[\\\"formatted_val\\\"]=ko.computed(    function(){\\n        return this.formatted_vals()[parseInt(this.index())-(1)];\\n    }\\n,this)]\\n        [this[\\\"changes\\\"].subscribe((function (val){!(this.valueFromJulia[\\\"changes\\\"]) ? (WebIO.setval({\\\"name\\\":\\\"changes\\\",\\\"scope\\\":\\\"8077181893187044820\\\",\\\"id\\\":\\\"ob_10\\\",\\\"type\\\":\\\"observable\\\"},val)) : undefined; return this.valueFromJulia[\\\"changes\\\"]=false}),self),this[\\\"index\\\"].subscribe((function (val){!(this.valueFromJulia[\\\"index\\\"]) ? (WebIO.setval({\\\"name\\\":\\\"index\\\",\\\"scope\\\":\\\"8077181893187044820\\\",\\\"id\\\":\\\"ob_09\\\",\\\"type\\\":\\\"observable\\\"},val)) : undefined; return this.valueFromJulia[\\\"index\\\"]=false}),self)]\\n        \\n    }\\n    self.model = new AppViewModel();\\n    self.valueFromJulia = {};\\n    for (var key in json_data) {\\n        self.valueFromJulia[key] = false;\\n    }\\n    ko.applyBindings(self.model, self.dom);\\n}\\n);\\n    (WebIO.importBlock({\\\"data\\\":[{\\\"name\\\":\\\"knockout\\\",\\\"type\\\":\\\"js\\\",\\\"url\\\":\\\"\\/assetserver\\/9a186147d51179d2ec12ccfac1799b0b805a79d5-knockout.js\\\"},{\\\"name\\\":\\\"knockout_punches\\\",\\\"type\\\":\\\"js\\\",\\\"url\\\":\\\"\\/assetserver\\/eccef011301f679ebde0900f01478cac573870ce-knockout_punches.js\\\"}],\\\"type\\\":\\\"async_block\\\"})).then((imports) => handler.apply(this, imports));\\n}\\n\"],\"observables\":{\"changes\":{\"sync\":false,\"id\":\"ob_10\",\"value\":0},\"index\":{\"sync\":true,\"id\":\"ob_09\",\"value\":1}}},\"children\":[{\"props\":{\"className\":\"interact-flex-row interact-widget\"},\"nodeType\":\"DOM\",\"type\":\"node\",\"instanceArgs\":{\"namespace\":\"html\",\"tag\":\"div\"},\"children\":[{\"props\":{\"className\":\"interact-flex-row-left\"},\"nodeType\":\"DOM\",\"type\":\"node\",\"instanceArgs\":{\"namespace\":\"html\",\"tag\":\"div\"},\"children\":[{\"props\":{\"className\":\"interact \",\"style\":{\"padding\":\"5px 10px 0px 10px\"}},\"nodeType\":\"DOM\",\"type\":\"node\",\"instanceArgs\":{\"namespace\":\"html\",\"tag\":\"label\"},\"children\":[\"\"]}]},{\"props\":{\"className\":\"interact-flex-row-center\"},\"nodeType\":\"DOM\",\"type\":\"node\",\"instanceArgs\":{\"namespace\":\"html\",\"tag\":\"div\"},\"children\":[{\"props\":{\"max\":10,\"min\":1,\"attributes\":{\"type\":\"range\",\"data-bind\":\"numericValue: index, valueUpdate: 'input', event: {change: function (){this.changes(this.changes()+1)}}\",\"orient\":\"horizontal\"},\"step\":1,\"className\":\"slider slider is-fullwidth\",\"style\":{}},\"nodeType\":\"DOM\",\"type\":\"node\",\"instanceArgs\":{\"namespace\":\"html\",\"tag\":\"input\"},\"children\":[]}]},{\"props\":{\"className\":\"interact-flex-row-right\"},\"nodeType\":\"DOM\",\"type\":\"node\",\"instanceArgs\":{\"namespace\":\"html\",\"tag\":\"div\"},\"children\":[{\"props\":{\"attributes\":{\"data-bind\":\"text: formatted_val\"}},\"nodeType\":\"DOM\",\"type\":\"node\",\"instanceArgs\":{\"namespace\":\"html\",\"tag\":\"p\"},\"children\":[]}]}]}]}]},{\"props\":{\"className\":\"field interact-widget\"},\"nodeType\":\"DOM\",\"type\":\"node\",\"instanceArgs\":{\"namespace\":\"html\",\"tag\":\"div\"},\"children\":[{\"props\":{},\"nodeType\":\"Scope\",\"type\":\"node\",\"instanceArgs\":{\"imports\":{\"data\":[{\"name\":\"knockout\",\"type\":\"js\",\"url\":\"\\/assetserver\\/9a186147d51179d2ec12ccfac1799b0b805a79d5-knockout.js\"},{\"name\":\"knockout_punches\",\"type\":\"js\",\"url\":\"\\/assetserver\\/eccef011301f679ebde0900f01478cac573870ce-knockout_punches.js\"},{\"name\":null,\"type\":\"js\",\"url\":\"\\/assetserver\\/5d2042c6908ffff0b7c8d26135740476bcf00827-all.js\"},{\"name\":null,\"type\":\"css\",\"url\":\"\\/assetserver\\/87ad319ae61de5d44f67c268a0a8f65862fca478-style.css\"},{\"name\":null,\"type\":\"css\",\"url\":\"\\/assetserver\\/9354074556c360cc537db1e8b0f0283e19c8ea9d-bulma_confined.min.css\"}],\"type\":\"async_block\"},\"id\":\"5437806528319438796\",\"handlers\":{\"changes\":[\"(function (val){return (val!=this.model[\\\"changes\\\"]()) ? (this.valueFromJulia[\\\"changes\\\"]=true, this.model[\\\"changes\\\"](val)) : undefined})\"],\"index\":[\"(function (val){return (val!=this.model[\\\"index\\\"]()) ? (this.valueFromJulia[\\\"index\\\"]=true, this.model[\\\"index\\\"](val)) : undefined})\"]},\"systemjs_options\":null,\"mount_callbacks\":[\"function () {\\n    var handler = (function (ko, koPunches) {\\n    ko.punches.enableAll();\\n    ko.bindingHandlers.numericValue = {\\n        init: function(element, valueAccessor, allBindings, data, context) {\\n            var stringified = ko.observable(ko.unwrap(valueAccessor()));\\n            stringified.subscribe(function(value) {\\n                var val = parseFloat(value);\\n                if (!isNaN(val)) {\\n                    valueAccessor()(val);\\n                }\\n            });\\n            valueAccessor().subscribe(function(value) {\\n                var str = JSON.stringify(value);\\n                if ((str == \\\"0\\\") && ([\\\"-0\\\", \\\"-0.\\\"].indexOf(stringified()) >= 0))\\n                     return;\\n                 if ([\\\"null\\\", \\\"\\\"].indexOf(str) >= 0)\\n                     return;\\n                stringified(str);\\n            });\\n            ko.applyBindingsToNode(\\n                element,\\n                {\\n                    value: stringified,\\n                    valueUpdate: allBindings.get('valueUpdate'),\\n                },\\n                context,\\n            );\\n        }\\n    };\\n    var json_data = {\\\"formatted_vals\\\":[\\\"1\\\",\\\"2\\\",\\\"3\\\",\\\"4\\\",\\\"5\\\",\\\"6\\\",\\\"7\\\",\\\"8\\\",\\\"9\\\",\\\"10\\\",\\\"11\\\",\\\"12\\\",\\\"13\\\",\\\"14\\\",\\\"15\\\",\\\"16\\\",\\\"17\\\",\\\"18\\\",\\\"19\\\",\\\"20\\\",\\\"21\\\",\\\"22\\\",\\\"23\\\",\\\"24\\\",\\\"25\\\",\\\"26\\\",\\\"27\\\",\\\"28\\\",\\\"29\\\",\\\"30\\\",\\\"31\\\",\\\"32\\\",\\\"33\\\",\\\"34\\\",\\\"35\\\",\\\"36\\\",\\\"37\\\",\\\"38\\\",\\\"39\\\",\\\"40\\\",\\\"41\\\",\\\"42\\\",\\\"43\\\",\\\"44\\\",\\\"45\\\",\\\"46\\\",\\\"47\\\",\\\"48\\\",\\\"49\\\",\\\"50\\\",\\\"51\\\",\\\"52\\\",\\\"53\\\",\\\"54\\\",\\\"55\\\",\\\"56\\\",\\\"57\\\",\\\"58\\\",\\\"59\\\",\\\"60\\\",\\\"61\\\",\\\"62\\\",\\\"63\\\",\\\"64\\\",\\\"65\\\",\\\"66\\\",\\\"67\\\",\\\"68\\\",\\\"69\\\",\\\"70\\\",\\\"71\\\",\\\"72\\\",\\\"73\\\",\\\"74\\\",\\\"75\\\",\\\"76\\\",\\\"77\\\",\\\"78\\\",\\\"79\\\",\\\"80\\\",\\\"81\\\",\\\"82\\\",\\\"83\\\",\\\"84\\\",\\\"85\\\",\\\"86\\\",\\\"87\\\",\\\"88\\\",\\\"89\\\",\\\"90\\\",\\\"91\\\",\\\"92\\\",\\\"93\\\",\\\"94\\\",\\\"95\\\",\\\"96\\\",\\\"97\\\",\\\"98\\\",\\\"99\\\",\\\"100\\\"],\\\"changes\\\":WebIO.getval({\\\"name\\\":\\\"changes\\\",\\\"scope\\\":\\\"5437806528319438796\\\",\\\"id\\\":\\\"ob_12\\\",\\\"type\\\":\\\"observable\\\"}),\\\"index\\\":WebIO.getval({\\\"name\\\":\\\"index\\\",\\\"scope\\\":\\\"5437806528319438796\\\",\\\"id\\\":\\\"ob_11\\\",\\\"type\\\":\\\"observable\\\"})};\\n    var self = this;\\n    function AppViewModel() {\\n        for (var key in json_data) {\\n            var el = json_data[key];\\n            this[key] = Array.isArray(el) ? ko.observableArray(el) : ko.observable(el);\\n        }\\n        \\n        [this[\\\"formatted_val\\\"]=ko.computed(    function(){\\n        return this.formatted_vals()[parseInt(this.index())-(1)];\\n    }\\n,this)]\\n        [this[\\\"changes\\\"].subscribe((function (val){!(this.valueFromJulia[\\\"changes\\\"]) ? (WebIO.setval({\\\"name\\\":\\\"changes\\\",\\\"scope\\\":\\\"5437806528319438796\\\",\\\"id\\\":\\\"ob_12\\\",\\\"type\\\":\\\"observable\\\"},val)) : undefined; return this.valueFromJulia[\\\"changes\\\"]=false}),self),this[\\\"index\\\"].subscribe((function (val){!(this.valueFromJulia[\\\"index\\\"]) ? (WebIO.setval({\\\"name\\\":\\\"index\\\",\\\"scope\\\":\\\"5437806528319438796\\\",\\\"id\\\":\\\"ob_11\\\",\\\"type\\\":\\\"observable\\\"},val)) : undefined; return this.valueFromJulia[\\\"index\\\"]=false}),self)]\\n        \\n    }\\n    self.model = new AppViewModel();\\n    self.valueFromJulia = {};\\n    for (var key in json_data) {\\n        self.valueFromJulia[key] = false;\\n    }\\n    ko.applyBindings(self.model, self.dom);\\n}\\n);\\n    (WebIO.importBlock({\\\"data\\\":[{\\\"name\\\":\\\"knockout\\\",\\\"type\\\":\\\"js\\\",\\\"url\\\":\\\"\\/assetserver\\/9a186147d51179d2ec12ccfac1799b0b805a79d5-knockout.js\\\"},{\\\"name\\\":\\\"knockout_punches\\\",\\\"type\\\":\\\"js\\\",\\\"url\\\":\\\"\\/assetserver\\/eccef011301f679ebde0900f01478cac573870ce-knockout_punches.js\\\"}],\\\"type\\\":\\\"async_block\\\"})).then((imports) => handler.apply(this, imports));\\n}\\n\"],\"observables\":{\"changes\":{\"sync\":false,\"id\":\"ob_12\",\"value\":0},\"index\":{\"sync\":true,\"id\":\"ob_11\",\"value\":50}}},\"children\":[{\"props\":{\"className\":\"interact-flex-row interact-widget\"},\"nodeType\":\"DOM\",\"type\":\"node\",\"instanceArgs\":{\"namespace\":\"html\",\"tag\":\"div\"},\"children\":[{\"props\":{\"className\":\"interact-flex-row-left\"},\"nodeType\":\"DOM\",\"type\":\"node\",\"instanceArgs\":{\"namespace\":\"html\",\"tag\":\"div\"},\"children\":[{\"props\":{\"className\":\"interact \",\"style\":{\"padding\":\"5px 10px 0px 10px\"}},\"nodeType\":\"DOM\",\"type\":\"node\",\"instanceArgs\":{\"namespace\":\"html\",\"tag\":\"label\"},\"children\":[\"y\"]}]},{\"props\":{\"className\":\"interact-flex-row-center\"},\"nodeType\":\"DOM\",\"type\":\"node\",\"instanceArgs\":{\"namespace\":\"html\",\"tag\":\"div\"},\"children\":[{\"props\":{\"max\":100,\"min\":1,\"attributes\":{\"type\":\"range\",\"data-bind\":\"numericValue: index, valueUpdate: 'input', event: {change: function (){this.changes(this.changes()+1)}}\",\"orient\":\"horizontal\"},\"step\":1,\"className\":\"slider slider is-fullwidth\",\"style\":{}},\"nodeType\":\"DOM\",\"type\":\"node\",\"instanceArgs\":{\"namespace\":\"html\",\"tag\":\"input\"},\"children\":[]}]},{\"props\":{\"className\":\"interact-flex-row-right\"},\"nodeType\":\"DOM\",\"type\":\"node\",\"instanceArgs\":{\"namespace\":\"html\",\"tag\":\"div\"},\"children\":[{\"props\":{\"attributes\":{\"data-bind\":\"text: formatted_val\"}},\"nodeType\":\"DOM\",\"type\":\"node\",\"instanceArgs\":{\"namespace\":\"html\",\"tag\":\"p\"},\"children\":[]}]}]}]}]},{\"props\":{},\"nodeType\":\"Scope\",\"type\":\"node\",\"instanceArgs\":{\"imports\":{\"data\":[],\"type\":\"async_block\"},\"id\":\"6460555207932591865\",\"handlers\":{},\"systemjs_options\":null,\"mount_callbacks\":[],\"observables\":{\"obs-node\":{\"sync\":false,\"id\":\"ob_16\",\"value\":{\"props\":{\"className\":\"interact-flex-row interact-widget\"},\"nodeType\":\"DOM\",\"type\":\"node\",\"instanceArgs\":{\"namespace\":\"html\",\"tag\":\"div\"},\"children\":[{\"props\":{\"setInnerHtml\":\"<?xml version=\\\"1.0\\\" encoding=\\\"utf-8\\\"?>\\n<svg xmlns=\\\"http:\\/\\/www.w3.org\\/2000\\/svg\\\" xmlns:xlink=\\\"http:\\/\\/www.w3.org\\/1999\\/xlink\\\" width=\\\"600\\\" height=\\\"400\\\" viewBox=\\\"0 0 2400 1600\\\">\\n<defs>\\n  <clipPath id=\\\"clip6600\\\">\\n    <rect x=\\\"0\\\" y=\\\"0\\\" width=\\\"2400\\\" height=\\\"1600\\\"\\/>\\n  <\\/clipPath>\\n<\\/defs>\\n<path clip-path=\\\"url(#clip6600)\\\" d=\\\"\\nM0 1600 L2400 1600 L2400 0 L0 0  Z\\n  \\\" fill=\\\"#ffffff\\\" fill-rule=\\\"evenodd\\\" fill-opacity=\\\"1\\\"\\/>\\n<defs>\\n  <clipPath id=\\\"clip6601\\\">\\n    <rect x=\\\"480\\\" y=\\\"0\\\" width=\\\"1681\\\" height=\\\"1600\\\"\\/>\\n  <\\/clipPath>\\n<\\/defs>\\n<path clip-path=\\\"url(#clip6600)\\\" d=\\\"\\nM168.627 1487.47 L2352.76 1487.47 L2352.76 47.2441 L168.627 47.2441  Z\\n  \\\" fill=\\\"#ffffff\\\" fill-rule=\\\"evenodd\\\" fill-opacity=\\\"1\\\"\\/>\\n<defs>\\n  <clipPath id=\\\"clip6602\\\">\\n    <rect x=\\\"168\\\" y=\\\"47\\\" width=\\\"2185\\\" height=\\\"1441\\\"\\/>\\n  <\\/clipPath>\\n<\\/defs>\\n<polyline clip-path=\\\"url(#clip6602)\\\" style=\\\"stroke:#000000; stroke-width:2; stroke-opacity:0.1; fill:none\\\" points=\\\"\\n  547.94,1487.47 547.94,47.2441 \\n  \\\"\\/>\\n<polyline clip-path=\\\"url(#clip6602)\\\" style=\\\"stroke:#000000; stroke-width:2; stroke-opacity:0.1; fill:none\\\" points=\\\"\\n  936.714,1487.47 936.714,47.2441 \\n  \\\"\\/>\\n<polyline clip-path=\\\"url(#clip6602)\\\" style=\\\"stroke:#000000; stroke-width:2; stroke-opacity:0.1; fill:none\\\" points=\\\"\\n  1325.49,1487.47 1325.49,47.2441 \\n  \\\"\\/>\\n<polyline clip-path=\\\"url(#clip6602)\\\" style=\\\"stroke:#000000; stroke-width:2; stroke-opacity:0.1; fill:none\\\" points=\\\"\\n  1714.26,1487.47 1714.26,47.2441 \\n  \\\"\\/>\\n<polyline clip-path=\\\"url(#clip6602)\\\" style=\\\"stroke:#000000; stroke-width:2; stroke-opacity:0.1; fill:none\\\" points=\\\"\\n  2103.03,1487.47 2103.03,47.2441 \\n  \\\"\\/>\\n<polyline clip-path=\\\"url(#clip6602)\\\" style=\\\"stroke:#000000; stroke-width:2; stroke-opacity:0.1; fill:none\\\" points=\\\"\\n  168.627,1487.47 2352.76,1487.47 \\n  \\\"\\/>\\n<polyline clip-path=\\\"url(#clip6602)\\\" style=\\\"stroke:#000000; stroke-width:2; stroke-opacity:0.1; fill:none\\\" points=\\\"\\n  168.627,1127.42 2352.76,1127.42 \\n  \\\"\\/>\\n<polyline clip-path=\\\"url(#clip6602)\\\" style=\\\"stroke:#000000; stroke-width:2; stroke-opacity:0.1; fill:none\\\" points=\\\"\\n  168.627,767.359 2352.76,767.359 \\n  \\\"\\/>\\n<polyline clip-path=\\\"url(#clip6602)\\\" style=\\\"stroke:#000000; stroke-width:2; stroke-opacity:0.1; fill:none\\\" points=\\\"\\n  168.627,407.302 2352.76,407.302 \\n  \\\"\\/>\\n<polyline clip-path=\\\"url(#clip6602)\\\" style=\\\"stroke:#000000; stroke-width:2; stroke-opacity:0.1; fill:none\\\" points=\\\"\\n  168.627,47.2441 2352.76,47.2441 \\n  \\\"\\/>\\n<polyline clip-path=\\\"url(#clip6600)\\\" style=\\\"stroke:#000000; stroke-width:4; stroke-opacity:1; fill:none\\\" points=\\\"\\n  168.627,1487.47 2352.76,1487.47 \\n  \\\"\\/>\\n<polyline clip-path=\\\"url(#clip6600)\\\" style=\\\"stroke:#000000; stroke-width:4; stroke-opacity:1; fill:none\\\" points=\\\"\\n  168.627,1487.47 168.627,47.2441 \\n  \\\"\\/>\\n<polyline clip-path=\\\"url(#clip6600)\\\" style=\\\"stroke:#000000; stroke-width:4; stroke-opacity:1; fill:none\\\" points=\\\"\\n  547.94,1487.47 547.94,1470.19 \\n  \\\"\\/>\\n<polyline clip-path=\\\"url(#clip6600)\\\" style=\\\"stroke:#000000; stroke-width:4; stroke-opacity:1; fill:none\\\" points=\\\"\\n  936.714,1487.47 936.714,1470.19 \\n  \\\"\\/>\\n<polyline clip-path=\\\"url(#clip6600)\\\" style=\\\"stroke:#000000; stroke-width:4; stroke-opacity:1; fill:none\\\" points=\\\"\\n  1325.49,1487.47 1325.49,1470.19 \\n  \\\"\\/>\\n<polyline clip-path=\\\"url(#clip6600)\\\" style=\\\"stroke:#000000; stroke-width:4; stroke-opacity:1; fill:none\\\" points=\\\"\\n  1714.26,1487.47 1714.26,1470.19 \\n  \\\"\\/>\\n<polyline clip-path=\\\"url(#clip6600)\\\" style=\\\"stroke:#000000; stroke-width:4; stroke-opacity:1; fill:none\\\" points=\\\"\\n  2103.03,1487.47 2103.03,1470.19 \\n  \\\"\\/>\\n<polyline clip-path=\\\"url(#clip6600)\\\" style=\\\"stroke:#000000; stroke-width:4; stroke-opacity:1; fill:none\\\" points=\\\"\\n  168.627,1487.47 194.836,1487.47 \\n  \\\"\\/>\\n<polyline clip-path=\\\"url(#clip6600)\\\" style=\\\"stroke:#000000; stroke-width:4; stroke-opacity:1; fill:none\\\" points=\\\"\\n  168.627,1127.42 194.836,1127.42 \\n  \\\"\\/>\\n<polyline clip-path=\\\"url(#clip6600)\\\" style=\\\"stroke:#000000; stroke-width:4; stroke-opacity:1; fill:none\\\" points=\\\"\\n  168.627,767.359 194.836,767.359 \\n  \\\"\\/>\\n<polyline clip-path=\\\"url(#clip6600)\\\" style=\\\"stroke:#000000; stroke-width:4; stroke-opacity:1; fill:none\\\" points=\\\"\\n  168.627,407.302 194.836,407.302 \\n  \\\"\\/>\\n<polyline clip-path=\\\"url(#clip6600)\\\" style=\\\"stroke:#000000; stroke-width:4; stroke-opacity:1; fill:none\\\" points=\\\"\\n  168.627,47.2441 194.836,47.2441 \\n  \\\"\\/>\\n<g clip-path=\\\"url(#clip6600)\\\">\\n<text style=\\\"fill:#000000; fill-opacity:1; font-family:Arial,Helvetica Neue,Helvetica,sans-serif; font-size:48px; text-anchor:middle;\\\" transform=\\\"rotate(0, 547.94, 1541.47)\\\" x=\\\"547.94\\\" y=\\\"1541.47\\\">-0.3<\\/text>\\n<\\/g>\\n<g clip-path=\\\"url(#clip6600)\\\">\\n<text style=\\\"fill:#000000; fill-opacity:1; font-family:Arial,Helvetica Neue,Helvetica,sans-serif; font-size:48px; text-anchor:middle;\\\" transform=\\\"rotate(0, 936.714, 1541.47)\\\" x=\\\"936.714\\\" y=\\\"1541.47\\\">0.0<\\/text>\\n<\\/g>\\n<g clip-path=\\\"url(#clip6600)\\\">\\n<text style=\\\"fill:#000000; fill-opacity:1; font-family:Arial,Helvetica Neue,Helvetica,sans-serif; font-size:48px; text-anchor:middle;\\\" transform=\\\"rotate(0, 1325.49, 1541.47)\\\" x=\\\"1325.49\\\" y=\\\"1541.47\\\">0.3<\\/text>\\n<\\/g>\\n<g clip-path=\\\"url(#clip6600)\\\">\\n<text style=\\\"fill:#000000; fill-opacity:1; font-family:Arial,Helvetica Neue,Helvetica,sans-serif; font-size:48px; text-anchor:middle;\\\" transform=\\\"rotate(0, 1714.26, 1541.47)\\\" x=\\\"1714.26\\\" y=\\\"1541.47\\\">0.6<\\/text>\\n<\\/g>\\n<g clip-path=\\\"url(#clip6600)\\\">\\n<text style=\\\"fill:#000000; fill-opacity:1; font-family:Arial,Helvetica Neue,Helvetica,sans-serif; font-size:48px; text-anchor:middle;\\\" transform=\\\"rotate(0, 2103.03, 1541.47)\\\" x=\\\"2103.03\\\" y=\\\"1541.47\\\">0.9<\\/text>\\n<\\/g>\\n<g clip-path=\\\"url(#clip6600)\\\">\\n<text style=\\\"fill:#000000; fill-opacity:1; font-family:Arial,Helvetica Neue,Helvetica,sans-serif; font-size:48px; text-anchor:end;\\\" transform=\\\"rotate(0, 144.627, 1504.97)\\\" x=\\\"144.627\\\" y=\\\"1504.97\\\">-50<\\/text>\\n<\\/g>\\n<g clip-path=\\\"url(#clip6600)\\\">\\n<text style=\\\"fill:#000000; fill-opacity:1; font-family:Arial,Helvetica Neue,Helvetica,sans-serif; font-size:48px; text-anchor:end;\\\" transform=\\\"rotate(0, 144.627, 1144.92)\\\" x=\\\"144.627\\\" y=\\\"1144.92\\\">-25<\\/text>\\n<\\/g>\\n<g clip-path=\\\"url(#clip6600)\\\">\\n<text style=\\\"fill:#000000; fill-opacity:1; font-family:Arial,Helvetica Neue,Helvetica,sans-serif; font-size:48px; text-anchor:end;\\\" transform=\\\"rotate(0, 144.627, 784.859)\\\" x=\\\"144.627\\\" y=\\\"784.859\\\">0<\\/text>\\n<\\/g>\\n<g clip-path=\\\"url(#clip6600)\\\">\\n<text style=\\\"fill:#000000; fill-opacity:1; font-family:Arial,Helvetica Neue,Helvetica,sans-serif; font-size:48px; text-anchor:end;\\\" transform=\\\"rotate(0, 144.627, 424.802)\\\" x=\\\"144.627\\\" y=\\\"424.802\\\">25<\\/text>\\n<\\/g>\\n<g clip-path=\\\"url(#clip6600)\\\">\\n<text style=\\\"fill:#000000; fill-opacity:1; font-family:Arial,Helvetica Neue,Helvetica,sans-serif; font-size:48px; text-anchor:end;\\\" transform=\\\"rotate(0, 144.627, 64.7441)\\\" x=\\\"144.627\\\" y=\\\"64.7441\\\">50<\\/text>\\n<\\/g>\\n<polyline clip-path=\\\"url(#clip6602)\\\" style=\\\"stroke:#009af9; stroke-width:12; stroke-opacity:1; fill:none\\\" points=\\\"\\n  288.758,817.732 301.717,815.14 314.676,812.533 327.635,809.916 340.594,807.292 353.553,804.666 366.513,802.044 379.472,799.43 392.431,796.829 405.39,794.246 \\n  418.349,791.687 431.308,789.155 444.267,786.657 457.226,784.198 470.185,781.783 483.145,779.417 496.104,777.107 509.063,774.856 522.022,772.671 534.981,770.557 \\n  547.94,768.52 560.899,766.564 573.858,764.696 586.817,762.921 599.777,761.243 612.736,759.669 625.695,758.203 638.654,756.851 651.613,755.618 664.572,754.509 \\n  677.531,753.528 690.49,752.681 703.45,751.973 716.409,751.407 729.368,750.989 742.327,750.722 755.286,750.611 768.245,750.661 781.204,750.874 794.163,751.255 \\n  807.122,751.807 820.082,752.533 833.041,753.437 846,754.522 858.959,755.789 871.918,757.242 884.877,758.883 897.836,760.713 910.795,762.735 923.754,764.95 \\n  936.714,767.359 949.673,769.963 962.632,772.763 975.591,775.759 988.55,778.95 1001.51,782.338 1014.47,785.92 1027.43,789.697 1040.39,793.666 1053.35,797.827 \\n  1066.3,802.177 1079.26,806.714 1092.22,811.436 1105.18,816.339 1118.14,821.421 1131.1,826.677 1144.06,832.104 1157.02,837.697 1169.98,843.451 1182.94,849.362 \\n  1195.9,855.424 1208.85,861.631 1221.81,867.976 1234.77,874.454 1247.73,881.057 1260.69,887.779 1273.65,894.611 1286.61,901.545 1299.57,908.573 1312.53,915.687 \\n  1325.49,922.877 1338.45,930.135 1351.41,937.449 1364.36,944.811 1377.32,952.21 1390.28,959.636 1403.24,967.077 1416.2,974.522 1429.16,981.96 1442.12,989.379 \\n  1455.08,996.767 1468.04,1004.11 1481,1011.4 1493.96,1018.62 1506.91,1025.76 1519.87,1032.81 1532.83,1039.75 1545.79,1046.56 1558.75,1053.25 1571.71,1059.78 \\n  1584.67,1066.15 1597.63,1072.35 1610.59,1078.36 1623.55,1084.16 1636.51,1089.75 1649.46,1095.11 1662.42,1100.22 1675.38,1105.07 1688.34,1109.65 1701.3,1113.95 \\n  1714.26,1117.94 1727.22,1121.62 1740.18,1124.98 1753.14,1127.99 1766.1,1130.65 1779.06,1132.95 1792.02,1134.87 1804.97,1136.41 1817.93,1137.54 1830.89,1138.26 \\n  1843.85,1138.56 1856.81,1138.43 1869.77,1137.85 1882.73,1136.83 1895.69,1135.34 1908.65,1133.39 1921.61,1130.95 1934.57,1128.04 1947.52,1124.64 1960.48,1120.74 \\n  1973.44,1116.34 1986.4,1111.44 1999.36,1106.03 2012.32,1100.11 2025.28,1093.67 2038.24,1086.73 2051.2,1079.28 2064.16,1071.31 2077.12,1062.84 2090.07,1053.86 \\n  2103.03,1044.38 2115.99,1034.41 2128.95,1023.94 2141.91,1013 2154.87,1001.59 2167.83,989.709 2180.79,977.383 2193.75,964.62 2206.71,951.434 2219.67,937.841 \\n  2232.62,923.858 \\n  \\\"\\/>\\n<circle clip-path=\\\"url(#clip6602)\\\" style=\\\"fill:#000000; stroke:none; fill-opacity:1\\\" cx=\\\"1260.69\\\" cy=\\\"887.779\\\" r=\\\"18\\\"\\/>\\n<circle clip-path=\\\"url(#clip6602)\\\" style=\\\"fill:#e26f46; stroke:none; fill-opacity:1\\\" cx=\\\"1260.69\\\" cy=\\\"887.779\\\" r=\\\"14\\\"\\/>\\n<path clip-path=\\\"url(#clip6602)\\\" d=\\\"\\nM288.758 5146.09 L308.393 5156.36 L328.028 5166.63 L347.663 5176.9 L367.298 5187.17 L386.933 5197.44 L406.568 5207.71 L426.203 5217.98 L445.838 5228.25 L465.473 5238.52 \\n  L485.108 5248.79 L504.743 5259.06 L524.378 5269.33 L544.013 5279.6 L563.648 5289.87 L583.283 5300.14 L602.918 5310.4 L622.553 5320.67 L642.188 5330.94 L661.823 5341.21 \\n  L681.458 5351.48 L701.093 5361.75 L720.728 5372.02 L740.363 5382.29 L759.998 5392.56 L779.633 5402.83 L799.268 5413.1 L818.903 5423.37 L838.538 5433.64 L858.173 5443.91 \\n  L877.808 5454.18 L897.444 5464.45 L917.079 5474.72 L936.714 5484.99 L956.349 5495.26 L975.984 5505.53 L995.619 5515.8 L1015.25 5526.06 L1034.89 5536.33 L1054.52 5546.6 \\n  L1074.16 5556.87 L1093.79 5567.14 L1113.43 5577.41 L1133.06 5587.68 L1152.7 5597.95 L1172.33 5608.22 L1191.97 5618.49 L1211.6 5628.76 L1231.24 5639.03 L1250.87 5649.3 \\n  L1270.51 5659.57 L1290.14 5669.84 L1309.78 5680.11 L1329.41 5690.38 L1349.05 5700.65 L1368.68 5710.92 L1388.32 5721.19 L1407.95 5731.46 L1427.59 5741.73 L1447.22 5751.99 \\n  L1466.86 5762.26 L1486.49 5772.53 L1506.13 5782.8 L1525.76 5793.07 L1545.4 5803.34 L1565.03 5813.61 L1584.67 5823.88 L1604.3 5834.15 L1623.94 5844.42 L1643.57 5854.69 \\n  L1663.21 5864.96 L1682.84 5875.23 L1702.48 5885.5 L1722.11 5895.77 L1741.75 5906.04 L1761.38 5916.31 L1781.02 5926.58 L1800.65 5936.85 L1820.29 5947.12 L1839.92 5957.39 \\n  L1859.56 5967.65 L1879.19 5977.92 L1898.83 5988.19 L1918.46 5998.46 L1938.1 6008.73 L1957.73 6019 L1977.37 6029.27 L1997 6039.54 L2016.64 6049.81 L2036.27 6060.08 \\n  L2055.91 6070.35 L2075.54 6080.62 L2095.18 6090.89 L2114.81 6101.16 L2134.45 6111.43 L2154.08 6121.7 L2173.72 6131.97 L2193.35 6142.24 L2212.99 6152.51 L2232.62 6162.78 \\n  L2232.62 -3615.65 L2212.99 -3625.92 L2193.35 -3636.19 L2173.72 -3646.46 L2154.08 -3656.73 L2134.45 -3667 L2114.81 -3677.27 L2095.18 -3687.54 L2075.54 -3697.81 L2055.91 -3708.08 \\n  L2036.27 -3718.35 L2016.64 -3728.62 L1997 -3738.89 L1977.37 -3749.16 L1957.73 -3759.43 L1938.1 -3769.7 L1918.46 -3779.97 L1898.83 -3790.24 L1879.19 -3800.5 L1859.56 -3810.77 \\n  L1839.92 -3821.04 L1820.29 -3831.31 L1800.65 -3841.58 L1781.02 -3851.85 L1761.38 -3862.12 L1741.75 -3872.39 L1722.11 -3882.66 L1702.48 -3892.93 L1682.84 -3903.2 L1663.21 -3913.47 \\n  L1643.57 -3923.74 L1623.94 -3934.01 L1604.3 -3944.28 L1584.67 -3954.55 L1565.03 -3964.82 L1545.4 -3975.09 L1525.76 -3985.36 L1506.13 -3995.63 L1486.49 -4005.9 L1466.86 -4016.16 \\n  L1447.22 -4026.43 L1427.59 -4036.7 L1407.95 -4046.97 L1388.32 -4057.24 L1368.68 -4067.51 L1349.05 -4077.78 L1329.41 -4088.05 L1309.78 -4098.32 L1290.14 -4108.59 L1270.51 -4118.86 \\n  L1250.87 -4129.13 L1231.24 -4139.4 L1211.6 -4149.67 L1191.97 -4159.94 L1172.33 -4170.21 L1152.7 -4180.48 L1133.06 -4190.75 L1113.43 -4201.02 L1093.79 -4211.29 L1074.16 -4221.56 \\n  L1054.52 -4231.83 L1034.89 -4242.09 L1015.25 -4252.36 L995.619 -4262.63 L975.984 -4272.9 L956.349 -4283.17 L936.714 -4293.44 L917.079 -4303.71 L897.444 -4313.98 L877.808 -4324.25 \\n  L858.173 -4334.52 L838.538 -4344.79 L818.903 -4355.06 L799.268 -4365.33 L779.633 -4375.6 L759.998 -4385.87 L740.363 -4396.14 L720.728 -4406.41 L701.093 -4416.68 L681.458 -4426.95 \\n  L661.823 -4437.22 L642.188 -4447.49 L622.553 -4457.75 L602.918 -4468.02 L583.283 -4478.29 L563.648 -4488.56 L544.013 -4498.83 L524.378 -4509.1 L504.743 -4519.37 L485.108 -4529.64 \\n  L465.473 -4539.91 L445.838 -4550.18 L426.203 -4560.45 L406.568 -4570.72 L386.933 -4580.99 L367.298 -4591.26 L347.663 -4601.53 L328.028 -4611.8 L308.393 -4622.07 L288.758 -4632.34 \\n  L288.758 5146.09 L288.758 5146.09  Z\\n  \\\" fill=\\\"#3da44d\\\" fill-rule=\\\"evenodd\\\" fill-opacity=\\\"0.3\\\"\\/>\\n<polyline clip-path=\\\"url(#clip6602)\\\" style=\\\"stroke:#000000; stroke-width:4; stroke-opacity:0.3; fill:none\\\" points=\\\"\\n  288.758,5146.09 308.393,5156.36 328.028,5166.63 347.663,5176.9 367.298,5187.17 386.933,5197.44 406.568,5207.71 426.203,5217.98 445.838,5228.25 465.473,5238.52 \\n  485.108,5248.79 504.743,5259.06 524.378,5269.33 544.013,5279.6 563.648,5289.87 583.283,5300.14 602.918,5310.4 622.553,5320.67 642.188,5330.94 661.823,5341.21 \\n  681.458,5351.48 701.093,5361.75 720.728,5372.02 740.363,5382.29 759.998,5392.56 779.633,5402.83 799.268,5413.1 818.903,5423.37 838.538,5433.64 858.173,5443.91 \\n  877.808,5454.18 897.444,5464.45 917.079,5474.72 936.714,5484.99 956.349,5495.26 975.984,5505.53 995.619,5515.8 1015.25,5526.06 1034.89,5536.33 1054.52,5546.6 \\n  1074.16,5556.87 1093.79,5567.14 1113.43,5577.41 1133.06,5587.68 1152.7,5597.95 1172.33,5608.22 1191.97,5618.49 1211.6,5628.76 1231.24,5639.03 1250.87,5649.3 \\n  1270.51,5659.57 1290.14,5669.84 1309.78,5680.11 1329.41,5690.38 1349.05,5700.65 1368.68,5710.92 1388.32,5721.19 1407.95,5731.46 1427.59,5741.73 1447.22,5751.99 \\n  1466.86,5762.26 1486.49,5772.53 1506.13,5782.8 1525.76,5793.07 1545.4,5803.34 1565.03,5813.61 1584.67,5823.88 1604.3,5834.15 1623.94,5844.42 1643.57,5854.69 \\n  1663.21,5864.96 1682.84,5875.23 1702.48,5885.5 1722.11,5895.77 1741.75,5906.04 1761.38,5916.31 1781.02,5926.58 1800.65,5936.85 1820.29,5947.12 1839.92,5957.39 \\n  1859.56,5967.65 1879.19,5977.92 1898.83,5988.19 1918.46,5998.46 1938.1,6008.73 1957.73,6019 1977.37,6029.27 1997,6039.54 2016.64,6049.81 2036.27,6060.08 \\n  2055.91,6070.35 2075.54,6080.62 2095.18,6090.89 2114.81,6101.16 2134.45,6111.43 2154.08,6121.7 2173.72,6131.97 2193.35,6142.24 2212.99,6152.51 2232.62,6162.78 \\n  2232.62,-3615.65 2212.99,-3625.92 2193.35,-3636.19 2173.72,-3646.46 2154.08,-3656.73 2134.45,-3667 2114.81,-3677.27 2095.18,-3687.54 2075.54,-3697.81 2055.91,-3708.08 \\n  2036.27,-3718.35 2016.64,-3728.62 1997,-3738.89 1977.37,-3749.16 1957.73,-3759.43 1938.1,-3769.7 1918.46,-3779.97 1898.83,-3790.24 1879.19,-3800.5 1859.56,-3810.77 \\n  1839.92,-3821.04 1820.29,-3831.31 1800.65,-3841.58 1781.02,-3851.85 1761.38,-3862.12 1741.75,-3872.39 1722.11,-3882.66 1702.48,-3892.93 1682.84,-3903.2 1663.21,-3913.47 \\n  1643.57,-3923.74 1623.94,-3934.01 1604.3,-3944.28 1584.67,-3954.55 1565.03,-3964.82 1545.4,-3975.09 1525.76,-3985.36 1506.13,-3995.63 1486.49,-4005.9 1466.86,-4016.16 \\n  1447.22,-4026.43 1427.59,-4036.7 1407.95,-4046.97 1388.32,-4057.24 1368.68,-4067.51 1349.05,-4077.78 1329.41,-4088.05 1309.78,-4098.32 1290.14,-4108.59 1270.51,-4118.86 \\n  1250.87,-4129.13 1231.24,-4139.4 1211.6,-4149.67 1191.97,-4159.94 1172.33,-4170.21 1152.7,-4180.48 1133.06,-4190.75 1113.43,-4201.02 1093.79,-4211.29 1074.16,-4221.56 \\n  1054.52,-4231.83 1034.89,-4242.09 1015.25,-4252.36 995.619,-4262.63 975.984,-4272.9 956.349,-4283.17 936.714,-4293.44 917.079,-4303.71 897.444,-4313.98 877.808,-4324.25 \\n  858.173,-4334.52 838.538,-4344.79 818.903,-4355.06 799.268,-4365.33 779.633,-4375.6 759.998,-4385.87 740.363,-4396.14 720.728,-4406.41 701.093,-4416.68 681.458,-4426.95 \\n  661.823,-4437.22 642.188,-4447.49 622.553,-4457.75 602.918,-4468.02 583.283,-4478.29 563.648,-4488.56 544.013,-4498.83 524.378,-4509.1 504.743,-4519.37 485.108,-4529.64 \\n  465.473,-4539.91 445.838,-4550.18 426.203,-4560.45 406.568,-4570.72 386.933,-4580.99 367.298,-4591.26 347.663,-4601.53 328.028,-4611.8 308.393,-4622.07 288.758,-4632.34 \\n  288.758,5146.09 \\n  \\\"\\/>\\n<polyline clip-path=\\\"url(#clip6602)\\\" style=\\\"stroke:#c271d2; stroke-width:8; stroke-opacity:1; fill:none\\\" stroke-dasharray=\\\"32, 20\\\" points=\\\"\\n  230.442,348.936 250.564,359.461 436.626,456.775 548.441,515.257 642.979,564.702 745.674,618.414 840.349,667.931 941.852,721.019 1059.45,782.526 1163.96,837.187 \\n  1255.61,885.119 1355.52,937.379 1456.04,989.948 1567.17,1048.07 1672.9,1103.37 1782.84,1160.87 1875.39,1209.28 1988.38,1268.37 2094.59,1323.93 2264.75,1412.92 \\n  2290.94,1426.62 \\n  \\\"\\/>\\n<\\/svg>\\n\"},\"nodeType\":\"DOM\",\"type\":\"node\",\"instanceArgs\":{\"namespace\":\"html\",\"tag\":\"div\"},\"children\":[]}]}}}},\"children\":[{\"props\":{},\"nodeType\":\"ObservableNode\",\"type\":\"node\",\"instanceArgs\":{\"id\":\"ob_16\",\"name\":\"obs-node\"},\"children\":[]}]}]},\n",
       "            window,\n",
       "        );\n",
       "    } else {\n",
       "        document\n",
       "            .querySelector('[data-webio-mountpoint=\"15807228466301408700\"]')\n",
       "            .innerHTML = (\n",
       "                '<div style=\"padding: 1em; background-color: #f8d6da; border: 1px solid #f5c6cb\">' +\n",
       "                '<p><strong>WebIO not detected.</strong></p>' +\n",
       "                '<p>Please read ' +\n",
       "                '<a href=\"https://juliagizmos.github.io/WebIO.jl/latest/troubleshooting/not-detected/\" target=\"_blank\">the troubleshooting guide</a> ' +\n",
       "                'for more information on how to resolve this issue.</p>' +\n",
       "                '<p><a href=\"https://juliagizmos.github.io/WebIO.jl/latest/troubleshooting/not-detected/\" target=\"_blank\">https://juliagizmos.github.io/WebIO.jl/latest/troubleshooting/not-detected/</a></p>' +\n",
       "                '</div>'\n",
       "            );\n",
       "    }\n",
       "    </script>\n",
       "</div>\n"
      ],
      "text/plain": [
       "Node{WebIO.DOM}(WebIO.DOM(:html, :div), Any[Node{WebIO.DOM}(WebIO.DOM(:html, :div), Any[Scope(Node{WebIO.DOM}(WebIO.DOM(:html, :div), Any[Node{WebIO.DOM}(WebIO.DOM(:html, :div), Any[Node{WebIO.DOM}(WebIO.DOM(:html, :label), Any[nothing], Dict{Symbol,Any}(:className => \"interact \",:style => Dict{Any,Any}(:padding => \"5px 10px 0px 10px\")))], Dict{Symbol,Any}(:className => \"interact-flex-row-left\")), Node{WebIO.DOM}(WebIO.DOM(:html, :div), Any[Node{WebIO.DOM}(WebIO.DOM(:html, :input), Any[], Dict{Symbol,Any}(:max => 10,:min => 1,:attributes => Dict{Any,Any}(:type => \"range\",Symbol(\"data-bind\") => \"numericValue: index, valueUpdate: 'input', event: {change: function (){this.changes(this.changes()+1)}}\",\"orient\" => \"horizontal\"),:step => 1,:className => \"slider slider is-fullwidth\",:style => Dict{Any,Any}()))], Dict{Symbol,Any}(:className => \"interact-flex-row-center\")), Node{WebIO.DOM}(WebIO.DOM(:html, :div), Any[Node{WebIO.DOM}(WebIO.DOM(:html, :p), Any[], Dict{Symbol,Any}(:attributes => Dict(\"data-bind\" => \"text: formatted_val\")))], Dict{Symbol,Any}(:className => \"interact-flex-row-right\"))], Dict{Symbol,Any}(:className => \"interact-flex-row interact-widget\")), Dict{String,Tuple{Observables.AbstractObservable,Union{Nothing, Bool}}}(\"changes\" => (Observable{Int64} with 1 listeners. Value:\n",
       "0, nothing),\"index\" => (Observable{Int64} with 2 listeners. Value:\n",
       "1, nothing)), Set(String[]), nothing, Asset[Asset(\"js\", \"knockout\", \"/Users/dpsanders/.julia/packages/Knockout/1sDlc/src/../assets/knockout.js\"), Asset(\"js\", \"knockout_punches\", \"/Users/dpsanders/.julia/packages/Knockout/1sDlc/src/../assets/knockout_punches.js\"), Asset(\"js\", nothing, \"/Users/dpsanders/.julia/packages/InteractBase/9mFwe/src/../assets/all.js\"), Asset(\"css\", nothing, \"/Users/dpsanders/.julia/packages/InteractBase/9mFwe/src/../assets/style.css\"), Asset(\"css\", nothing, \"/Users/dpsanders/.julia/packages/Interact/SbgIk/src/../assets/bulma_confined.min.css\")], Dict{Any,Any}(\"changes\" => Any[WebIO.JSString(\"(function (val){return (val!=this.model[\\\"changes\\\"]()) ? (this.valueFromJulia[\\\"changes\\\"]=true, this.model[\\\"changes\\\"](val)) : undefined})\")],\"index\" => Any[WebIO.JSString(\"(function (val){return (val!=this.model[\\\"index\\\"]()) ? (this.valueFromJulia[\\\"index\\\"]=true, this.model[\\\"index\\\"](val)) : undefined})\")]), WebIO.ConnectionPool(Channel{Any}(sz_max:32,sz_curr:0), Set(AbstractConnection[]), Base.GenericCondition{Base.AlwaysLockedST}(Base.InvasiveLinkedList{Task}(Task (runnable) @0x000000013b6f73d0, Task (runnable) @0x000000013b6f73d0), Base.AlwaysLockedST(1))), WebIO.JSString[WebIO.JSString(\"function () {\\n    var handler = (function (ko, koPunches) {\\n    ko.punches.enableAll();\\n    ko.bindingHandlers.numericValue = {\\n        init: function(element, valueAccessor, allBindings, data, context) {\\n            var stringified = ko.observable(ko.unwrap(valueAccessor()));\\n            stringified.subscribe(function(value) {\\n                var val = parseFloat(value);\\n                if (!isNaN(val)) {\\n                    valueAccessor()(val);\\n                }\\n            });\\n            valueAccessor().subscribe(function(value) {\\n                var str = JSON.stringify(value);\\n                if ((str == \\\"0\\\") && ([\\\"-0\\\", \\\"-0.\\\"].indexOf(stringified()) >= 0))\\n                     return;\\n                 if ([\\\"null\\\", \\\"\\\"].indexOf(str) >= 0)\\n                     return;\\n                stringified(str);\\n            });\\n            ko.applyBindingsToNode(\\n                element,\\n                {\\n                    value: stringified,\\n                    valueUpdate: allBindings.get('valueUpdate'),\\n                },\\n                context,\\n            );\\n        }\\n    };\\n    var json_data = {\\\"formatted_vals\\\":[\\\"1\\\",\\\"2\\\",\\\"3\\\",\\\"4\\\",\\\"5\\\",\\\"6\\\",\\\"7\\\",\\\"8\\\",\\\"9\\\",\\\"10\\\"],\\\"changes\\\":WebIO.getval({\\\"name\\\":\\\"changes\\\",\\\"scope\\\":\\\"8077181893187044820\\\",\\\"id\\\":\\\"ob_10\\\",\\\"type\\\":\\\"observable\\\"}),\\\"index\\\":WebIO.getval({\\\"name\\\":\\\"index\\\",\\\"scope\\\":\\\"8077181893187044820\\\",\\\"id\\\":\\\"ob_09\\\",\\\"type\\\":\\\"observable\\\"})};\\n    var self = this;\\n    function AppViewModel() {\\n        for (var key in json_data) {\\n            var el = json_data[key];\\n            this[key] = Array.isArray(el) ? ko.observableArray(el) : ko.observable(el);\\n        }\\n        \\n        [this[\\\"formatted_val\\\"]=ko.computed(    function(){\\n        return this.formatted_vals()[parseInt(this.index())-(1)];\\n    }\\n,this)]\\n        [this[\\\"changes\\\"].subscribe((function (val){!(this.valueFromJulia[\\\"changes\\\"]) ? (WebIO.setval({\\\"name\\\":\\\"changes\\\",\\\"scope\\\":\\\"8077181893187044820\\\",\\\"id\\\":\\\"ob_10\\\",\\\"type\\\":\\\"observable\\\"},val)) : undefined; return this.valueFromJulia[\\\"changes\\\"]=false}),self),this[\\\"index\\\"].subscribe((function (val){!(this.valueFromJulia[\\\"index\\\"]) ? (WebIO.setval({\\\"name\\\":\\\"index\\\",\\\"scope\\\":\\\"8077181893187044820\\\",\\\"id\\\":\\\"ob_09\\\",\\\"type\\\":\\\"observable\\\"},val)) : undefined; return this.valueFromJulia[\\\"index\\\"]=false}),self)]\\n        \\n    }\\n    self.model = new AppViewModel();\\n    self.valueFromJulia = {};\\n    for (var key in json_data) {\\n        self.valueFromJulia[key] = false;\\n    }\\n    ko.applyBindings(self.model, self.dom);\\n}\\n);\\n    (WebIO.importBlock({\\\"data\\\":[{\\\"name\\\":\\\"knockout\\\",\\\"type\\\":\\\"js\\\",\\\"url\\\":\\\"/assetserver/9a186147d51179d2ec12ccfac1799b0b805a79d5-knockout.js\\\"},{\\\"name\\\":\\\"knockout_punches\\\",\\\"type\\\":\\\"js\\\",\\\"url\\\":\\\"/assetserver/eccef011301f679ebde0900f01478cac573870ce-knockout_punches.js\\\"}],\\\"type\\\":\\\"async_block\\\"})).then((imports) => handler.apply(this, imports));\\n}\\n\")])], Dict{Symbol,Any}(:className => \"field interact-widget\")), Node{WebIO.DOM}(WebIO.DOM(:html, :div), Any[Scope(Node{WebIO.DOM}(WebIO.DOM(:html, :div), Any[Node{WebIO.DOM}(WebIO.DOM(:html, :div), Any[Node{WebIO.DOM}(WebIO.DOM(:html, :label), Any[\"y\"], Dict{Symbol,Any}(:className => \"interact \",:style => Dict{Any,Any}(:padding => \"5px 10px 0px 10px\")))], Dict{Symbol,Any}(:className => \"interact-flex-row-left\")), Node{WebIO.DOM}(WebIO.DOM(:html, :div), Any[Node{WebIO.DOM}(WebIO.DOM(:html, :input), Any[], Dict{Symbol,Any}(:max => 100,:min => 1,:attributes => Dict{Any,Any}(:type => \"range\",Symbol(\"data-bind\") => \"numericValue: index, valueUpdate: 'input', event: {change: function (){this.changes(this.changes()+1)}}\",\"orient\" => \"horizontal\"),:step => 1,:className => \"slider slider is-fullwidth\",:style => Dict{Any,Any}()))], Dict{Symbol,Any}(:className => \"interact-flex-row-center\")), Node{WebIO.DOM}(WebIO.DOM(:html, :div), Any[Node{WebIO.DOM}(WebIO.DOM(:html, :p), Any[], Dict{Symbol,Any}(:attributes => Dict(\"data-bind\" => \"text: formatted_val\")))], Dict{Symbol,Any}(:className => \"interact-flex-row-right\"))], Dict{Symbol,Any}(:className => \"interact-flex-row interact-widget\")), Dict{String,Tuple{Observables.AbstractObservable,Union{Nothing, Bool}}}(\"changes\" => (Observable{Int64} with 1 listeners. Value:\n",
       "0, nothing),\"index\" => (Observable{Int64} with 2 listeners. Value:\n",
       "50, nothing)), Set(String[]), nothing, Asset[Asset(\"js\", \"knockout\", \"/Users/dpsanders/.julia/packages/Knockout/1sDlc/src/../assets/knockout.js\"), Asset(\"js\", \"knockout_punches\", \"/Users/dpsanders/.julia/packages/Knockout/1sDlc/src/../assets/knockout_punches.js\"), Asset(\"js\", nothing, \"/Users/dpsanders/.julia/packages/InteractBase/9mFwe/src/../assets/all.js\"), Asset(\"css\", nothing, \"/Users/dpsanders/.julia/packages/InteractBase/9mFwe/src/../assets/style.css\"), Asset(\"css\", nothing, \"/Users/dpsanders/.julia/packages/Interact/SbgIk/src/../assets/bulma_confined.min.css\")], Dict{Any,Any}(\"changes\" => Any[WebIO.JSString(\"(function (val){return (val!=this.model[\\\"changes\\\"]()) ? (this.valueFromJulia[\\\"changes\\\"]=true, this.model[\\\"changes\\\"](val)) : undefined})\")],\"index\" => Any[WebIO.JSString(\"(function (val){return (val!=this.model[\\\"index\\\"]()) ? (this.valueFromJulia[\\\"index\\\"]=true, this.model[\\\"index\\\"](val)) : undefined})\")]), WebIO.ConnectionPool(Channel{Any}(sz_max:32,sz_curr:0), Set(AbstractConnection[]), Base.GenericCondition{Base.AlwaysLockedST}(Base.InvasiveLinkedList{Task}(Task (runnable) @0x000000013c398b50, Task (runnable) @0x000000013c398b50), Base.AlwaysLockedST(1))), WebIO.JSString[WebIO.JSString(\"function () {\\n    var handler = (function (ko, koPunches) {\\n    ko.punches.enableAll();\\n    ko.bindingHandlers.numericValue = {\\n        init: function(element, valueAccessor, allBindings, data, context) {\\n            var stringified = ko.observable(ko.unwrap(valueAccessor()));\\n            stringified.subscribe(function(value) {\\n                var val = parseFloat(value);\\n                if (!isNaN(val)) {\\n                    valueAccessor()(val);\\n                }\\n            });\\n            valueAccessor().subscribe(function(value) {\\n                var str = JSON.stringify(value);\\n                if ((str == \\\"0\\\") && ([\\\"-0\\\", \\\"-0.\\\"].indexOf(stringified()) >= 0))\\n                     return;\\n                 if ([\\\"null\\\", \\\"\\\"].indexOf(str) >= 0)\\n                     return;\\n                stringified(str);\\n            });\\n            ko.applyBindingsToNode(\\n                element,\\n                {\\n                    value: stringified,\\n                    valueUpdate: allBindings.get('valueUpdate'),\\n                },\\n                context,\\n            );\\n        }\\n    };\\n    var json_data = {\\\"formatted_vals\\\":[\\\"1\\\",\\\"2\\\",\\\"3\\\",\\\"4\\\",\\\"5\\\",\\\"6\\\",\\\"7\\\",\\\"8\\\",\\\"9\\\",\\\"10\\\",\\\"11\\\",\\\"12\\\",\\\"13\\\",\\\"14\\\",\\\"15\\\",\\\"16\\\",\\\"17\\\",\\\"18\\\",\\\"19\\\",\\\"20\\\",\\\"21\\\",\\\"22\\\",\\\"23\\\",\\\"24\\\",\\\"25\\\",\\\"26\\\",\\\"27\\\",\\\"28\\\",\\\"29\\\",\\\"30\\\",\\\"31\\\",\\\"32\\\",\\\"33\\\",\\\"34\\\",\\\"35\\\",\\\"36\\\",\\\"37\\\",\\\"38\\\",\\\"39\\\",\\\"40\\\",\\\"41\\\",\\\"42\\\",\\\"43\\\",\\\"44\\\",\\\"45\\\",\\\"46\\\",\\\"47\\\",\\\"48\\\",\\\"49\\\",\\\"50\\\",\\\"51\\\",\\\"52\\\",\\\"53\\\",\\\"54\\\",\\\"55\\\",\\\"56\\\",\\\"57\\\",\\\"58\\\",\\\"59\\\",\\\"60\\\",\\\"61\\\",\\\"62\\\",\\\"63\\\",\\\"64\\\",\\\"65\\\",\\\"66\\\",\\\"67\\\",\\\"68\\\",\\\"69\\\",\\\"70\\\",\\\"71\\\",\\\"72\\\",\\\"73\\\",\\\"74\\\",\\\"75\\\",\\\"76\\\",\\\"77\\\",\\\"78\\\",\\\"79\\\",\\\"80\\\",\\\"81\\\",\\\"82\\\",\\\"83\\\",\\\"84\\\",\\\"85\\\",\\\"86\\\",\\\"87\\\",\\\"88\\\",\\\"89\\\",\\\"90\\\",\\\"91\\\",\\\"92\\\",\\\"93\\\",\\\"94\\\",\\\"95\\\",\\\"96\\\",\\\"97\\\",\\\"98\\\",\\\"99\\\",\\\"100\\\"],\\\"changes\\\":WebIO.getval({\\\"name\\\":\\\"changes\\\",\\\"scope\\\":\\\"5437806528319438796\\\",\\\"id\\\":\\\"ob_12\\\",\\\"type\\\":\\\"observable\\\"}),\\\"index\\\":WebIO.getval({\\\"name\\\":\\\"index\\\",\\\"scope\\\":\\\"5437806528319438796\\\",\\\"id\\\":\\\"ob_11\\\",\\\"type\\\":\\\"observable\\\"})};\\n    var self = this;\\n    function AppViewModel() {\\n        for (var key in json_data) {\\n            var el = json_data[key];\\n            this[key] = Array.isArray(el) ? ko.observableArray(el) : ko.observable(el);\\n        }\\n        \\n        [this[\\\"formatted_val\\\"]=ko.computed(    function(){\\n        return this.formatted_vals()[parseInt(this.index())-(1)];\\n    }\\n,this)]\\n        [this[\\\"changes\\\"].subscribe((function (val){!(this.valueFromJulia[\\\"changes\\\"]) ? (WebIO.setval({\\\"name\\\":\\\"changes\\\",\\\"scope\\\":\\\"5437806528319438796\\\",\\\"id\\\":\\\"ob_12\\\",\\\"type\\\":\\\"observable\\\"},val)) : undefined; return this.valueFromJulia[\\\"changes\\\"]=false}),self),this[\\\"index\\\"].subscribe((function (val){!(this.valueFromJulia[\\\"index\\\"]) ? (WebIO.setval({\\\"name\\\":\\\"index\\\",\\\"scope\\\":\\\"5437806528319438796\\\",\\\"id\\\":\\\"ob_11\\\",\\\"type\\\":\\\"observable\\\"},val)) : undefined; return this.valueFromJulia[\\\"index\\\"]=false}),self)]\\n        \\n    }\\n    self.model = new AppViewModel();\\n    self.valueFromJulia = {};\\n    for (var key in json_data) {\\n        self.valueFromJulia[key] = false;\\n    }\\n    ko.applyBindings(self.model, self.dom);\\n}\\n);\\n    (WebIO.importBlock({\\\"data\\\":[{\\\"name\\\":\\\"knockout\\\",\\\"type\\\":\\\"js\\\",\\\"url\\\":\\\"/assetserver/9a186147d51179d2ec12ccfac1799b0b805a79d5-knockout.js\\\"},{\\\"name\\\":\\\"knockout_punches\\\",\\\"type\\\":\\\"js\\\",\\\"url\\\":\\\"/assetserver/eccef011301f679ebde0900f01478cac573870ce-knockout_punches.js\\\"}],\\\"type\\\":\\\"async_block\\\"})).then((imports) => handler.apply(this, imports));\\n}\\n\")])], Dict{Symbol,Any}(:className => \"field interact-widget\")), Observable{Any} with 0 listeners. Value:\n",
       "Node{WebIO.DOM}(WebIO.DOM(:html, :div), Any[Plot{Plots.GRBackend() n=4}], Dict{Symbol,Any}(:className => \"interact-flex-row interact-widget\"))], Dict{Symbol,Any}())"
      ]
     },
     "execution_count": 10,
     "metadata": {
      "application/vnd.webio.node+json": {
       "kernelId": "bb4f1a48-c771-40a9-9801-a9b07d79c8b0"
      }
     },
     "output_type": "execute_result"
    }
   ],
   "source": [
    "@manipulate for n in slider(1:10, value=1), y in 1:100\n",
    "    xx = TaylorModel1(n, x0, a)\n",
    "    ff = f(xx)\n",
    "    \n",
    "    plot(a.lo:0.01:a.hi, f, lw=3, leg=false)\n",
    "    \n",
    "    scatter!([x0], [f(x0)])\n",
    "    \n",
    "    plot!(ff)\n",
    "    plot!(x -> ff.pol(x - x0), lw=2, ls=:dash)\n",
    "    \n",
    "    ylims!(-y, y)\n",
    "end"
   ]
  },
  {
   "cell_type": "code",
   "execution_count": null,
   "metadata": {},
   "outputs": [],
   "source": []
  }
 ],
 "metadata": {
  "@webio": {
   "lastCommId": "0658b9bb0ceb4e7abd354e72206ad387",
   "lastKernelId": "bb4f1a48-c771-40a9-9801-a9b07d79c8b0"
  },
  "kernelspec": {
   "display_name": "Julia 1.4.0-rc1",
   "language": "julia",
   "name": "julia-1.4"
  },
  "language_info": {
   "file_extension": ".jl",
   "mimetype": "application/julia",
   "name": "julia",
   "version": "1.4.0"
  }
 },
 "nbformat": 4,
 "nbformat_minor": 2
}
