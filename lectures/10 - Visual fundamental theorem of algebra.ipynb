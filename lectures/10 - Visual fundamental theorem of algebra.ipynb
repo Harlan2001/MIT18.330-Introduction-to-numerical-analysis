{
 "cells": [
  {
   "cell_type": "code",
   "execution_count": 1,
   "metadata": {},
   "outputs": [
    {
     "data": {
      "text/plain": [
       "f (generic function with 1 method)"
      ]
     },
     "execution_count": 1,
     "metadata": {},
     "output_type": "execute_result"
    }
   ],
   "source": [
    "f(z) = z^3 - 1"
   ]
  },
  {
   "cell_type": "code",
   "execution_count": 5,
   "metadata": {},
   "outputs": [
    {
     "data": {
      "text/plain": [
       "make_circle (generic function with 2 methods)"
      ]
     },
     "execution_count": 5,
     "metadata": {},
     "output_type": "execute_result"
    }
   ],
   "source": [
    "function make_circle(ρ, δθ=0.01)   # default value\n",
    "    θs = 0:δθ:2π\n",
    "    \n",
    "    # zs = [ρ * exp(im * θ) for θ in θs]\n",
    "    \n",
    "    zs = ρ .* exp.(im .* θs)\n",
    "    \n",
    "    return zs\n",
    "end"
   ]
  },
  {
   "cell_type": "code",
   "execution_count": 7,
   "metadata": {},
   "outputs": [
    {
     "data": {
      "text/plain": [
       "629-element Array{Complex{Float64},1}:\n",
       "                1.0 + 0.0im\n",
       " 0.9999500004166653 + 0.009999833334166664im\n",
       " 0.9998000066665778 + 0.01999866669333308im\n",
       " 0.9995500337489875 + 0.02999550020249566im\n",
       " 0.9992001066609779 + 0.03998933418663416im\n",
       " 0.9987502603949663 + 0.04997916927067833im\n",
       " 0.9982005399352042 + 0.059964006479444595im\n",
       " 0.9975510002532796 + 0.06994284733753277im\n",
       " 0.9968017063026194 + 0.0799146939691727im\n",
       " 0.9959527330119943 + 0.08987854919801104im\n",
       " 0.9950041652780258 + 0.09983341664682815im\n",
       " 0.9939560979566968 + 0.10977830083717481im\n",
       " 0.9928086358538663 + 0.11971220728891936im\n",
       "                    ⋮\n",
       " 0.9936013785128064 - 0.11294379406346737im\n",
       "  0.994681117974643 - 0.10300229873509785im\n",
       " 0.9956613901535805 - 0.0930505032626889im\n",
       " 0.9965420970232175 - 0.0830894028174964im\n",
       " 0.9973231505136012 - 0.07311999350126308im\n",
       " 0.9980044725200334 - 0.06314327224661277im\n",
       " 0.9985859949108813 - 0.053160236717356125im\n",
       " 0.9990676595343903 - 0.04317188520872868im\n",
       " 0.9994494182244994 - 0.03317921654755682im\n",
       " 0.9997312328056578 - 0.02318322999237945im\n",
       " 0.9999130750966423 - 0.013184925133521251im\n",
       " 0.9999949269133752 - 0.0031853017931379904im"
      ]
     },
     "execution_count": 7,
     "metadata": {},
     "output_type": "execute_result"
    }
   ],
   "source": [
    "zs = make_circle(1)"
   ]
  },
  {
   "cell_type": "code",
   "execution_count": 8,
   "metadata": {},
   "outputs": [],
   "source": [
    "using Plots"
   ]
  },
  {
   "cell_type": "code",
   "execution_count": 11,
   "metadata": {},
   "outputs": [
    {
     "data": {
      "image/svg+xml": [
       "<?xml version=\"1.0\" encoding=\"utf-8\"?>\n",
       "<svg xmlns=\"http://www.w3.org/2000/svg\" xmlns:xlink=\"http://www.w3.org/1999/xlink\" width=\"600\" height=\"400\" viewBox=\"0 0 2400 1600\">\n",
       "<defs>\n",
       "  <clipPath id=\"clip7800\">\n",
       "    <rect x=\"0\" y=\"0\" width=\"2400\" height=\"1600\"/>\n",
       "  </clipPath>\n",
       "</defs>\n",
       "<path clip-path=\"url(#clip7800)\" d=\"\n",
       "M0 1600 L2400 1600 L2400 0 L0 0  Z\n",
       "  \" fill=\"#ffffff\" fill-rule=\"evenodd\" fill-opacity=\"1\"/>\n",
       "<defs>\n",
       "  <clipPath id=\"clip7801\">\n",
       "    <rect x=\"480\" y=\"0\" width=\"1681\" height=\"1600\"/>\n",
       "  </clipPath>\n",
       "</defs>\n",
       "<path clip-path=\"url(#clip7800)\" d=\"\n",
       "M182.008 1487.47 L2352.76 1487.47 L2352.76 47.2441 L182.008 47.2441  Z\n",
       "  \" fill=\"#ffffff\" fill-rule=\"evenodd\" fill-opacity=\"1\"/>\n",
       "<defs>\n",
       "  <clipPath id=\"clip7802\">\n",
       "    <rect x=\"182\" y=\"47\" width=\"2172\" height=\"1441\"/>\n",
       "  </clipPath>\n",
       "</defs>\n",
       "<polyline clip-path=\"url(#clip7802)\" style=\"stroke:#000000; stroke-width:2; stroke-opacity:0.1; fill:none\" points=\"\n",
       "  248.349,1487.47 248.349,47.2441 \n",
       "  \"/>\n",
       "<polyline clip-path=\"url(#clip7802)\" style=\"stroke:#000000; stroke-width:2; stroke-opacity:0.1; fill:none\" points=\"\n",
       "  588.026,1487.47 588.026,47.2441 \n",
       "  \"/>\n",
       "<polyline clip-path=\"url(#clip7802)\" style=\"stroke:#000000; stroke-width:2; stroke-opacity:0.1; fill:none\" points=\"\n",
       "  927.704,1487.47 927.704,47.2441 \n",
       "  \"/>\n",
       "<polyline clip-path=\"url(#clip7802)\" style=\"stroke:#000000; stroke-width:2; stroke-opacity:0.1; fill:none\" points=\"\n",
       "  1267.38,1487.47 1267.38,47.2441 \n",
       "  \"/>\n",
       "<polyline clip-path=\"url(#clip7802)\" style=\"stroke:#000000; stroke-width:2; stroke-opacity:0.1; fill:none\" points=\"\n",
       "  1607.06,1487.47 1607.06,47.2441 \n",
       "  \"/>\n",
       "<polyline clip-path=\"url(#clip7802)\" style=\"stroke:#000000; stroke-width:2; stroke-opacity:0.1; fill:none\" points=\"\n",
       "  1946.74,1487.47 1946.74,47.2441 \n",
       "  \"/>\n",
       "<polyline clip-path=\"url(#clip7802)\" style=\"stroke:#000000; stroke-width:2; stroke-opacity:0.1; fill:none\" points=\"\n",
       "  2286.41,1487.47 2286.41,47.2441 \n",
       "  \"/>\n",
       "<polyline clip-path=\"url(#clip7802)\" style=\"stroke:#000000; stroke-width:2; stroke-opacity:0.1; fill:none\" points=\"\n",
       "  182.008,1446.72 2352.76,1446.72 \n",
       "  \"/>\n",
       "<polyline clip-path=\"url(#clip7802)\" style=\"stroke:#000000; stroke-width:2; stroke-opacity:0.1; fill:none\" points=\"\n",
       "  182.008,1107.04 2352.76,1107.04 \n",
       "  \"/>\n",
       "<polyline clip-path=\"url(#clip7802)\" style=\"stroke:#000000; stroke-width:2; stroke-opacity:0.1; fill:none\" points=\"\n",
       "  182.008,767.36 2352.76,767.36 \n",
       "  \"/>\n",
       "<polyline clip-path=\"url(#clip7802)\" style=\"stroke:#000000; stroke-width:2; stroke-opacity:0.1; fill:none\" points=\"\n",
       "  182.008,427.683 2352.76,427.683 \n",
       "  \"/>\n",
       "<polyline clip-path=\"url(#clip7802)\" style=\"stroke:#000000; stroke-width:2; stroke-opacity:0.1; fill:none\" points=\"\n",
       "  182.008,88.0051 2352.76,88.0051 \n",
       "  \"/>\n",
       "<polyline clip-path=\"url(#clip7800)\" style=\"stroke:#000000; stroke-width:4; stroke-opacity:1; fill:none\" points=\"\n",
       "  182.008,1487.47 2352.76,1487.47 \n",
       "  \"/>\n",
       "<polyline clip-path=\"url(#clip7800)\" style=\"stroke:#000000; stroke-width:4; stroke-opacity:1; fill:none\" points=\"\n",
       "  182.008,1487.47 182.008,47.2441 \n",
       "  \"/>\n",
       "<polyline clip-path=\"url(#clip7800)\" style=\"stroke:#000000; stroke-width:4; stroke-opacity:1; fill:none\" points=\"\n",
       "  248.349,1487.47 248.349,1470.19 \n",
       "  \"/>\n",
       "<polyline clip-path=\"url(#clip7800)\" style=\"stroke:#000000; stroke-width:4; stroke-opacity:1; fill:none\" points=\"\n",
       "  588.026,1487.47 588.026,1470.19 \n",
       "  \"/>\n",
       "<polyline clip-path=\"url(#clip7800)\" style=\"stroke:#000000; stroke-width:4; stroke-opacity:1; fill:none\" points=\"\n",
       "  927.704,1487.47 927.704,1470.19 \n",
       "  \"/>\n",
       "<polyline clip-path=\"url(#clip7800)\" style=\"stroke:#000000; stroke-width:4; stroke-opacity:1; fill:none\" points=\"\n",
       "  1267.38,1487.47 1267.38,1470.19 \n",
       "  \"/>\n",
       "<polyline clip-path=\"url(#clip7800)\" style=\"stroke:#000000; stroke-width:4; stroke-opacity:1; fill:none\" points=\"\n",
       "  1607.06,1487.47 1607.06,1470.19 \n",
       "  \"/>\n",
       "<polyline clip-path=\"url(#clip7800)\" style=\"stroke:#000000; stroke-width:4; stroke-opacity:1; fill:none\" points=\"\n",
       "  1946.74,1487.47 1946.74,1470.19 \n",
       "  \"/>\n",
       "<polyline clip-path=\"url(#clip7800)\" style=\"stroke:#000000; stroke-width:4; stroke-opacity:1; fill:none\" points=\"\n",
       "  2286.41,1487.47 2286.41,1470.19 \n",
       "  \"/>\n",
       "<polyline clip-path=\"url(#clip7800)\" style=\"stroke:#000000; stroke-width:4; stroke-opacity:1; fill:none\" points=\"\n",
       "  182.008,1446.72 208.057,1446.72 \n",
       "  \"/>\n",
       "<polyline clip-path=\"url(#clip7800)\" style=\"stroke:#000000; stroke-width:4; stroke-opacity:1; fill:none\" points=\"\n",
       "  182.008,1107.04 208.057,1107.04 \n",
       "  \"/>\n",
       "<polyline clip-path=\"url(#clip7800)\" style=\"stroke:#000000; stroke-width:4; stroke-opacity:1; fill:none\" points=\"\n",
       "  182.008,767.36 208.057,767.36 \n",
       "  \"/>\n",
       "<polyline clip-path=\"url(#clip7800)\" style=\"stroke:#000000; stroke-width:4; stroke-opacity:1; fill:none\" points=\"\n",
       "  182.008,427.683 208.057,427.683 \n",
       "  \"/>\n",
       "<polyline clip-path=\"url(#clip7800)\" style=\"stroke:#000000; stroke-width:4; stroke-opacity:1; fill:none\" points=\"\n",
       "  182.008,88.0051 208.057,88.0051 \n",
       "  \"/>\n",
       "<g clip-path=\"url(#clip7800)\">\n",
       "<text style=\"fill:#000000; fill-opacity:1; font-family:Arial,Helvetica Neue,Helvetica,sans-serif; font-size:48px; text-anchor:middle;\" transform=\"rotate(0, 248.349, 1541.47)\" x=\"248.349\" y=\"1541.47\">-1.5</text>\n",
       "</g>\n",
       "<g clip-path=\"url(#clip7800)\">\n",
       "<text style=\"fill:#000000; fill-opacity:1; font-family:Arial,Helvetica Neue,Helvetica,sans-serif; font-size:48px; text-anchor:middle;\" transform=\"rotate(0, 588.026, 1541.47)\" x=\"588.026\" y=\"1541.47\">-1.0</text>\n",
       "</g>\n",
       "<g clip-path=\"url(#clip7800)\">\n",
       "<text style=\"fill:#000000; fill-opacity:1; font-family:Arial,Helvetica Neue,Helvetica,sans-serif; font-size:48px; text-anchor:middle;\" transform=\"rotate(0, 927.704, 1541.47)\" x=\"927.704\" y=\"1541.47\">-0.5</text>\n",
       "</g>\n",
       "<g clip-path=\"url(#clip7800)\">\n",
       "<text style=\"fill:#000000; fill-opacity:1; font-family:Arial,Helvetica Neue,Helvetica,sans-serif; font-size:48px; text-anchor:middle;\" transform=\"rotate(0, 1267.38, 1541.47)\" x=\"1267.38\" y=\"1541.47\">0.0</text>\n",
       "</g>\n",
       "<g clip-path=\"url(#clip7800)\">\n",
       "<text style=\"fill:#000000; fill-opacity:1; font-family:Arial,Helvetica Neue,Helvetica,sans-serif; font-size:48px; text-anchor:middle;\" transform=\"rotate(0, 1607.06, 1541.47)\" x=\"1607.06\" y=\"1541.47\">0.5</text>\n",
       "</g>\n",
       "<g clip-path=\"url(#clip7800)\">\n",
       "<text style=\"fill:#000000; fill-opacity:1; font-family:Arial,Helvetica Neue,Helvetica,sans-serif; font-size:48px; text-anchor:middle;\" transform=\"rotate(0, 1946.74, 1541.47)\" x=\"1946.74\" y=\"1541.47\">1.0</text>\n",
       "</g>\n",
       "<g clip-path=\"url(#clip7800)\">\n",
       "<text style=\"fill:#000000; fill-opacity:1; font-family:Arial,Helvetica Neue,Helvetica,sans-serif; font-size:48px; text-anchor:middle;\" transform=\"rotate(0, 2286.41, 1541.47)\" x=\"2286.41\" y=\"1541.47\">1.5</text>\n",
       "</g>\n",
       "<g clip-path=\"url(#clip7800)\">\n",
       "<text style=\"fill:#000000; fill-opacity:1; font-family:Arial,Helvetica Neue,Helvetica,sans-serif; font-size:48px; text-anchor:end;\" transform=\"rotate(0, 158.008, 1464.22)\" x=\"158.008\" y=\"1464.22\">-1.0</text>\n",
       "</g>\n",
       "<g clip-path=\"url(#clip7800)\">\n",
       "<text style=\"fill:#000000; fill-opacity:1; font-family:Arial,Helvetica Neue,Helvetica,sans-serif; font-size:48px; text-anchor:end;\" transform=\"rotate(0, 158.008, 1124.54)\" x=\"158.008\" y=\"1124.54\">-0.5</text>\n",
       "</g>\n",
       "<g clip-path=\"url(#clip7800)\">\n",
       "<text style=\"fill:#000000; fill-opacity:1; font-family:Arial,Helvetica Neue,Helvetica,sans-serif; font-size:48px; text-anchor:end;\" transform=\"rotate(0, 158.008, 784.86)\" x=\"158.008\" y=\"784.86\">0.0</text>\n",
       "</g>\n",
       "<g clip-path=\"url(#clip7800)\">\n",
       "<text style=\"fill:#000000; fill-opacity:1; font-family:Arial,Helvetica Neue,Helvetica,sans-serif; font-size:48px; text-anchor:end;\" transform=\"rotate(0, 158.008, 445.183)\" x=\"158.008\" y=\"445.183\">0.5</text>\n",
       "</g>\n",
       "<g clip-path=\"url(#clip7800)\">\n",
       "<text style=\"fill:#000000; fill-opacity:1; font-family:Arial,Helvetica Neue,Helvetica,sans-serif; font-size:48px; text-anchor:end;\" transform=\"rotate(0, 158.008, 105.505)\" x=\"158.008\" y=\"105.505\">1.0</text>\n",
       "</g>\n",
       "<polyline clip-path=\"url(#clip7802)\" style=\"stroke:#009af9; stroke-width:4; stroke-opacity:1; fill:none\" points=\"\n",
       "  1946.74,767.36 1946.7,760.567 1946.6,753.774 1946.43,746.983 1946.19,740.193 1945.89,733.407 1945.51,726.623 1945.07,719.844 1944.56,713.07 1943.99,706.301 \n",
       "  1943.34,699.538 1942.63,692.782 1941.85,686.033 1941,679.293 1940.09,672.561 1939.11,665.839 1938.06,659.127 1936.94,652.425 1935.76,645.736 1934.51,639.058 \n",
       "  1933.19,632.393 1931.81,625.742 1930.36,619.105 1928.85,612.483 1927.27,605.876 1925.62,599.285 1923.9,592.711 1922.12,586.155 1920.28,579.617 1918.37,573.097 \n",
       "  1916.39,566.597 1914.35,560.117 1912.25,553.658 1910.08,547.22 1907.85,540.804 1905.55,534.411 1903.19,528.041 1900.76,521.695 1898.27,515.374 1895.72,509.077 \n",
       "  1893.11,502.807 1890.43,496.563 1887.69,490.346 1884.89,484.157 1882.03,477.996 1879.1,471.864 1876.12,465.762 1873.07,459.69 1869.97,453.648 1866.8,447.638 \n",
       "  1863.57,441.66 1860.29,435.715 1856.94,429.802 1853.53,423.924 1850.07,418.079 1846.55,412.27 1842.97,406.496 1839.33,400.758 1835.64,395.057 1831.89,389.394 \n",
       "  1828.08,383.768 1824.21,378.18 1820.29,372.631 1816.32,367.122 1812.29,361.652 1808.21,356.224 1804.07,350.836 1799.87,345.49 1795.63,340.186 1791.33,334.925 \n",
       "  1786.98,329.708 1782.58,324.534 1778.12,319.404 1773.62,314.319 1769.06,309.279 1764.46,304.285 1759.8,299.338 1755.1,294.437 1750.34,289.584 1745.54,284.778 \n",
       "  1740.69,280.021 1735.8,275.312 1730.85,270.653 1725.86,266.043 1720.83,261.483 1715.74,256.974 1710.62,252.516 1705.45,248.109 1700.23,243.755 1694.98,239.453 \n",
       "  1689.68,235.203 1684.33,231.007 1678.95,226.864 1673.52,222.776 1668.06,218.742 1662.55,214.762 1657.01,210.838 1651.42,206.97 1645.8,203.158 1640.14,199.402 \n",
       "  1634.44,195.703 1628.7,192.061 1622.93,188.476 1617.13,184.95 1611.28,181.482 1605.41,178.072 1599.5,174.721 1593.56,171.43 1587.58,168.198 1581.57,165.026 \n",
       "  1575.53,161.914 1569.46,158.863 1563.36,155.872 1557.24,152.943 1551.08,150.075 1544.89,147.269 1538.67,144.525 1532.43,141.844 1526.16,139.224 1519.87,136.668 \n",
       "  1513.55,134.175 1507.21,131.745 1500.84,129.378 1494.45,127.076 1488.03,124.837 1481.6,122.663 1475.14,120.553 1468.66,118.508 1462.16,116.527 1455.65,114.612 \n",
       "  1449.11,112.762 1442.55,110.978 1435.98,109.259 1429.39,107.606 1422.79,106.019 1416.16,104.498 1409.53,103.043 1402.88,101.655 1396.22,100.333 1389.54,99.0781 \n",
       "  1382.85,97.8899 1376.15,96.7687 1369.44,95.7146 1362.72,94.7276 1355.99,93.8079 1349.25,92.9556 1342.5,92.1707 1335.74,91.4533 1328.98,90.8035 1322.21,90.2213 \n",
       "  1315.44,89.7069 1308.66,89.2603 1301.88,88.8814 1295.09,88.5704 1288.3,88.3273 1281.51,88.152 1274.72,88.0447 1267.92,88.0053 1261.13,88.0339 1254.34,88.1304 \n",
       "  1247.54,88.2948 1240.76,88.5271 1233.97,88.8273 1227.18,89.1954 1220.41,89.6312 1213.63,90.1349 1206.86,90.7062 1200.1,91.3453 1193.34,92.0519 1186.59,92.8261 \n",
       "  1179.85,93.6677 1173.12,94.5767 1166.39,95.5529 1159.68,96.5964 1152.98,97.7069 1146.29,98.8844 1139.61,100.129 1132.94,101.44 1126.29,102.817 1119.65,104.261 \n",
       "  1113.03,105.772 1106.42,107.348 1099.83,108.991 1093.26,110.699 1086.7,112.473 1080.16,114.313 1073.64,116.218 1067.14,118.188 1060.65,120.223 1054.19,122.322 \n",
       "  1047.75,124.486 1041.34,126.715 1034.94,129.007 1028.57,131.364 1022.22,133.783 1015.9,136.267 1009.6,138.813 1003.33,141.422 997.08,144.094 990.861,146.828 \n",
       "  984.67,149.624 978.507,152.482 972.373,155.402 966.268,158.382 960.193,161.424 954.149,164.526 948.137,167.688 942.156,170.911 936.208,174.193 930.293,177.534 \n",
       "  924.412,180.935 918.565,184.394 912.753,187.911 906.976,191.486 901.235,195.119 895.531,198.809 889.864,202.556 884.235,206.359 878.645,210.218 873.093,214.134 \n",
       "  867.58,218.104 862.108,222.129 856.676,226.209 851.285,230.343 845.936,234.531 840.629,238.772 835.364,243.066 830.143,247.412 824.965,251.811 819.832,256.261 \n",
       "  814.744,260.762 809.7,265.313 804.703,269.915 799.751,274.567 794.847,279.268 789.99,284.017 785.18,288.815 780.419,293.661 775.706,298.554 771.043,303.494 \n",
       "  766.429,308.481 761.866,313.513 757.353,318.591 752.89,323.714 748.48,328.881 744.121,334.092 739.815,339.346 735.561,344.643 731.36,349.982 727.213,355.363 \n",
       "  723.121,360.785 719.082,366.248 715.098,371.751 711.17,377.293 707.297,382.875 703.48,388.495 699.72,394.153 696.016,399.848 692.37,405.58 688.781,411.348 \n",
       "  685.25,417.152 681.777,422.99 678.362,428.864 675.007,434.771 671.711,440.711 668.474,446.684 665.297,452.689 662.181,458.725 659.125,464.793 656.13,470.89 \n",
       "  653.195,477.018 650.323,483.174 647.512,489.359 644.763,495.571 642.076,501.811 639.452,508.077 636.891,514.369 634.392,520.687 631.957,527.029 629.586,533.395 \n",
       "  627.278,539.784 625.034,546.197 622.855,552.631 620.74,559.087 618.689,565.564 616.704,572.061 614.783,578.577 612.928,585.112 611.139,591.666 609.414,598.237 \n",
       "  607.756,604.825 606.164,611.429 604.638,618.049 603.178,624.684 601.784,631.333 600.457,637.996 599.197,644.671 598.003,651.359 596.877,658.059 595.817,664.769 \n",
       "  594.825,671.49 593.9,678.22 593.042,684.959 592.252,691.706 591.529,698.461 590.874,705.223 590.287,711.991 589.767,718.765 589.315,725.543 588.93,732.326 \n",
       "  588.614,739.112 588.365,745.901 588.185,752.692 588.072,759.485 588.027,766.278 588.05,773.072 588.141,779.865 588.3,786.656 588.527,793.446 588.822,800.233 \n",
       "  589.185,807.017 589.615,813.797 590.114,820.572 590.68,827.342 591.313,834.106 592.014,840.863 592.783,847.613 593.619,854.355 594.523,861.088 595.494,867.812 \n",
       "  596.532,874.526 597.637,881.229 598.809,887.92 600.048,894.6 601.354,901.267 602.727,907.92 604.165,914.56 605.67,921.184 607.242,927.794 608.879,934.387 \n",
       "  610.582,940.963 612.351,947.523 614.185,954.064 616.085,960.586 618.05,967.09 620.08,973.573 622.174,980.035 624.333,986.477 626.556,992.896 628.844,999.293 \n",
       "  631.195,1005.67 633.61,1012.02 636.088,1018.34 638.629,1024.64 641.233,1030.92 643.9,1037.16 646.629,1043.39 649.421,1049.58 652.274,1055.75 655.188,1061.88 \n",
       "  658.164,1067.99 661.201,1074.07 664.298,1080.11 667.456,1086.13 670.673,1092.11 673.951,1098.06 677.287,1103.98 680.683,1109.86 684.137,1115.71 687.65,1121.53 \n",
       "  691.22,1127.31 694.849,1133.05 698.534,1138.76 702.276,1144.43 706.075,1150.06 709.93,1155.65 713.841,1161.21 717.807,1166.72 721.828,1172.2 725.904,1177.63 \n",
       "  730.034,1183.03 734.217,1188.38 738.454,1193.69 742.744,1198.96 747.086,1204.18 751.48,1209.37 755.926,1214.5 760.423,1219.59 764.97,1224.64 769.568,1229.64 \n",
       "  774.216,1234.6 778.913,1239.51 783.658,1244.37 788.453,1249.18 793.295,1253.95 798.184,1258.66 803.121,1263.33 808.103,1267.95 813.132,1272.51 818.206,1277.03 \n",
       "  823.325,1281.5 828.489,1285.91 833.696,1290.28 838.947,1294.59 844.241,1298.84 849.577,1303.05 854.954,1307.2 860.373,1311.3 865.833,1315.34 871.333,1319.33 \n",
       "  876.872,1323.26 882.45,1327.14 888.067,1330.96 893.722,1334.72 899.414,1338.43 905.143,1342.08 910.909,1345.68 916.71,1349.21 922.546,1352.69 928.416,1356.11 \n",
       "  934.32,1359.47 940.258,1362.77 946.228,1366.01 952.231,1369.19 958.265,1372.32 964.33,1375.38 970.425,1378.38 976.55,1381.31 982.704,1384.19 988.886,1387.01 \n",
       "  995.097,1389.76 1001.33,1392.45 1007.6,1395.08 1013.89,1397.65 1020.2,1400.15 1026.54,1402.59 1032.91,1404.97 1039.3,1407.28 1045.71,1409.53 1052.14,1411.72 \n",
       "  1058.59,1413.84 1065.07,1415.89 1071.56,1417.88 1078.08,1419.81 1084.61,1421.67 1091.16,1423.46 1097.73,1425.19 1104.32,1426.86 1110.92,1428.45 1117.54,1429.99 \n",
       "  1124.18,1431.45 1130.82,1432.85 1137.49,1434.18 1144.16,1435.45 1150.85,1436.65 1157.55,1437.78 1164.26,1438.84 1170.98,1439.84 1177.7,1440.77 1184.44,1441.63 \n",
       "  1191.19,1442.43 1197.94,1443.16 1204.71,1443.82 1211.47,1444.41 1218.25,1444.94 1225.02,1445.39 1231.81,1445.78 1238.59,1446.11 1245.38,1446.36 1252.17,1446.55 \n",
       "  1258.97,1446.66 1265.76,1446.71 1272.55,1446.7 1279.35,1446.61 1286.14,1446.46 1292.93,1446.23 1299.71,1445.95 1306.5,1445.59 1313.28,1445.16 1320.05,1444.67 \n",
       "  1326.82,1444.11 1333.59,1443.48 1340.35,1442.79 1347.1,1442.02 1353.84,1441.19 1360.57,1440.29 1367.3,1439.33 1374.01,1438.29 1380.72,1437.2 1387.41,1436.03 \n",
       "  1394.09,1434.79 1400.76,1433.49 1407.41,1432.13 1414.05,1430.69 1420.68,1429.19 1427.29,1427.63 1433.88,1426 1440.46,1424.3 1447.02,1422.53 1453.56,1420.7 \n",
       "  1460.09,1418.81 1466.59,1416.85 1473.08,1414.83 1479.54,1412.74 1485.99,1410.58 1492.41,1408.36 1498.81,1406.08 1505.18,1403.74 1511.53,1401.33 1517.86,1398.85 \n",
       "  1524.16,1396.32 1530.44,1393.72 1536.69,1391.06 1542.91,1388.33 1549.11,1385.55 1555.28,1382.7 1561.42,1379.79 1567.52,1376.82 1573.6,1373.79 1579.65,1370.69 \n",
       "  1585.67,1367.54 1591.66,1364.33 1597.61,1361.05 1603.53,1357.72 1609.42,1354.33 1615.27,1350.88 1621.09,1347.37 1626.87,1343.81 1632.62,1340.18 1638.33,1336.5 \n",
       "  1644,1332.77 1649.63,1328.97 1655.23,1325.12 1660.79,1321.21 1666.31,1317.25 1671.79,1313.24 1677.22,1309.16 1682.62,1305.04 1687.98,1300.86 1693.29,1296.63 \n",
       "  1698.56,1292.34 1703.79,1288 1708.98,1283.61 1714.12,1279.17 1719.21,1274.68 1724.26,1270.14 1729.27,1265.54 1734.23,1260.9 1739.14,1256.2 1744,1251.46 \n",
       "  1748.82,1246.67 1753.59,1241.83 1758.31,1236.95 1762.98,1232.02 1767.6,1227.04 1772.17,1222.01 1776.7,1216.94 1781.17,1211.83 1785.58,1206.67 1789.95,1201.46 \n",
       "  1794.27,1196.21 1798.53,1190.92 1802.74,1185.59 1806.89,1180.22 1810.99,1174.8 1815.04,1169.35 1819.03,1163.85 1822.97,1158.31 1826.85,1152.74 1830.68,1147.12 \n",
       "  1834.45,1141.47 1838.16,1135.78 1841.82,1130.06 1845.41,1124.29 1848.95,1118.5 1852.44,1112.66 1855.86,1106.79 1859.23,1100.89 1862.53,1094.96 1865.78,1088.99 \n",
       "  1868.96,1082.99 1872.09,1076.96 1875.16,1070.9 1878.16,1064.8 1881.1,1058.68 1883.99,1052.53 1886.81,1046.35 1889.57,1040.14 1892.26,1033.91 1894.9,1027.64 \n",
       "  1897.47,1021.36 1899.98,1015.04 1902.42,1008.7 1904.8,1002.34 1907.12,995.955 1909.38,989.547 1911.57,983.116 1913.69,976.663 1915.75,970.19 1917.75,963.696 \n",
       "  1919.68,957.183 1921.54,950.65 1923.34,944.1 1925.08,937.531 1926.75,930.946 1928.35,924.344 1929.89,917.727 1931.36,911.094 1932.76,904.447 1934.1,897.787 \n",
       "  1935.37,891.113 1936.57,884.427 1937.71,877.73 1938.78,871.021 1939.78,864.302 1940.72,857.573 1941.59,850.835 1942.39,844.089 1943.12,837.335 1943.79,830.575 \n",
       "  1944.39,823.807 1944.92,817.035 1945.38,810.257 1945.78,803.475 1946.1,796.689 1946.36,789.901 1946.55,783.11 1946.68,776.318 1946.73,769.524 \n",
       "  \"/>\n",
       "</svg>\n"
      ]
     },
     "execution_count": 11,
     "metadata": {},
     "output_type": "execute_result"
    }
   ],
   "source": [
    "plot(real.(zs), imag.(zs), ratio=1, leg=false)"
   ]
  },
  {
   "cell_type": "code",
   "execution_count": 12,
   "metadata": {},
   "outputs": [
    {
     "data": {
      "text/plain": [
       "629-element Array{Complex{Float64},1}:\n",
       "                    0.0 + 0.0im\n",
       " -0.0004499662510124569 + 0.02999550020249566im\n",
       " -0.0017994600647959214 + 0.059964006479444595im\n",
       "  -0.004047266988005616 + 0.08987854919801105im\n",
       "  -0.007191364146133861 + 0.11971220728891935im\n",
       "  -0.011228922063957647 + 0.14943813247359924im\n",
       "   -0.01615630721187844 + 0.17902957342582418im\n",
       "   -0.02196908527585184 + 0.20845989984609958im\n",
       "  -0.028662025147970227 + 0.23770262642713463im\n",
       "   -0.03622910363410947 + 0.2667314366888311im\n",
       "    -0.0446635108743938 + 0.2955202066613396im\n",
       "   -0.05395765647161321 + 0.3240430283948683im\n",
       "   -0.06410317632206508 + 0.35227423327508994im\n",
       "                        ⋮\n",
       "   -0.05709733300008557 - 0.3330684022306059im\n",
       "   -0.04753105405167246 - 0.3046356955513944im\n",
       "  -0.038821932864886666 - 0.2759288373084767im\n",
       "  -0.030977807060950324 - 0.24697366173662172im\n",
       "   -0.02400573582362331 - 0.21779622653942582im\n",
       "   -0.01791199354641837 - 0.18842278943914878im\n",
       "  -0.012702064186069673 - 0.15887978454653057im\n",
       "  -0.008380636327342317 - 0.1291937985718868im\n",
       "  -0.004951598963621184 - 0.09939154689884816im\n",
       " -0.0024180379970809573 - 0.06949984954232871im\n",
       " -0.0007822334615805726 - 0.03954560701231763im\n",
       "  -4.565747078921767e-5 - 0.0095557761052465im"
      ]
     },
     "execution_count": 12,
     "metadata": {},
     "output_type": "execute_result"
    }
   ],
   "source": [
    "ys = f.(zs)  # apply f element by element to zs"
   ]
  },
  {
   "cell_type": "code",
   "execution_count": 14,
   "metadata": {},
   "outputs": [
    {
     "data": {
      "text/html": [
       "<script>\n",
       "// Immediately-invoked-function-expression to avoid global variables.\n",
       "(function() {\n",
       "    var warning_div = document.getElementById(\"webio-warning-6822651101339581805\");\n",
       "    var hide = function () {\n",
       "        var script = document.getElementById(\"webio-setup-11533748871898653988\");\n",
       "        var parent = script && script.parentElement;\n",
       "        var grandparent = parent && parent.parentElement;\n",
       "        if (grandparent) {\n",
       "            grandparent.style.display = \"none\";\n",
       "        }\n",
       "        warning_div.style.display = \"none\";\n",
       "    };\n",
       "    if (typeof Jupyter !== \"undefined\") {\n",
       "        console.log(\"WebIO detected Jupyter notebook environment.\");\n",
       "        // Jupyter notebook.\n",
       "        var extensions = (\n",
       "            Jupyter\n",
       "            && Jupyter.notebook.config.data\n",
       "            && Jupyter.notebook.config.data.load_extensions\n",
       "        );\n",
       "        if (extensions && extensions[\"webio-jupyter-notebook\"]) {\n",
       "            // Extension already loaded.\n",
       "            console.log(\"Jupyter WebIO nbextension detected; not loading ad-hoc.\");\n",
       "            hide();\n",
       "            return;\n",
       "        }\n",
       "    } else if (window.location.pathname.includes(\"/lab\")) {\n",
       "        // Guessing JupyterLa\n",
       "        console.log(\"Jupyter Lab detected; make sure the @webio/jupyter-lab-provider labextension is installed.\");\n",
       "        hide();\n",
       "        return;\n",
       "    }\n",
       "})();\n",
       "\n",
       "</script>\n",
       "<p\n",
       "    id=\"webio-warning-6822651101339581805\"\n",
       "    class=\"output_text output_stderr\"\n",
       "    style=\"padding: 1em; font-weight: bold;\"\n",
       ">\n",
       "    Unable to load WebIO. Please make sure WebIO works for your Jupyter client.\n",
       "    For troubleshooting, please see <a href=\"https://juliagizmos.github.io/WebIO.jl/latest/providers/ijulia/\">\n",
       "    the WebIO/IJulia documentation</a>.\n",
       "    <!-- TODO: link to installation docs. -->\n",
       "</p>\n"
      ],
      "text/plain": [
       "HTML{String}(\"<script>\\n// Immediately-invoked-function-expression to avoid global variables.\\n(function() {\\n    var warning_div = document.getElementById(\\\"webio-warning-6822651101339581805\\\");\\n    var hide = function () {\\n        var script = document.getElementById(\\\"webio-setup-11533748871898653988\\\");\\n        var parent = script && script.parentElement;\\n        var grandparent = parent && parent.parentElement;\\n        if (grandparent) {\\n            grandparent.style.display = \\\"none\\\";\\n        }\\n        warning_div.style.display = \\\"none\\\";\\n    };\\n    if (typeof Jupyter !== \\\"undefined\\\") {\\n        console.log(\\\"WebIO detected Jupyter notebook environment.\\\");\\n        // Jupyter notebook.\\n        var extensions = (\\n            Jupyter\\n            && Jupyter.notebook.config.data\\n            && Jupyter.notebook.config.data.load_extensions\\n        );\\n        if (extensions && extensions[\\\"webio-jupyter-notebook\\\"]) {\\n            // Extension already loaded.\\n            console.log(\\\"Jupyter WebIO nbextension detected; not loading ad-hoc.\\\");\\n            hide();\\n            return;\\n        }\\n    } else if (window.location.pathname.includes(\\\"/lab\\\")) {\\n        // Guessing JupyterLa\\n        console.log(\\\"Jupyter Lab detected; make sure the @webio/jupyter-lab-provider labextension is installed.\\\");\\n        hide();\\n        return;\\n    }\\n})();\\n\\n</script>\\n<p\\n    id=\\\"webio-warning-6822651101339581805\\\"\\n    class=\\\"output_text output_stderr\\\"\\n    style=\\\"padding: 1em; font-weight: bold;\\\"\\n>\\n    Unable to load WebIO. Please make sure WebIO works for your Jupyter client.\\n    For troubleshooting, please see <a href=\\\"https://juliagizmos.github.io/WebIO.jl/latest/providers/ijulia/\\\">\\n    the WebIO/IJulia documentation</a>.\\n    <!-- TODO: link to installation docs. -->\\n</p>\\n\")"
      ]
     },
     "metadata": {},
     "output_type": "display_data"
    }
   ],
   "source": [
    "using Interact"
   ]
  },
  {
   "cell_type": "code",
   "execution_count": 20,
   "metadata": {},
   "outputs": [
    {
     "data": {
      "text/plain": [
       "f (generic function with 1 method)"
      ]
     },
     "execution_count": 20,
     "metadata": {},
     "output_type": "execute_result"
    }
   ],
   "source": [
    "f(z) = (z - 1)^2 * (z - 2)"
   ]
  },
  {
   "cell_type": "code",
   "execution_count": 21,
   "metadata": {},
   "outputs": [
    {
     "data": {
      "application/vnd.webio.node+json": {
       "children": [
        {
         "children": [
          {
           "children": [
            {
             "children": [
              {
               "children": [
                {
                 "children": [
                  "r"
                 ],
                 "instanceArgs": {
                  "namespace": "html",
                  "tag": "label"
                 },
                 "nodeType": "DOM",
                 "props": {
                  "className": "interact ",
                  "style": {
                   "padding": "5px 10px 0px 10px"
                  }
                 },
                 "type": "node"
                }
               ],
               "instanceArgs": {
                "namespace": "html",
                "tag": "div"
               },
               "nodeType": "DOM",
               "props": {
                "className": "interact-flex-row-left"
               },
               "type": "node"
              },
              {
               "children": [
                {
                 "children": [],
                 "instanceArgs": {
                  "namespace": "html",
                  "tag": "input"
                 },
                 "nodeType": "DOM",
                 "props": {
                  "attributes": {
                   "data-bind": "numericValue: index, valueUpdate: 'input', event: {change: function (){this.changes(this.changes()+1)}}",
                   "orient": "horizontal",
                   "type": "range"
                  },
                  "className": "slider slider is-fullwidth",
                  "max": 1000,
                  "min": 1,
                  "step": 1,
                  "style": {}
                 },
                 "type": "node"
                }
               ],
               "instanceArgs": {
                "namespace": "html",
                "tag": "div"
               },
               "nodeType": "DOM",
               "props": {
                "className": "interact-flex-row-center"
               },
               "type": "node"
              },
              {
               "children": [
                {
                 "children": [],
                 "instanceArgs": {
                  "namespace": "html",
                  "tag": "p"
                 },
                 "nodeType": "DOM",
                 "props": {
                  "attributes": {
                   "data-bind": "text: formatted_val"
                  }
                 },
                 "type": "node"
                }
               ],
               "instanceArgs": {
                "namespace": "html",
                "tag": "div"
               },
               "nodeType": "DOM",
               "props": {
                "className": "interact-flex-row-right"
               },
               "type": "node"
              }
             ],
             "instanceArgs": {
              "namespace": "html",
              "tag": "div"
             },
             "nodeType": "DOM",
             "props": {
              "className": "interact-flex-row interact-widget"
             },
             "type": "node"
            }
           ],
           "instanceArgs": {
            "handlers": {
             "changes": [
              "(function (val){return (val!=this.model[\"changes\"]()) ? (this.valueFromJulia[\"changes\"]=true, this.model[\"changes\"](val)) : undefined})"
             ],
             "index": [
              "(function (val){return (val!=this.model[\"index\"]()) ? (this.valueFromJulia[\"index\"]=true, this.model[\"index\"](val)) : undefined})"
             ]
            },
            "id": "4298254072035559467",
            "imports": {
             "data": [
              {
               "name": "knockout",
               "type": "js",
               "url": "/assetserver/9a186147d51179d2ec12ccfac1799b0b805a79d5-knockout.js"
              },
              {
               "name": "knockout_punches",
               "type": "js",
               "url": "/assetserver/eccef011301f679ebde0900f01478cac573870ce-knockout_punches.js"
              },
              {
               "name": null,
               "type": "js",
               "url": "/assetserver/5d2042c6908ffff0b7c8d26135740476bcf00827-all.js"
              },
              {
               "name": null,
               "type": "css",
               "url": "/assetserver/87ad319ae61de5d44f67c268a0a8f65862fca478-style.css"
              },
              {
               "name": null,
               "type": "css",
               "url": "/assetserver/9354074556c360cc537db1e8b0f0283e19c8ea9d-bulma_confined.min.css"
              }
             ],
             "type": "async_block"
            },
            "mount_callbacks": [
             "function () {\n    var handler = (function (ko, koPunches) {\n    ko.punches.enableAll();\n    ko.bindingHandlers.numericValue = {\n        init: function(element, valueAccessor, allBindings, data, context) {\n            var stringified = ko.observable(ko.unwrap(valueAccessor()));\n            stringified.subscribe(function(value) {\n                var val = parseFloat(value);\n                if (!isNaN(val)) {\n                    valueAccessor()(val);\n                }\n            });\n            valueAccessor().subscribe(function(value) {\n                var str = JSON.stringify(value);\n                if ((str == \"0\") && ([\"-0\", \"-0.\"].indexOf(stringified()) >= 0))\n                     return;\n                 if ([\"null\", \"\"].indexOf(str) >= 0)\n                     return;\n                stringified(str);\n            });\n            ko.applyBindingsToNode(\n                element,\n                {\n                    value: stringified,\n                    valueUpdate: allBindings.get('valueUpdate'),\n                },\n                context,\n            );\n        }\n    };\n    var json_data = {\"formatted_vals\":[\"0.01\",\"0.02\",\"0.03\",\"0.04\",\"0.05\",\"0.06\",\"0.07\",\"0.08\",\"0.09\",\"0.1\",\"0.11\",\"0.12\",\"0.13\",\"0.14\",\"0.15\",\"0.16\",\"0.17\",\"0.18\",\"0.19\",\"0.2\",\"0.21\",\"0.22\",\"0.23\",\"0.24\",\"0.25\",\"0.26\",\"0.27\",\"0.28\",\"0.29\",\"0.3\",\"0.31\",\"0.32\",\"0.33\",\"0.34\",\"0.35\",\"0.36\",\"0.37\",\"0.38\",\"0.39\",\"0.4\",\"0.41\",\"0.42\",\"0.43\",\"0.44\",\"0.45\",\"0.46\",\"0.47\",\"0.48\",\"0.49\",\"0.5\",\"0.51\",\"0.52\",\"0.53\",\"0.54\",\"0.55\",\"0.56\",\"0.57\",\"0.58\",\"0.59\",\"0.6\",\"0.61\",\"0.62\",\"0.63\",\"0.64\",\"0.65\",\"0.66\",\"0.67\",\"0.68\",\"0.69\",\"0.7\",\"0.71\",\"0.72\",\"0.73\",\"0.74\",\"0.75\",\"0.76\",\"0.77\",\"0.78\",\"0.79\",\"0.8\",\"0.81\",\"0.82\",\"0.83\",\"0.84\",\"0.85\",\"0.86\",\"0.87\",\"0.88\",\"0.89\",\"0.9\",\"0.91\",\"0.92\",\"0.93\",\"0.94\",\"0.95\",\"0.96\",\"0.97\",\"0.98\",\"0.99\",\"1.0\",\"1.01\",\"1.02\",\"1.03\",\"1.04\",\"1.05\",\"1.06\",\"1.07\",\"1.08\",\"1.09\",\"1.1\",\"1.11\",\"1.12\",\"1.13\",\"1.14\",\"1.15\",\"1.16\",\"1.17\",\"1.18\",\"1.19\",\"1.2\",\"1.21\",\"1.22\",\"1.23\",\"1.24\",\"1.25\",\"1.26\",\"1.27\",\"1.28\",\"1.29\",\"1.3\",\"1.31\",\"1.32\",\"1.33\",\"1.34\",\"1.35\",\"1.36\",\"1.37\",\"1.38\",\"1.39\",\"1.4\",\"1.41\",\"1.42\",\"1.43\",\"1.44\",\"1.45\",\"1.46\",\"1.47\",\"1.48\",\"1.49\",\"1.5\",\"1.51\",\"1.52\",\"1.53\",\"1.54\",\"1.55\",\"1.56\",\"1.57\",\"1.58\",\"1.59\",\"1.6\",\"1.61\",\"1.62\",\"1.63\",\"1.64\",\"1.65\",\"1.66\",\"1.67\",\"1.68\",\"1.69\",\"1.7\",\"1.71\",\"1.72\",\"1.73\",\"1.74\",\"1.75\",\"1.76\",\"1.77\",\"1.78\",\"1.79\",\"1.8\",\"1.81\",\"1.82\",\"1.83\",\"1.84\",\"1.85\",\"1.86\",\"1.87\",\"1.88\",\"1.89\",\"1.9\",\"1.91\",\"1.92\",\"1.93\",\"1.94\",\"1.95\",\"1.96\",\"1.97\",\"1.98\",\"1.99\",\"2.0\",\"2.01\",\"2.02\",\"2.03\",\"2.04\",\"2.05\",\"2.06\",\"2.07\",\"2.08\",\"2.09\",\"2.1\",\"2.11\",\"2.12\",\"2.13\",\"2.14\",\"2.15\",\"2.16\",\"2.17\",\"2.18\",\"2.19\",\"2.2\",\"2.21\",\"2.22\",\"2.23\",\"2.24\",\"2.25\",\"2.26\",\"2.27\",\"2.28\",\"2.29\",\"2.3\",\"2.31\",\"2.32\",\"2.33\",\"2.34\",\"2.35\",\"2.36\",\"2.37\",\"2.38\",\"2.39\",\"2.4\",\"2.41\",\"2.42\",\"2.43\",\"2.44\",\"2.45\",\"2.46\",\"2.47\",\"2.48\",\"2.49\",\"2.5\",\"2.51\",\"2.52\",\"2.53\",\"2.54\",\"2.55\",\"2.56\",\"2.57\",\"2.58\",\"2.59\",\"2.6\",\"2.61\",\"2.62\",\"2.63\",\"2.64\",\"2.65\",\"2.66\",\"2.67\",\"2.68\",\"2.69\",\"2.7\",\"2.71\",\"2.72\",\"2.73\",\"2.74\",\"2.75\",\"2.76\",\"2.77\",\"2.78\",\"2.79\",\"2.8\",\"2.81\",\"2.82\",\"2.83\",\"2.84\",\"2.85\",\"2.86\",\"2.87\",\"2.88\",\"2.89\",\"2.9\",\"2.91\",\"2.92\",\"2.93\",\"2.94\",\"2.95\",\"2.96\",\"2.97\",\"2.98\",\"2.99\",\"3.0\",\"3.01\",\"3.02\",\"3.03\",\"3.04\",\"3.05\",\"3.06\",\"3.07\",\"3.08\",\"3.09\",\"3.1\",\"3.11\",\"3.12\",\"3.13\",\"3.14\",\"3.15\",\"3.16\",\"3.17\",\"3.18\",\"3.19\",\"3.2\",\"3.21\",\"3.22\",\"3.23\",\"3.24\",\"3.25\",\"3.26\",\"3.27\",\"3.28\",\"3.29\",\"3.3\",\"3.31\",\"3.32\",\"3.33\",\"3.34\",\"3.35\",\"3.36\",\"3.37\",\"3.38\",\"3.39\",\"3.4\",\"3.41\",\"3.42\",\"3.43\",\"3.44\",\"3.45\",\"3.46\",\"3.47\",\"3.48\",\"3.49\",\"3.5\",\"3.51\",\"3.52\",\"3.53\",\"3.54\",\"3.55\",\"3.56\",\"3.57\",\"3.58\",\"3.59\",\"3.6\",\"3.61\",\"3.62\",\"3.63\",\"3.64\",\"3.65\",\"3.66\",\"3.67\",\"3.68\",\"3.69\",\"3.7\",\"3.71\",\"3.72\",\"3.73\",\"3.74\",\"3.75\",\"3.76\",\"3.77\",\"3.78\",\"3.79\",\"3.8\",\"3.81\",\"3.82\",\"3.83\",\"3.84\",\"3.85\",\"3.86\",\"3.87\",\"3.88\",\"3.89\",\"3.9\",\"3.91\",\"3.92\",\"3.93\",\"3.94\",\"3.95\",\"3.96\",\"3.97\",\"3.98\",\"3.99\",\"4.0\",\"4.01\",\"4.02\",\"4.03\",\"4.04\",\"4.05\",\"4.06\",\"4.07\",\"4.08\",\"4.09\",\"4.1\",\"4.11\",\"4.12\",\"4.13\",\"4.14\",\"4.15\",\"4.16\",\"4.17\",\"4.18\",\"4.19\",\"4.2\",\"4.21\",\"4.22\",\"4.23\",\"4.24\",\"4.25\",\"4.26\",\"4.27\",\"4.28\",\"4.29\",\"4.3\",\"4.31\",\"4.32\",\"4.33\",\"4.34\",\"4.35\",\"4.36\",\"4.37\",\"4.38\",\"4.39\",\"4.4\",\"4.41\",\"4.42\",\"4.43\",\"4.44\",\"4.45\",\"4.46\",\"4.47\",\"4.48\",\"4.49\",\"4.5\",\"4.51\",\"4.52\",\"4.53\",\"4.54\",\"4.55\",\"4.56\",\"4.57\",\"4.58\",\"4.59\",\"4.6\",\"4.61\",\"4.62\",\"4.63\",\"4.64\",\"4.65\",\"4.66\",\"4.67\",\"4.68\",\"4.69\",\"4.7\",\"4.71\",\"4.72\",\"4.73\",\"4.74\",\"4.75\",\"4.76\",\"4.77\",\"4.78\",\"4.79\",\"4.8\",\"4.81\",\"4.82\",\"4.83\",\"4.84\",\"4.85\",\"4.86\",\"4.87\",\"4.88\",\"4.89\",\"4.9\",\"4.91\",\"4.92\",\"4.93\",\"4.94\",\"4.95\",\"4.96\",\"4.97\",\"4.98\",\"4.99\",\"5.0\",\"5.01\",\"5.02\",\"5.03\",\"5.04\",\"5.05\",\"5.06\",\"5.07\",\"5.08\",\"5.09\",\"5.1\",\"5.11\",\"5.12\",\"5.13\",\"5.14\",\"5.15\",\"5.16\",\"5.17\",\"5.18\",\"5.19\",\"5.2\",\"5.21\",\"5.22\",\"5.23\",\"5.24\",\"5.25\",\"5.26\",\"5.27\",\"5.28\",\"5.29\",\"5.3\",\"5.31\",\"5.32\",\"5.33\",\"5.34\",\"5.35\",\"5.36\",\"5.37\",\"5.38\",\"5.39\",\"5.4\",\"5.41\",\"5.42\",\"5.43\",\"5.44\",\"5.45\",\"5.46\",\"5.47\",\"5.48\",\"5.49\",\"5.5\",\"5.51\",\"5.52\",\"5.53\",\"5.54\",\"5.55\",\"5.56\",\"5.57\",\"5.58\",\"5.59\",\"5.6\",\"5.61\",\"5.62\",\"5.63\",\"5.64\",\"5.65\",\"5.66\",\"5.67\",\"5.68\",\"5.69\",\"5.7\",\"5.71\",\"5.72\",\"5.73\",\"5.74\",\"5.75\",\"5.76\",\"5.77\",\"5.78\",\"5.79\",\"5.8\",\"5.81\",\"5.82\",\"5.83\",\"5.84\",\"5.85\",\"5.86\",\"5.87\",\"5.88\",\"5.89\",\"5.9\",\"5.91\",\"5.92\",\"5.93\",\"5.94\",\"5.95\",\"5.96\",\"5.97\",\"5.98\",\"5.99\",\"6.0\",\"6.01\",\"6.02\",\"6.03\",\"6.04\",\"6.05\",\"6.06\",\"6.07\",\"6.08\",\"6.09\",\"6.1\",\"6.11\",\"6.12\",\"6.13\",\"6.14\",\"6.15\",\"6.16\",\"6.17\",\"6.18\",\"6.19\",\"6.2\",\"6.21\",\"6.22\",\"6.23\",\"6.24\",\"6.25\",\"6.26\",\"6.27\",\"6.28\",\"6.29\",\"6.3\",\"6.31\",\"6.32\",\"6.33\",\"6.34\",\"6.35\",\"6.36\",\"6.37\",\"6.38\",\"6.39\",\"6.4\",\"6.41\",\"6.42\",\"6.43\",\"6.44\",\"6.45\",\"6.46\",\"6.47\",\"6.48\",\"6.49\",\"6.5\",\"6.51\",\"6.52\",\"6.53\",\"6.54\",\"6.55\",\"6.56\",\"6.57\",\"6.58\",\"6.59\",\"6.6\",\"6.61\",\"6.62\",\"6.63\",\"6.64\",\"6.65\",\"6.66\",\"6.67\",\"6.68\",\"6.69\",\"6.7\",\"6.71\",\"6.72\",\"6.73\",\"6.74\",\"6.75\",\"6.76\",\"6.77\",\"6.78\",\"6.79\",\"6.8\",\"6.81\",\"6.82\",\"6.83\",\"6.84\",\"6.85\",\"6.86\",\"6.87\",\"6.88\",\"6.89\",\"6.9\",\"6.91\",\"6.92\",\"6.93\",\"6.94\",\"6.95\",\"6.96\",\"6.97\",\"6.98\",\"6.99\",\"7.0\",\"7.01\",\"7.02\",\"7.03\",\"7.04\",\"7.05\",\"7.06\",\"7.07\",\"7.08\",\"7.09\",\"7.1\",\"7.11\",\"7.12\",\"7.13\",\"7.14\",\"7.15\",\"7.16\",\"7.17\",\"7.18\",\"7.19\",\"7.2\",\"7.21\",\"7.22\",\"7.23\",\"7.24\",\"7.25\",\"7.26\",\"7.27\",\"7.28\",\"7.29\",\"7.3\",\"7.31\",\"7.32\",\"7.33\",\"7.34\",\"7.35\",\"7.36\",\"7.37\",\"7.38\",\"7.39\",\"7.4\",\"7.41\",\"7.42\",\"7.43\",\"7.44\",\"7.45\",\"7.46\",\"7.47\",\"7.48\",\"7.49\",\"7.5\",\"7.51\",\"7.52\",\"7.53\",\"7.54\",\"7.55\",\"7.56\",\"7.57\",\"7.58\",\"7.59\",\"7.6\",\"7.61\",\"7.62\",\"7.63\",\"7.64\",\"7.65\",\"7.66\",\"7.67\",\"7.68\",\"7.69\",\"7.7\",\"7.71\",\"7.72\",\"7.73\",\"7.74\",\"7.75\",\"7.76\",\"7.77\",\"7.78\",\"7.79\",\"7.8\",\"7.81\",\"7.82\",\"7.83\",\"7.84\",\"7.85\",\"7.86\",\"7.87\",\"7.88\",\"7.89\",\"7.9\",\"7.91\",\"7.92\",\"7.93\",\"7.94\",\"7.95\",\"7.96\",\"7.97\",\"7.98\",\"7.99\",\"8.0\",\"8.01\",\"8.02\",\"8.03\",\"8.04\",\"8.05\",\"8.06\",\"8.07\",\"8.08\",\"8.09\",\"8.1\",\"8.11\",\"8.12\",\"8.13\",\"8.14\",\"8.15\",\"8.16\",\"8.17\",\"8.18\",\"8.19\",\"8.2\",\"8.21\",\"8.22\",\"8.23\",\"8.24\",\"8.25\",\"8.26\",\"8.27\",\"8.28\",\"8.29\",\"8.3\",\"8.31\",\"8.32\",\"8.33\",\"8.34\",\"8.35\",\"8.36\",\"8.37\",\"8.38\",\"8.39\",\"8.4\",\"8.41\",\"8.42\",\"8.43\",\"8.44\",\"8.45\",\"8.46\",\"8.47\",\"8.48\",\"8.49\",\"8.5\",\"8.51\",\"8.52\",\"8.53\",\"8.54\",\"8.55\",\"8.56\",\"8.57\",\"8.58\",\"8.59\",\"8.6\",\"8.61\",\"8.62\",\"8.63\",\"8.64\",\"8.65\",\"8.66\",\"8.67\",\"8.68\",\"8.69\",\"8.7\",\"8.71\",\"8.72\",\"8.73\",\"8.74\",\"8.75\",\"8.76\",\"8.77\",\"8.78\",\"8.79\",\"8.8\",\"8.81\",\"8.82\",\"8.83\",\"8.84\",\"8.85\",\"8.86\",\"8.87\",\"8.88\",\"8.89\",\"8.9\",\"8.91\",\"8.92\",\"8.93\",\"8.94\",\"8.95\",\"8.96\",\"8.97\",\"8.98\",\"8.99\",\"9.0\",\"9.01\",\"9.02\",\"9.03\",\"9.04\",\"9.05\",\"9.06\",\"9.07\",\"9.08\",\"9.09\",\"9.1\",\"9.11\",\"9.12\",\"9.13\",\"9.14\",\"9.15\",\"9.16\",\"9.17\",\"9.18\",\"9.19\",\"9.2\",\"9.21\",\"9.22\",\"9.23\",\"9.24\",\"9.25\",\"9.26\",\"9.27\",\"9.28\",\"9.29\",\"9.3\",\"9.31\",\"9.32\",\"9.33\",\"9.34\",\"9.35\",\"9.36\",\"9.37\",\"9.38\",\"9.39\",\"9.4\",\"9.41\",\"9.42\",\"9.43\",\"9.44\",\"9.45\",\"9.46\",\"9.47\",\"9.48\",\"9.49\",\"9.5\",\"9.51\",\"9.52\",\"9.53\",\"9.54\",\"9.55\",\"9.56\",\"9.57\",\"9.58\",\"9.59\",\"9.6\",\"9.61\",\"9.62\",\"9.63\",\"9.64\",\"9.65\",\"9.66\",\"9.67\",\"9.68\",\"9.69\",\"9.7\",\"9.71\",\"9.72\",\"9.73\",\"9.74\",\"9.75\",\"9.76\",\"9.77\",\"9.78\",\"9.79\",\"9.8\",\"9.81\",\"9.82\",\"9.83\",\"9.84\",\"9.85\",\"9.86\",\"9.87\",\"9.88\",\"9.89\",\"9.9\",\"9.91\",\"9.92\",\"9.93\",\"9.94\",\"9.95\",\"9.96\",\"9.97\",\"9.98\",\"9.99\",\"10.0\"],\"changes\":WebIO.getval({\"name\":\"changes\",\"scope\":\"4298254072035559467\",\"id\":\"ob_39\",\"type\":\"observable\"}),\"index\":WebIO.getval({\"name\":\"index\",\"scope\":\"4298254072035559467\",\"id\":\"ob_38\",\"type\":\"observable\"})};\n    var self = this;\n    function AppViewModel() {\n        for (var key in json_data) {\n            var el = json_data[key];\n            this[key] = Array.isArray(el) ? ko.observableArray(el) : ko.observable(el);\n        }\n        \n        [this[\"formatted_val\"]=ko.computed(    function(){\n        return this.formatted_vals()[parseInt(this.index())-(1)];\n    }\n,this)]\n        [this[\"changes\"].subscribe((function (val){!(this.valueFromJulia[\"changes\"]) ? (WebIO.setval({\"name\":\"changes\",\"scope\":\"4298254072035559467\",\"id\":\"ob_39\",\"type\":\"observable\"},val)) : undefined; return this.valueFromJulia[\"changes\"]=false}),self),this[\"index\"].subscribe((function (val){!(this.valueFromJulia[\"index\"]) ? (WebIO.setval({\"name\":\"index\",\"scope\":\"4298254072035559467\",\"id\":\"ob_38\",\"type\":\"observable\"},val)) : undefined; return this.valueFromJulia[\"index\"]=false}),self)]\n        \n    }\n    self.model = new AppViewModel();\n    self.valueFromJulia = {};\n    for (var key in json_data) {\n        self.valueFromJulia[key] = false;\n    }\n    ko.applyBindings(self.model, self.dom);\n}\n);\n    (WebIO.importBlock({\"data\":[{\"name\":\"knockout\",\"type\":\"js\",\"url\":\"/assetserver/9a186147d51179d2ec12ccfac1799b0b805a79d5-knockout.js\"},{\"name\":\"knockout_punches\",\"type\":\"js\",\"url\":\"/assetserver/eccef011301f679ebde0900f01478cac573870ce-knockout_punches.js\"}],\"type\":\"async_block\"})).then((imports) => handler.apply(this, imports));\n}\n"
            ],
            "observables": {
             "changes": {
              "id": "ob_39",
              "sync": false,
              "value": 0
             },
             "index": {
              "id": "ob_38",
              "sync": true,
              "value": 500
             }
            },
            "systemjs_options": null
           },
           "nodeType": "Scope",
           "props": {},
           "type": "node"
          }
         ],
         "instanceArgs": {
          "namespace": "html",
          "tag": "div"
         },
         "nodeType": "DOM",
         "props": {
          "className": "field interact-widget"
         },
         "type": "node"
        },
        {
         "children": [
          {
           "children": [],
           "instanceArgs": {
            "id": "ob_45",
            "name": "obs-node"
           },
           "nodeType": "ObservableNode",
           "props": {},
           "type": "node"
          }
         ],
         "instanceArgs": {
          "handlers": {},
          "id": "15574355649497880537",
          "imports": {
           "data": [],
           "type": "async_block"
          },
          "mount_callbacks": [],
          "observables": {
           "obs-node": {
            "id": "ob_45",
            "sync": false,
            "value": {
             "children": [
              {
               "children": [],
               "instanceArgs": {
                "namespace": "html",
                "tag": "div"
               },
               "nodeType": "DOM",
               "props": {
                "setInnerHtml": "<?xml version=\"1.0\" encoding=\"utf-8\"?>\n<svg xmlns=\"http://www.w3.org/2000/svg\" xmlns:xlink=\"http://www.w3.org/1999/xlink\" width=\"600\" height=\"400\" viewBox=\"0 0 2400 1600\">\n<defs>\n  <clipPath id=\"clip5400\">\n    <rect x=\"0\" y=\"0\" width=\"2400\" height=\"1600\"/>\n  </clipPath>\n</defs>\n<path clip-path=\"url(#clip5400)\" d=\"\nM0 1600 L2400 1600 L2400 0 L0 0  Z\n  \" fill=\"#ffffff\" fill-rule=\"evenodd\" fill-opacity=\"1\"/>\n<defs>\n  <clipPath id=\"clip5401\">\n    <rect x=\"480\" y=\"0\" width=\"1681\" height=\"1600\"/>\n  </clipPath>\n</defs>\n<path clip-path=\"url(#clip5400)\" d=\"\nM547.267 1487.47 L1987.5 1487.47 L1987.5 47.2441 L547.267 47.2441  Z\n  \" fill=\"#ffffff\" fill-rule=\"evenodd\" fill-opacity=\"1\"/>\n<defs>\n  <clipPath id=\"clip5402\">\n    <rect x=\"547\" y=\"47\" width=\"1441\" height=\"1441\"/>\n  </clipPath>\n</defs>\n<polyline clip-path=\"url(#clip5402)\" style=\"stroke:#000000; stroke-width:2; stroke-opacity:0.1; fill:none\" points=\"\n  547.267,1487.47 547.267,47.2441 \n  \"/>\n<polyline clip-path=\"url(#clip5402)\" style=\"stroke:#000000; stroke-width:2; stroke-opacity:0.1; fill:none\" points=\"\n  907.324,1487.47 907.324,47.2441 \n  \"/>\n<polyline clip-path=\"url(#clip5402)\" style=\"stroke:#000000; stroke-width:2; stroke-opacity:0.1; fill:none\" points=\"\n  1267.38,1487.47 1267.38,47.2441 \n  \"/>\n<polyline clip-path=\"url(#clip5402)\" style=\"stroke:#000000; stroke-width:2; stroke-opacity:0.1; fill:none\" points=\"\n  1627.44,1487.47 1627.44,47.2441 \n  \"/>\n<polyline clip-path=\"url(#clip5402)\" style=\"stroke:#000000; stroke-width:2; stroke-opacity:0.1; fill:none\" points=\"\n  1987.5,1487.47 1987.5,47.2441 \n  \"/>\n<polyline clip-path=\"url(#clip5402)\" style=\"stroke:#000000; stroke-width:2; stroke-opacity:0.1; fill:none\" points=\"\n  547.267,1487.47 1987.5,1487.47 \n  \"/>\n<polyline clip-path=\"url(#clip5402)\" style=\"stroke:#000000; stroke-width:2; stroke-opacity:0.1; fill:none\" points=\"\n  547.267,1127.42 1987.5,1127.42 \n  \"/>\n<polyline clip-path=\"url(#clip5402)\" style=\"stroke:#000000; stroke-width:2; stroke-opacity:0.1; fill:none\" points=\"\n  547.267,767.359 1987.5,767.359 \n  \"/>\n<polyline clip-path=\"url(#clip5402)\" style=\"stroke:#000000; stroke-width:2; stroke-opacity:0.1; fill:none\" points=\"\n  547.267,407.302 1987.5,407.302 \n  \"/>\n<polyline clip-path=\"url(#clip5402)\" style=\"stroke:#000000; stroke-width:2; stroke-opacity:0.1; fill:none\" points=\"\n  547.267,47.2441 1987.5,47.2441 \n  \"/>\n<polyline clip-path=\"url(#clip5400)\" style=\"stroke:#000000; stroke-width:4; stroke-opacity:1; fill:none\" points=\"\n  547.267,1487.47 1987.5,1487.47 \n  \"/>\n<polyline clip-path=\"url(#clip5400)\" style=\"stroke:#000000; stroke-width:4; stroke-opacity:1; fill:none\" points=\"\n  547.267,1487.47 547.267,47.2441 \n  \"/>\n<polyline clip-path=\"url(#clip5400)\" style=\"stroke:#000000; stroke-width:4; stroke-opacity:1; fill:none\" points=\"\n  547.267,1487.47 547.267,1470.19 \n  \"/>\n<polyline clip-path=\"url(#clip5400)\" style=\"stroke:#000000; stroke-width:4; stroke-opacity:1; fill:none\" points=\"\n  907.324,1487.47 907.324,1470.19 \n  \"/>\n<polyline clip-path=\"url(#clip5400)\" style=\"stroke:#000000; stroke-width:4; stroke-opacity:1; fill:none\" points=\"\n  1267.38,1487.47 1267.38,1470.19 \n  \"/>\n<polyline clip-path=\"url(#clip5400)\" style=\"stroke:#000000; stroke-width:4; stroke-opacity:1; fill:none\" points=\"\n  1627.44,1487.47 1627.44,1470.19 \n  \"/>\n<polyline clip-path=\"url(#clip5400)\" style=\"stroke:#000000; stroke-width:4; stroke-opacity:1; fill:none\" points=\"\n  1987.5,1487.47 1987.5,1470.19 \n  \"/>\n<polyline clip-path=\"url(#clip5400)\" style=\"stroke:#000000; stroke-width:4; stroke-opacity:1; fill:none\" points=\"\n  547.267,1487.47 564.549,1487.47 \n  \"/>\n<polyline clip-path=\"url(#clip5400)\" style=\"stroke:#000000; stroke-width:4; stroke-opacity:1; fill:none\" points=\"\n  547.267,1127.42 564.549,1127.42 \n  \"/>\n<polyline clip-path=\"url(#clip5400)\" style=\"stroke:#000000; stroke-width:4; stroke-opacity:1; fill:none\" points=\"\n  547.267,767.359 564.549,767.359 \n  \"/>\n<polyline clip-path=\"url(#clip5400)\" style=\"stroke:#000000; stroke-width:4; stroke-opacity:1; fill:none\" points=\"\n  547.267,407.302 564.549,407.302 \n  \"/>\n<polyline clip-path=\"url(#clip5400)\" style=\"stroke:#000000; stroke-width:4; stroke-opacity:1; fill:none\" points=\"\n  547.267,47.2441 564.549,47.2441 \n  \"/>\n<g clip-path=\"url(#clip5400)\">\n<text style=\"fill:#000000; fill-opacity:1; font-family:Arial,Helvetica Neue,Helvetica,sans-serif; font-size:48px; text-anchor:middle;\" transform=\"rotate(0, 547.267, 1541.47)\" x=\"547.267\" y=\"1541.47\">-5.0</text>\n</g>\n<g clip-path=\"url(#clip5400)\">\n<text style=\"fill:#000000; fill-opacity:1; font-family:Arial,Helvetica Neue,Helvetica,sans-serif; font-size:48px; text-anchor:middle;\" transform=\"rotate(0, 907.324, 1541.47)\" x=\"907.324\" y=\"1541.47\">-2.5</text>\n</g>\n<g clip-path=\"url(#clip5400)\">\n<text style=\"fill:#000000; fill-opacity:1; font-family:Arial,Helvetica Neue,Helvetica,sans-serif; font-size:48px; text-anchor:middle;\" transform=\"rotate(0, 1267.38, 1541.47)\" x=\"1267.38\" y=\"1541.47\">0.0</text>\n</g>\n<g clip-path=\"url(#clip5400)\">\n<text style=\"fill:#000000; fill-opacity:1; font-family:Arial,Helvetica Neue,Helvetica,sans-serif; font-size:48px; text-anchor:middle;\" transform=\"rotate(0, 1627.44, 1541.47)\" x=\"1627.44\" y=\"1541.47\">2.5</text>\n</g>\n<g clip-path=\"url(#clip5400)\">\n<text style=\"fill:#000000; fill-opacity:1; font-family:Arial,Helvetica Neue,Helvetica,sans-serif; font-size:48px; text-anchor:middle;\" transform=\"rotate(0, 1987.5, 1541.47)\" x=\"1987.5\" y=\"1541.47\">5.0</text>\n</g>\n<g clip-path=\"url(#clip5400)\">\n<text style=\"fill:#000000; fill-opacity:1; font-family:Arial,Helvetica Neue,Helvetica,sans-serif; font-size:48px; text-anchor:end;\" transform=\"rotate(0, 523.267, 1504.97)\" x=\"523.267\" y=\"1504.97\">-5.0</text>\n</g>\n<g clip-path=\"url(#clip5400)\">\n<text style=\"fill:#000000; fill-opacity:1; font-family:Arial,Helvetica Neue,Helvetica,sans-serif; font-size:48px; text-anchor:end;\" transform=\"rotate(0, 523.267, 1144.92)\" x=\"523.267\" y=\"1144.92\">-2.5</text>\n</g>\n<g clip-path=\"url(#clip5400)\">\n<text style=\"fill:#000000; fill-opacity:1; font-family:Arial,Helvetica Neue,Helvetica,sans-serif; font-size:48px; text-anchor:end;\" transform=\"rotate(0, 523.267, 784.859)\" x=\"523.267\" y=\"784.859\">0.0</text>\n</g>\n<g clip-path=\"url(#clip5400)\">\n<text style=\"fill:#000000; fill-opacity:1; font-family:Arial,Helvetica Neue,Helvetica,sans-serif; font-size:48px; text-anchor:end;\" transform=\"rotate(0, 523.267, 424.802)\" x=\"523.267\" y=\"424.802\">2.5</text>\n</g>\n<g clip-path=\"url(#clip5400)\">\n<text style=\"fill:#000000; fill-opacity:1; font-family:Arial,Helvetica Neue,Helvetica,sans-serif; font-size:48px; text-anchor:end;\" transform=\"rotate(0, 523.267, 64.7441)\" x=\"523.267\" y=\"64.7441\">5.0</text>\n</g>\n<polyline clip-path=\"url(#clip5402)\" style=\"stroke:#009af9; stroke-width:4; stroke-opacity:1; fill:none\" points=\"\n  1987.5,767.359 1987.46,760.158 1987.35,752.958 1987.17,745.759 1986.92,738.562 1986.6,731.369 1986.2,724.178 1985.73,716.992 1985.19,709.812 1984.58,702.636 \n  1983.9,695.468 1983.14,688.306 1982.32,681.153 1981.42,674.008 1980.45,666.872 1979.41,659.747 1978.3,652.632 1977.12,645.529 1975.86,638.437 1974.54,631.359 \n  1973.14,624.295 1971.68,617.244 1970.14,610.209 1968.53,603.189 1966.86,596.186 1965.11,589.2 1963.29,582.232 1961.41,575.282 1959.45,568.351 1957.43,561.441 \n  1955.33,554.551 1953.17,547.682 1950.94,540.835 1948.64,534.011 1946.27,527.21 1943.84,520.433 1941.34,513.681 1938.77,506.955 1936.13,500.254 1933.42,493.58 \n  1930.65,486.933 1927.81,480.315 1924.91,473.725 1921.94,467.164 1918.91,460.634 1915.81,454.134 1912.64,447.666 1909.41,441.229 1906.12,434.825 1902.76,428.455 \n  1899.34,422.118 1895.86,415.815 1892.31,409.548 1888.7,403.317 1885.03,397.122 1881.3,390.964 1877.5,384.844 1873.65,378.762 1869.73,372.719 1865.76,366.715 \n  1861.72,360.752 1857.62,354.829 1853.47,348.947 1849.25,343.107 1844.98,337.31 1840.65,331.555 1836.27,325.845 1831.82,320.178 1827.32,314.556 1822.77,308.979 \n  1818.16,303.448 1813.49,297.964 1808.77,292.526 1803.99,287.136 1799.16,281.794 1794.28,276.501 1789.35,271.257 1784.36,266.062 1779.32,260.917 1774.23,255.823 \n  1769.09,250.78 1763.9,245.789 1758.66,240.85 1753.37,235.964 1748.03,231.13 1742.65,226.351 1737.21,221.625 1731.73,216.954 1726.2,212.339 1720.63,207.778 \n  1715.01,203.274 1709.35,198.826 1703.64,194.434 1697.89,190.101 1692.1,185.824 1686.26,181.606 1680.38,177.447 1674.46,173.347 1668.5,169.306 1662.5,165.324 \n  1656.46,161.403 1650.38,157.543 1644.27,153.743 1638.11,150.005 1631.92,146.329 1625.69,142.715 1619.43,139.163 1613.13,135.674 1606.79,132.248 1600.42,128.886 \n  1594.02,125.587 1587.59,122.353 1581.12,119.183 1574.63,116.078 1568.1,113.039 1561.54,110.064 1554.95,107.155 1548.34,104.313 1541.69,101.536 1535.02,98.8267 \n  1528.32,96.1838 1521.6,93.608 1514.85,91.0996 1508.07,88.6588 1501.27,86.2859 1494.45,83.9811 1487.61,81.7446 1480.74,79.5767 1473.85,77.4775 1466.94,75.4474 \n  1460.01,73.4864 1453.06,71.5948 1446.1,69.7728 1439.11,68.0206 1432.11,66.3383 1425.09,64.7261 1418.06,63.1841 1411.01,61.7126 1403.95,60.3116 1396.87,58.9814 \n  1389.78,57.722 1382.68,56.5335 1375.56,55.4161 1368.44,54.37 1361.3,53.3951 1354.16,52.4916 1347,51.6596 1339.84,50.8991 1332.68,50.2104 1325.5,49.5933 \n  1318.32,49.048 1311.14,48.5745 1303.95,48.1729 1296.75,47.8433 1289.56,47.5856 1282.36,47.3998 1275.16,47.2861 1267.96,47.2443 1260.75,47.2746 1253.55,47.3769 \n  1246.35,47.5511 1239.16,47.7974 1231.96,48.1156 1224.77,48.5058 1217.59,48.9678 1210.41,49.5016 1203.23,50.1073 1196.06,50.7846 1188.9,51.5337 1181.74,52.3543 \n  1174.6,53.2464 1167.46,54.2099 1160.34,55.2447 1153.22,56.3508 1146.12,57.5279 1139.02,58.7761 1131.94,60.095 1124.88,61.4848 1117.83,62.9451 1110.79,64.4758 \n  1103.77,66.0768 1096.77,67.748 1089.78,69.4891 1082.81,71.3 1075.86,73.1805 1068.93,75.1304 1062.01,77.1496 1055.12,79.2377 1048.25,81.3947 1041.4,83.6203 \n  1034.58,85.9142 1027.77,88.2763 1020.99,90.7063 1014.24,93.204 1007.51,95.7691 1000.81,98.4013 994.133,101.1 987.484,103.866 980.863,106.698 974.271,109.596 \n  967.708,112.56 961.175,115.59 954.673,118.684 948.202,121.844 941.763,125.068 935.356,128.356 928.983,131.708 922.644,135.124 916.339,138.603 910.069,142.145 \n  903.835,145.749 897.637,149.416 891.476,153.144 885.353,156.934 879.268,160.784 873.221,164.696 867.215,168.667 861.248,172.699 855.322,176.79 849.437,180.94 \n  843.593,185.149 837.792,189.416 832.035,193.74 826.32,198.122 820.65,202.562 815.025,207.057 809.444,211.608 803.91,216.216 798.422,220.878 792.98,225.595 \n  787.586,230.366 782.241,235.19 776.943,240.068 771.695,244.999 766.496,249.982 761.348,255.017 756.249,260.102 751.203,265.239 746.207,270.426 741.264,275.662 \n  736.373,280.948 731.536,286.282 726.752,291.665 722.022,297.095 717.347,302.572 712.727,308.095 708.162,313.665 703.653,319.279 699.2,324.939 694.805,330.643 \n  690.466,336.39 686.185,342.181 681.963,348.014 677.799,353.889 673.694,359.806 669.648,365.763 665.662,371.76 661.736,377.797 657.871,383.873 654.066,389.987 \n  650.323,396.139 646.642,402.328 643.023,408.554 639.466,414.815 635.972,421.112 632.541,427.443 629.174,433.808 625.87,440.207 622.631,446.638 619.456,453.102 \n  616.346,459.597 613.301,466.122 610.321,472.678 607.407,479.263 604.559,485.877 601.778,492.519 599.063,499.189 596.414,505.886 593.833,512.608 591.319,519.356 \n  588.873,526.129 586.495,532.926 584.185,539.747 581.943,546.59 579.769,553.455 577.665,560.342 575.629,567.249 573.663,574.177 571.765,581.124 569.938,588.089 \n  568.18,595.072 566.492,602.073 564.874,609.09 563.327,616.123 561.85,623.171 560.443,630.233 559.107,637.309 557.842,644.398 556.648,651.5 555.525,658.613 \n  554.473,665.737 553.493,672.871 552.583,680.014 551.746,687.167 550.98,694.327 550.285,701.494 549.662,708.668 549.111,715.848 548.632,723.034 548.225,730.223 \n  547.889,737.417 547.626,744.613 547.435,751.811 547.315,759.012 547.268,766.213 547.292,773.414 547.389,780.614 547.557,787.813 547.798,795.01 548.11,802.205 \n  548.495,809.396 548.951,816.582 549.479,823.764 550.079,830.94 550.751,838.11 551.494,845.272 552.309,852.427 553.195,859.574 554.153,866.711 555.182,873.838 \n  556.283,880.955 557.454,888.06 558.697,895.153 560.01,902.233 561.394,909.3 562.849,916.353 564.374,923.39 565.969,930.413 567.635,937.418 569.37,944.407 \n  571.176,951.378 573.051,958.331 574.995,965.265 577.009,972.179 579.091,979.072 581.243,985.944 583.463,992.795 585.752,999.622 588.108,1006.43 590.533,1013.21 \n  593.025,1019.96 595.585,1026.69 598.212,1033.4 600.906,1040.08 603.666,1046.73 606.493,1053.35 609.386,1059.95 612.345,1066.51 615.369,1073.05 618.458,1079.55 \n  621.613,1086.03 624.831,1092.47 628.115,1098.88 631.462,1105.25 634.872,1111.59 638.346,1117.9 641.883,1124.17 645.482,1130.41 649.144,1136.61 652.867,1142.78 \n  656.652,1148.9 660.498,1154.99 664.405,1161.04 668.372,1167.05 672.398,1173.02 676.485,1178.95 680.63,1184.84 684.834,1190.68 689.096,1196.49 693.416,1202.25 \n  697.794,1207.97 702.229,1213.64 706.72,1219.27 711.267,1224.85 715.869,1230.39 720.527,1235.88 725.24,1241.33 730.006,1246.73 734.827,1252.08 739.701,1257.38 \n  744.627,1262.63 749.606,1267.83 754.636,1272.99 759.718,1278.09 764.851,1283.14 770.034,1288.14 775.266,1293.09 780.548,1297.98 785.878,1302.82 791.257,1307.61 \n  796.683,1312.34 802.156,1317.02 807.676,1321.65 813.242,1326.22 818.853,1330.73 824.509,1335.19 830.21,1339.59 835.954,1343.93 841.741,1348.22 847.571,1352.44 \n  853.442,1356.61 859.356,1360.72 865.31,1364.77 871.304,1368.76 877.337,1372.7 883.41,1376.57 889.521,1380.37 895.67,1384.12 901.856,1387.81 908.079,1391.43 \n  914.338,1394.99 920.632,1398.49 926.96,1401.93 933.323,1405.3 939.719,1408.61 946.148,1411.85 952.608,1415.04 959.101,1418.15 965.624,1421.2 972.177,1424.19 \n  978.76,1427.1 985.372,1429.96 992.012,1432.74 998.68,1435.47 1005.37,1438.12 1012.09,1440.71 1018.84,1443.22 1025.61,1445.68 1032.41,1448.06 1039.23,1450.38 \n  1046.07,1452.62 1052.93,1454.8 1059.82,1456.91 1066.72,1458.95 1073.65,1460.92 1080.59,1462.83 1087.56,1464.66 1094.54,1466.42 1101.54,1468.12 1108.55,1469.74 \n  1115.58,1471.29 1122.63,1472.78 1129.69,1474.19 1136.77,1475.53 1143.86,1476.8 1150.96,1478 1158.07,1479.13 1165.19,1480.19 1172.32,1481.17 1179.47,1482.09 \n  1186.62,1482.93 1193.78,1483.7 1200.95,1484.4 1208.12,1485.03 1215.3,1485.59 1222.48,1486.07 1229.67,1486.49 1236.87,1486.83 1244.06,1487.1 1251.26,1487.29 \n  1258.46,1487.42 1265.66,1487.47 1272.86,1487.45 1280.06,1487.36 1287.26,1487.2 1294.46,1486.97 1301.65,1486.66 1308.85,1486.28 1316.03,1485.83 1323.21,1485.31 \n  1330.39,1484.71 1337.56,1484.05 1344.72,1483.31 1351.88,1482.5 1359.03,1481.62 1366.17,1480.67 1373.29,1479.64 1380.41,1478.55 1387.52,1477.38 1394.61,1476.15 \n  1401.69,1474.84 1408.76,1473.46 1415.81,1472.01 1422.85,1470.49 1429.88,1468.9 1436.88,1467.24 1443.87,1465.51 1450.85,1463.71 1457.8,1461.84 1464.74,1459.9 \n  1471.65,1457.9 1478.55,1455.82 1485.42,1453.67 1492.27,1451.46 1499.1,1449.17 1505.91,1446.82 1512.69,1444.4 1519.45,1441.92 1526.18,1439.36 1532.89,1436.74 \n  1539.57,1434.05 1546.22,1431.3 1552.85,1428.48 1559.44,1425.59 1566.01,1422.63 1572.55,1419.62 1579.06,1416.53 1585.53,1413.38 1591.98,1410.17 1598.39,1406.89 \n  1604.77,1403.55 1611.11,1400.14 1617.42,1396.67 1623.7,1393.14 1629.94,1389.55 1636.14,1385.89 1642.31,1382.17 1648.44,1378.39 1654.53,1374.55 1660.58,1370.65 \n  1666.6,1366.69 1672.57,1362.67 1678.5,1358.58 1684.39,1354.44 1690.24,1350.24 1696.05,1345.99 1701.82,1341.67 1707.54,1337.3 1713.21,1332.87 1718.85,1328.38 \n  1724.43,1323.84 1729.98,1319.24 1735.47,1314.59 1740.92,1309.88 1746.32,1305.12 1751.68,1300.3 1756.98,1295.43 1762.24,1290.51 1767.44,1285.53 1772.6,1280.51 \n  1777.71,1275.43 1782.76,1270.3 1787.76,1265.12 1792.72,1259.89 1797.62,1254.62 1802.46,1249.29 1807.25,1243.91 1811.99,1238.49 1816.68,1233.02 1821.31,1227.51 \n  1825.88,1221.94 1830.4,1216.34 1834.86,1210.68 1839.26,1204.99 1843.61,1199.25 1847.9,1193.46 1852.13,1187.64 1856.31,1181.77 1860.42,1175.86 1864.48,1169.91 \n  1868.47,1163.92 1872.41,1157.89 1876.28,1151.82 1880.1,1145.71 1883.85,1139.56 1887.54,1133.38 1891.17,1127.16 1894.74,1120.9 1898.24,1114.61 1901.68,1108.29 \n  1905.06,1101.93 1908.37,1095.53 1911.62,1089.11 1914.81,1082.65 1917.93,1076.16 1920.98,1069.64 1923.97,1063.09 1926.9,1056.51 1929.76,1049.9 1932.55,1043.26 \n  1935.27,1036.59 1937.93,1029.9 1940.52,1023.18 1943.05,1016.44 1945.51,1009.67 1947.89,1002.88 1950.22,996.06 1952.47,989.22 1954.65,982.358 1956.77,975.475 \n  1958.82,968.571 1960.79,961.647 1962.7,954.703 1964.54,947.74 1966.31,940.76 1968.01,933.762 1969.64,926.748 1971.2,919.717 1972.68,912.672 1974.1,905.611 \n  1975.45,898.537 1976.72,891.45 1977.93,884.351 1979.06,877.24 1980.13,870.117 1981.12,862.985 1982.04,855.843 1982.89,848.692 1983.67,841.533 1984.37,834.367 \n  1985.01,827.193 1985.57,820.014 1986.06,812.83 1986.48,805.641 1986.83,798.448 1987.1,791.252 1987.3,784.054 1987.43,776.854 1987.49,769.653 \n  \"/>\n<polyline clip-path=\"url(#clip5402)\" style=\"stroke:#e26f46; stroke-width:4; stroke-opacity:1; fill:none\" points=\"\n  8180.49,767.359 8175.09,479.376 8158.89,191.766 8131.92,-95.0947 8094.21,-380.834 8045.79,-665.08 7986.72,-947.462 7917.08,-1227.61 7836.93,-1505.16 7746.38,-1779.75 \n  7645.52,-2051.02 7534.47,-2318.6 7413.35,-2582.16 7282.32,-2841.33 7141.5,-3095.78 6991.08,-3345.17 6831.21,-3589.15 6662.08,-3827.41 6483.9,-4059.62 6296.85,-4285.46 \n  6101.16,-4504.63 5897.05,-4716.83 5684.76,-4921.75 5464.53,-5119.12 5236.61,-5308.65 5001.28,-5490.07 4758.79,-5663.12 4509.44,-5827.54 4253.52,-5983.1 3991.31,-6129.55 \n  3723.13,-6266.67 3449.29,-6394.25 3170.12,-6512.08 2885.92,-6619.96 2597.05,-6717.72 2303.84,-6805.17 2006.64,-6882.15 1705.79,-6948.52 1401.66,-7004.13 1094.6,-7048.86 \n  784.987,-7082.58 473.183,-7105.19 159.564,-7116.61 -155.493,-7116.74 -471.609,-7105.52 -788.401,-7082.89 -1105.48,-7048.81 -1422.47,-7003.24 -1738.98,-6946.17 -2054.61,-6877.59 \n  -2368.99,-6797.51 -2681.71,-6705.94 -2992.39,-6602.92 -3300.65,-6488.48 -3606.08,-6362.69 -3908.32,-6225.62 -4206.97,-6077.34 -4501.64,-5917.95 -4791.97,-5747.55 -5077.56,-5566.27 \n  -5358.06,-5374.23 -5633.09,-5171.58 -5902.27,-4958.48 -6165.26,-4735.08 -6421.7,-4501.58 -6671.23,-4258.15 -6913.5,-4005.01 -7148.19,-3742.37 -7374.95,-3470.44 -7593.46,-3189.47 \n  -7803.4,-2899.7 -8004.45,-2601.4 -8196.32,-2294.82 -8378.7,-1980.24 -8551.32,-1657.96 -8713.88,-1328.27 -8866.12,-991.466 -9007.78,-647.877 -9138.6,-297.823 -9258.35,58.3649 \n  -9366.79,420.345 -9463.7,787.768 -9548.88,1160.28 -9622.12,1537.51 -9683.23,1919.1 -9732.04,2304.66 -9768.39,2693.82 -9792.11,3086.18 -9803.06,3481.35 -9801.13,3878.93 \n  -9786.18,4278.51 -9758.12,4679.69 -9716.85,5082.06 -9662.3,5485.19 -9594.4,5888.66 -9513.09,6292.07 -9418.33,6694.97 -9310.1,7096.94 -9188.39,7497.55 -9053.18,7896.38 \n  -8904.51,8292.99 -8742.39,8686.95 -8566.86,9077.84 -8377.97,9465.21 -8175.8,9848.64 -7960.42,10227.7 -7731.93,10602 -7490.43,10971 -7236.04,11334.4 -6968.91,11691.7 \n  -6689.17,12042.6 -6396.98,12386.6 -6092.52,12723.2 -5775.98,13052.2 -5447.54,13373 -5107.44,13685.4 -4755.88,13988.9 -4393.1,14283.1 -4019.36,14567.6 -3634.92,14842.2 \n  -3240.03,15106.4 -2835,15359.8 -2420.11,15602.2 -1995.68,15833.2 -1562.01,16052.4 -1119.44,16259.6 -668.303,16454.4 -208.949,16636.6 258.263,16805.8 732.967,16961.7 \n  1214.79,17104.2 1703.33,17232.9 2198.21,17347.5 2699.03,17448 3205.36,17533.9 3716.79,17605.2 4232.91,17661.6 4753.26,17702.9 5277.43,17728.9 5804.95,17739.6 \n  6335.38,17734.7 6868.27,17714 7403.15,17677.6 7939.56,17625.3 8477.02,17556.9 9015.07,17472.4 9553.22,17371.8 10091,17254.9 10627.9,17121.8 11163.5,16972.3 \n  11697.3,16806.6 12228.7,16624.6 12757.4,16426.3 13282.7,16211.8 13804.3,15981.1 14321.6,15734.3 14834.2,15471.4 15341.5,15192.6 15843.1,14897.9 16338.5,14587.4 \n  16827.2,14261.4 17308.7,13920 17782.7,13563.2 18248.5,13191.4 18705.7,12804.7 19154,12403.2 19592.8,11987.3 20021.6,11557.1 20440.1,11113 20847.8,10655.1 \n  21244.2,10183.7 21629,9699.23 22001.8,9201.84 22362.1,8691.89 22709.5,8169.72 23043.7,7635.65 23364.3,7090.05 23670.8,6533.26 23963,5965.67 24240.5,5387.66 \n  24503,4799.62 24750.1,4201.96 24981.5,3595.1 25196.9,2979.46 25396,2355.48 25578.6,1723.6 25744.4,1084.27 25893.1,437.968 26024.4,-214.85 26138.3,-873.703 \n  26234.3,-1538.1 26312.4,-2207.56 26372.3,-2881.58 26413.9,-3559.64 26437.1,-4241.25 26441.6,-4925.89 26427.3,-5613.03 26394.2,-6302.14 26342.2,-6992.71 26271,-7684.19 \n  26180.8,-8376.05 26071.4,-9067.75 25942.7,-9758.75 25794.9,-10448.5 25627.8,-11136.5 25441.4,-11822.1 25235.9,-12504.8 25011.2,-13184.2 24767.4,-13859.5 24504.6,-14530.3 \n  24222.8,-15196.1 23922.2,-15856.3 23602.9,-16510.3 23264.9,-17157.6 22908.6,-17797.7 22533.9,-18430.1 22141.2,-19054.2 21730.6,-19669.5 21302.3,-20275.5 20856.6,-20871.7 \n  20393.6,-21457.6 19913.7,-22032.7 19417.1,-22596.4 18904.1,-23148.3 18375.1,-23688 17830.2,-24214.9 17269.9,-24728.7 16694.4,-25228.7 16104.2,-25714.7 15499.6,-26186.1 \n  14881,-26642.6 14248.8,-27083.8 13603.3,-27509.1 12945.1,-27918.3 12274.5,-28311 11591.9,-28686.8 10897.9,-29045.3 10192.8,-29386.2 9477.17,-29709.2 8751.47,-30013.9 \n  8016.18,-30300.1 7271.81,-30567.4 6518.86,-30815.6 5757.85,-31044.5 4989.29,-31253.7 4213.73,-31443.1 3431.69,-31612.4 2643.73,-31761.4 1850.39,-31889.9 1052.22,-31997.8 \n  249.802,-32084.9 -556.314,-32151.1 -1365.55,-32196.2 -2177.34,-32220.1 -2991.1,-32222.8 -3806.24,-32204.1 -4622.19,-32164.1 -5438.37,-32102.6 -6254.17,-32019.6 -7069.02,-31915.1 \n  -7882.33,-31789.2 -8693.5,-31641.8 -9501.95,-31473 -10307.1,-31282.8 -11108.3,-31071.4 -11905.1,-30838.8 -12696.8,-30585 -13482.8,-30310.3 -14262.7,-30014.8 -15035.7,-29698.6 \n  -15801.4,-29361.9 -16559.1,-29004.8 -17308.4,-28627.7 -18048.6,-28230.6 -18779.2,-27813.9 -19499.7,-27377.8 -20209.6,-26922.5 -20908.2,-26448.4 -21595.1,-25955.6 -22269.9,-25444.7 \n  -22931.8,-24915.7 -23580.6,-24369.2 -24215.7,-23805.4 -24836.5,-23224.8 -25442.8,-22627.6 -26033.9,-22014.3 -26609.5,-21385.3 -27169.1,-20741 -27712.3,-20081.9 -28238.8,-19408.3 \n  -28748,-18720.8 -29239.6,-18019.7 -29713.3,-17305.7 -30168.7,-16579.1 -30605.5,-15840.4 -31023.2,-15090.2 -31421.7,-14329 -31800.6,-13557.2 -32159.6,-12775.5 -32498.4,-11984.3 \n  -32816.8,-11184.3 -33114.6,-10375.9 -33391.5,-9559.76 -33647.4,-8736.39 -33881.9,-7906.38 -34095,-7070.31 -34286.5,-6228.76 -34456.2,-5382.32 -34604,-4531.58 -34729.8,-3677.13 \n  -34833.5,-2819.57 -34915.1,-1959.51 -34974.4,-1097.53 -35011.4,-234.249 -35026.1,629.733 -35018.5,1493.81 -34988.6,2357.38 -34936.4,3219.84 -34861.9,4080.58 -34765.3,4939 \n  -34646.5,5794.5 -34505.6,6646.49 -34342.9,7494.36 -34158.3,8337.53 -33952.1,9175.41 -33724.4,10007.4 -33475.3,10833 -33205.1,11651.5 -32914,12462.4 -32602.1,13265.2 \n  -32269.7,14059.2 -31917.1,14844 -31544.5,15619 -31152.3,16383.6 -30740.6,17137.4 -30309.9,17879.8 -29860.4,18610.3 -29392.5,19328.4 -28906.5,20033.6 -28402.9,20725.5 \n  -27881.9,21403.6 -27343.9,22067.4 -26789.5,22716.4 -26219,23350.4 -25632.7,23968.7 -25031.2,24571 -24415,25157 -23784.4,25726.2 -23139.9,26278.3 -22482.1,26812.8 \n  -21811.4,27329.6 -21128.3,27828.1 -20433.4,28308.2 -19727,28769.5 -19009.9,29211.8 -18282.4,29634.7 -17545.2,30038.1 -16798.7,30421.6 -16043.6,30785 -15280.4,31128.3 \n  -14509.7,31451 -13731.9,31753.2 -12947.8,32034.5 -12157.8,32294.9 -11362.6,32534.3 -10562.8,32752.5 -9758.8,32949.5 -8951.34,33125.1 -8140.97,33279.3 -7328.28,33412.1 \n  -6513.86,33523.4 -5698.29,33613.2 -4882.17,33681.5 -4066.09,33728.4 -3250.62,33753.9 -2436.36,33758 -1623.88,33740.8 -813.769,33702.5 -6.59669,33643 797.064,33562.5 \n  1596.64,33461.2 2391.58,33339.3 3181.32,33196.7 3965.3,33033.9 4742.99,32850.9 5513.83,32648 6277.31,32425.4 7032.88,32183.3 7780.04,31922 8518.27,31641.8 \n  9247.08,31342.9 9965.97,31025.7 10674.4,30690.5 11372.1,30337.6 12058.3,29967.3 12732.8,29579.9 13395,29176 14044.6,28755.7 14681.1,28319.6 15304.1,27867.9 \n  15913.2,27401.2 16508,26919.8 17088.2,26424.2 17653.4,25914.7 18203.2,25392 18737.3,24856.3 19255.5,24308.2 19757.3,23748.2 20242.6,23176.7 20711,22594.2 \n  21162.2,22001.2 21596.1,21398.3 22012.4,20785.9 22410.8,20164.5 22791.2,19534.7 23153.4,18897 23497.2,18251.9 23822.5,17600 24129.1,16941.7 24416.9,16277.7 \n  24685.8,15608.4 24935.6,14934.5 25166.4,14256.3 25378.1,13574.6 25570.5,12889.9 25743.7,12202.6 25897.7,11513.3 26032.5,10822.7 26148,10131.1 26244.4,9439.27 \n  26321.6,8747.61 26379.7,8056.7 26418.8,7367.06 26439.1,6679.23 26440.5,5993.75 26423.3,5311.12 26387.6,4631.87 26333.5,3956.5 26261.1,3285.54 26170.8,2619.47 \n  26062.6,1958.8 25936.8,1304.01 25793.6,655.577 25633.3,13.9783 25456,-620.323 25262.1,-1246.87 25051.8,-1865.21 24825.5,-2474.92 24583.4,-3075.55 24325.8,-3666.7 \n  24053,-4247.95 23765.5,-4818.9 23463.4,-5379.17 23147.3,-5928.38 22817.4,-6466.16 22474.2,-6992.16 22117.9,-7506.03 21749.1,-8007.46 21368.1,-8496.11 20975.3,-8971.69 \n  20571.1,-9433.89 20156,-9882.46 19730.5,-10317.1 19294.8,-10737.6 18849.5,-11143.7 18395.1,-11535.1 17931.9,-11911.7 17460.5,-12273.3 16981.4,-12619.6 16494.9,-12950.6 \n  16001.6,-13266 15501.9,-13565.7 14996.4,-13849.6 14485.4,-14117.6 13969.6,-14369.5 13449.3,-14605.4 12925.1,-14825 12397.4,-15028.5 11866.8,-15215.7 11333.8,-15386.6 \n  10798.7,-15541.2 10262.1,-15679.5 9724.58,-15801.6 9186.5,-15907.4 8648.36,-15997 8110.66,-16070.5 7573.87,-16128 7038.45,-16169.4 6504.88,-16195.1 5973.61,-16205 \n  5445.11,-16199.3 4919.83,-16178.1 4398.22,-16141.6 3880.7,-16090 3367.73,-16023.5 2859.73,-15942.2 2357.11,-15846.4 1860.3,-15736.2 1369.69,-15612 885.688,-15473.9 \n  408.676,-15322.2 -60.9635,-15157.2 -522.86,-14979.1 -976.652,-14788.3 -1421.99,-14585 -1858.53,-14369.6 -2285.94,-14142.3 -2703.9,-13903.5 -3112.11,-13653.5 -3510.25,-13392.7 \n  -3898.05,-13121.5 -4275.23,-12840 -4641.53,-12548.9 -4996.69,-12248.3 -5340.47,-11938.7 -5672.64,-11620.6 -5992.99,-11294.1 -6301.32,-10959.9 -6597.44,-10618.2 -6881.16,-10269.5 \n  -7152.33,-9914.18 -7410.79,-9552.67 -7656.41,-9185.38 -7889.06,-8812.73 -8108.62,-8435.15 -8315.01,-8053.07 -8508.14,-7666.91 -8687.93,-7277.1 -8854.33,-6884.07 -9007.29,-6488.26 \n  -9146.78,-6090.09 -9272.8,-5689.99 -9385.32,-5288.41 -9484.36,-4885.76 -9569.95,-4482.47 -9642.12,-4078.97 -9700.92,-3675.68 -9746.41,-3273.03 -9778.67,-2871.43 -9797.78,-2471.29 \n  -9803.85,-2073.03 -9796.99,-1677.05 -9777.32,-1283.75 -9744.98,-893.53 -9700.12,-506.781 -9642.91,-123.886 -9573.51,254.775 -9492.12,628.83 -9398.92,997.913 -9294.13,1361.66 \n  -9177.96,1719.73 -9050.63,2071.78 -8912.4,2417.46 -8763.5,2756.46 -8604.2,3088.45 -8434.76,3413.13 -8255.46,3730.19 -8066.58,4039.35 -7868.42,4340.32 -7661.27,4632.83 \n  -7445.46,4916.63 -7221.29,5191.46 -6989.1,5457.09 -6749.2,5713.28 -6501.95,5959.83 -6247.67,6196.51 -5986.73,6423.15 -5719.48,6639.55 -5446.28,6845.55 -5167.48,7040.98 \n  -4883.47,7225.7 -4594.61,7399.58 -4301.28,7562.49 -4003.85,7714.32 -3702.72,7854.97 -3398.26,7984.36 -3090.86,8102.42 -2780.91,8209.09 -2468.8,8304.31 -2154.91,8388.05 \n  -1839.63,8460.3 -1523.36,8521.03 -1206.48,8570.26 -889.388,8607.99 -572.462,8634.27 -256.089,8649.12 59.347,8652.59 373.465,8644.77 685.888,8625.71 996.241,8595.52 \n  1304.15,8554.29 1609.25,8502.13 1911.19,8439.17 2209.59,8365.55 2504.11,8281.42 2794.4,8186.93 3080.12,8082.25 3360.93,7967.57 3636.51,7843.07 3906.52,7708.97 \n  4170.66,7565.46 4428.62,7412.78 4680.1,7251.16 4924.8,7080.83 5162.44,6902.05 5392.75,6715.07 5615.46,6520.17 5830.3,6317.63 6037.05,6107.72 6235.44,5890.73 \n  6425.27,5666.98 6606.3,5436.77 6778.33,5200.4 6941.17,4958.2 7094.62,4710.5 7238.52,4457.63 7372.68,4199.92 7496.97,3937.73 7611.24,3671.39 7715.36,3401.25 \n  7809.21,3127.69 7892.68,2851.04 7965.68,2571.68 8028.13,2289.97 8079.94,2006.27 8121.07,1720.97 8151.47,1434.43 8171.1,1147.01 8179.94,859.109 \n  \"/>\n<circle clip-path=\"url(#clip5402)\" style=\"fill:#000000; stroke:none; fill-opacity:1\" cx=\"1267.38\" cy=\"767.359\" r=\"18\"/>\n<circle clip-path=\"url(#clip5402)\" style=\"fill:#3da44d; stroke:none; fill-opacity:1\" cx=\"1267.38\" cy=\"767.359\" r=\"14\"/>\n</svg>\n"
               },
               "type": "node"
              }
             ],
             "instanceArgs": {
              "namespace": "html",
              "tag": "div"
             },
             "nodeType": "DOM",
             "props": {
              "className": "interact-flex-row interact-widget"
             },
             "type": "node"
            }
           }
          },
          "systemjs_options": null
         },
         "nodeType": "Scope",
         "props": {},
         "type": "node"
        }
       ],
       "instanceArgs": {
        "namespace": "html",
        "tag": "div"
       },
       "nodeType": "DOM",
       "props": {},
       "type": "node"
      },
      "text/html": [
       "<div\n",
       "    class=\"webio-mountpoint\"\n",
       "    data-webio-mountpoint=\"14357218238283856795\"\n",
       ">\n",
       "    <script>\n",
       "    if (window.require && require.defined && require.defined(\"nbextensions/webio-jupyter-notebook\")) {\n",
       "        console.log(\"Jupyter WebIO extension detected, not mounting.\");\n",
       "    } else if (window.WebIO) {\n",
       "        WebIO.mount(\n",
       "            document.querySelector('[data-webio-mountpoint=\"14357218238283856795\"]'),\n",
       "            {\"props\":{},\"nodeType\":\"DOM\",\"type\":\"node\",\"instanceArgs\":{\"namespace\":\"html\",\"tag\":\"div\"},\"children\":[{\"props\":{\"className\":\"field interact-widget\"},\"nodeType\":\"DOM\",\"type\":\"node\",\"instanceArgs\":{\"namespace\":\"html\",\"tag\":\"div\"},\"children\":[{\"props\":{},\"nodeType\":\"Scope\",\"type\":\"node\",\"instanceArgs\":{\"imports\":{\"data\":[{\"name\":\"knockout\",\"type\":\"js\",\"url\":\"\\/assetserver\\/9a186147d51179d2ec12ccfac1799b0b805a79d5-knockout.js\"},{\"name\":\"knockout_punches\",\"type\":\"js\",\"url\":\"\\/assetserver\\/eccef011301f679ebde0900f01478cac573870ce-knockout_punches.js\"},{\"name\":null,\"type\":\"js\",\"url\":\"\\/assetserver\\/5d2042c6908ffff0b7c8d26135740476bcf00827-all.js\"},{\"name\":null,\"type\":\"css\",\"url\":\"\\/assetserver\\/87ad319ae61de5d44f67c268a0a8f65862fca478-style.css\"},{\"name\":null,\"type\":\"css\",\"url\":\"\\/assetserver\\/9354074556c360cc537db1e8b0f0283e19c8ea9d-bulma_confined.min.css\"}],\"type\":\"async_block\"},\"id\":\"4298254072035559467\",\"handlers\":{\"changes\":[\"(function (val){return (val!=this.model[\\\"changes\\\"]()) ? (this.valueFromJulia[\\\"changes\\\"]=true, this.model[\\\"changes\\\"](val)) : undefined})\"],\"index\":[\"(function (val){return (val!=this.model[\\\"index\\\"]()) ? (this.valueFromJulia[\\\"index\\\"]=true, this.model[\\\"index\\\"](val)) : undefined})\"]},\"systemjs_options\":null,\"mount_callbacks\":[\"function () {\\n    var handler = (function (ko, koPunches) {\\n    ko.punches.enableAll();\\n    ko.bindingHandlers.numericValue = {\\n        init: function(element, valueAccessor, allBindings, data, context) {\\n            var stringified = ko.observable(ko.unwrap(valueAccessor()));\\n            stringified.subscribe(function(value) {\\n                var val = parseFloat(value);\\n                if (!isNaN(val)) {\\n                    valueAccessor()(val);\\n                }\\n            });\\n            valueAccessor().subscribe(function(value) {\\n                var str = JSON.stringify(value);\\n                if ((str == \\\"0\\\") && ([\\\"-0\\\", \\\"-0.\\\"].indexOf(stringified()) >= 0))\\n                     return;\\n                 if ([\\\"null\\\", \\\"\\\"].indexOf(str) >= 0)\\n                     return;\\n                stringified(str);\\n            });\\n            ko.applyBindingsToNode(\\n                element,\\n                {\\n                    value: stringified,\\n                    valueUpdate: allBindings.get('valueUpdate'),\\n                },\\n                context,\\n            );\\n        }\\n    };\\n    var json_data = {\\\"formatted_vals\\\":[\\\"0.01\\\",\\\"0.02\\\",\\\"0.03\\\",\\\"0.04\\\",\\\"0.05\\\",\\\"0.06\\\",\\\"0.07\\\",\\\"0.08\\\",\\\"0.09\\\",\\\"0.1\\\",\\\"0.11\\\",\\\"0.12\\\",\\\"0.13\\\",\\\"0.14\\\",\\\"0.15\\\",\\\"0.16\\\",\\\"0.17\\\",\\\"0.18\\\",\\\"0.19\\\",\\\"0.2\\\",\\\"0.21\\\",\\\"0.22\\\",\\\"0.23\\\",\\\"0.24\\\",\\\"0.25\\\",\\\"0.26\\\",\\\"0.27\\\",\\\"0.28\\\",\\\"0.29\\\",\\\"0.3\\\",\\\"0.31\\\",\\\"0.32\\\",\\\"0.33\\\",\\\"0.34\\\",\\\"0.35\\\",\\\"0.36\\\",\\\"0.37\\\",\\\"0.38\\\",\\\"0.39\\\",\\\"0.4\\\",\\\"0.41\\\",\\\"0.42\\\",\\\"0.43\\\",\\\"0.44\\\",\\\"0.45\\\",\\\"0.46\\\",\\\"0.47\\\",\\\"0.48\\\",\\\"0.49\\\",\\\"0.5\\\",\\\"0.51\\\",\\\"0.52\\\",\\\"0.53\\\",\\\"0.54\\\",\\\"0.55\\\",\\\"0.56\\\",\\\"0.57\\\",\\\"0.58\\\",\\\"0.59\\\",\\\"0.6\\\",\\\"0.61\\\",\\\"0.62\\\",\\\"0.63\\\",\\\"0.64\\\",\\\"0.65\\\",\\\"0.66\\\",\\\"0.67\\\",\\\"0.68\\\",\\\"0.69\\\",\\\"0.7\\\",\\\"0.71\\\",\\\"0.72\\\",\\\"0.73\\\",\\\"0.74\\\",\\\"0.75\\\",\\\"0.76\\\",\\\"0.77\\\",\\\"0.78\\\",\\\"0.79\\\",\\\"0.8\\\",\\\"0.81\\\",\\\"0.82\\\",\\\"0.83\\\",\\\"0.84\\\",\\\"0.85\\\",\\\"0.86\\\",\\\"0.87\\\",\\\"0.88\\\",\\\"0.89\\\",\\\"0.9\\\",\\\"0.91\\\",\\\"0.92\\\",\\\"0.93\\\",\\\"0.94\\\",\\\"0.95\\\",\\\"0.96\\\",\\\"0.97\\\",\\\"0.98\\\",\\\"0.99\\\",\\\"1.0\\\",\\\"1.01\\\",\\\"1.02\\\",\\\"1.03\\\",\\\"1.04\\\",\\\"1.05\\\",\\\"1.06\\\",\\\"1.07\\\",\\\"1.08\\\",\\\"1.09\\\",\\\"1.1\\\",\\\"1.11\\\",\\\"1.12\\\",\\\"1.13\\\",\\\"1.14\\\",\\\"1.15\\\",\\\"1.16\\\",\\\"1.17\\\",\\\"1.18\\\",\\\"1.19\\\",\\\"1.2\\\",\\\"1.21\\\",\\\"1.22\\\",\\\"1.23\\\",\\\"1.24\\\",\\\"1.25\\\",\\\"1.26\\\",\\\"1.27\\\",\\\"1.28\\\",\\\"1.29\\\",\\\"1.3\\\",\\\"1.31\\\",\\\"1.32\\\",\\\"1.33\\\",\\\"1.34\\\",\\\"1.35\\\",\\\"1.36\\\",\\\"1.37\\\",\\\"1.38\\\",\\\"1.39\\\",\\\"1.4\\\",\\\"1.41\\\",\\\"1.42\\\",\\\"1.43\\\",\\\"1.44\\\",\\\"1.45\\\",\\\"1.46\\\",\\\"1.47\\\",\\\"1.48\\\",\\\"1.49\\\",\\\"1.5\\\",\\\"1.51\\\",\\\"1.52\\\",\\\"1.53\\\",\\\"1.54\\\",\\\"1.55\\\",\\\"1.56\\\",\\\"1.57\\\",\\\"1.58\\\",\\\"1.59\\\",\\\"1.6\\\",\\\"1.61\\\",\\\"1.62\\\",\\\"1.63\\\",\\\"1.64\\\",\\\"1.65\\\",\\\"1.66\\\",\\\"1.67\\\",\\\"1.68\\\",\\\"1.69\\\",\\\"1.7\\\",\\\"1.71\\\",\\\"1.72\\\",\\\"1.73\\\",\\\"1.74\\\",\\\"1.75\\\",\\\"1.76\\\",\\\"1.77\\\",\\\"1.78\\\",\\\"1.79\\\",\\\"1.8\\\",\\\"1.81\\\",\\\"1.82\\\",\\\"1.83\\\",\\\"1.84\\\",\\\"1.85\\\",\\\"1.86\\\",\\\"1.87\\\",\\\"1.88\\\",\\\"1.89\\\",\\\"1.9\\\",\\\"1.91\\\",\\\"1.92\\\",\\\"1.93\\\",\\\"1.94\\\",\\\"1.95\\\",\\\"1.96\\\",\\\"1.97\\\",\\\"1.98\\\",\\\"1.99\\\",\\\"2.0\\\",\\\"2.01\\\",\\\"2.02\\\",\\\"2.03\\\",\\\"2.04\\\",\\\"2.05\\\",\\\"2.06\\\",\\\"2.07\\\",\\\"2.08\\\",\\\"2.09\\\",\\\"2.1\\\",\\\"2.11\\\",\\\"2.12\\\",\\\"2.13\\\",\\\"2.14\\\",\\\"2.15\\\",\\\"2.16\\\",\\\"2.17\\\",\\\"2.18\\\",\\\"2.19\\\",\\\"2.2\\\",\\\"2.21\\\",\\\"2.22\\\",\\\"2.23\\\",\\\"2.24\\\",\\\"2.25\\\",\\\"2.26\\\",\\\"2.27\\\",\\\"2.28\\\",\\\"2.29\\\",\\\"2.3\\\",\\\"2.31\\\",\\\"2.32\\\",\\\"2.33\\\",\\\"2.34\\\",\\\"2.35\\\",\\\"2.36\\\",\\\"2.37\\\",\\\"2.38\\\",\\\"2.39\\\",\\\"2.4\\\",\\\"2.41\\\",\\\"2.42\\\",\\\"2.43\\\",\\\"2.44\\\",\\\"2.45\\\",\\\"2.46\\\",\\\"2.47\\\",\\\"2.48\\\",\\\"2.49\\\",\\\"2.5\\\",\\\"2.51\\\",\\\"2.52\\\",\\\"2.53\\\",\\\"2.54\\\",\\\"2.55\\\",\\\"2.56\\\",\\\"2.57\\\",\\\"2.58\\\",\\\"2.59\\\",\\\"2.6\\\",\\\"2.61\\\",\\\"2.62\\\",\\\"2.63\\\",\\\"2.64\\\",\\\"2.65\\\",\\\"2.66\\\",\\\"2.67\\\",\\\"2.68\\\",\\\"2.69\\\",\\\"2.7\\\",\\\"2.71\\\",\\\"2.72\\\",\\\"2.73\\\",\\\"2.74\\\",\\\"2.75\\\",\\\"2.76\\\",\\\"2.77\\\",\\\"2.78\\\",\\\"2.79\\\",\\\"2.8\\\",\\\"2.81\\\",\\\"2.82\\\",\\\"2.83\\\",\\\"2.84\\\",\\\"2.85\\\",\\\"2.86\\\",\\\"2.87\\\",\\\"2.88\\\",\\\"2.89\\\",\\\"2.9\\\",\\\"2.91\\\",\\\"2.92\\\",\\\"2.93\\\",\\\"2.94\\\",\\\"2.95\\\",\\\"2.96\\\",\\\"2.97\\\",\\\"2.98\\\",\\\"2.99\\\",\\\"3.0\\\",\\\"3.01\\\",\\\"3.02\\\",\\\"3.03\\\",\\\"3.04\\\",\\\"3.05\\\",\\\"3.06\\\",\\\"3.07\\\",\\\"3.08\\\",\\\"3.09\\\",\\\"3.1\\\",\\\"3.11\\\",\\\"3.12\\\",\\\"3.13\\\",\\\"3.14\\\",\\\"3.15\\\",\\\"3.16\\\",\\\"3.17\\\",\\\"3.18\\\",\\\"3.19\\\",\\\"3.2\\\",\\\"3.21\\\",\\\"3.22\\\",\\\"3.23\\\",\\\"3.24\\\",\\\"3.25\\\",\\\"3.26\\\",\\\"3.27\\\",\\\"3.28\\\",\\\"3.29\\\",\\\"3.3\\\",\\\"3.31\\\",\\\"3.32\\\",\\\"3.33\\\",\\\"3.34\\\",\\\"3.35\\\",\\\"3.36\\\",\\\"3.37\\\",\\\"3.38\\\",\\\"3.39\\\",\\\"3.4\\\",\\\"3.41\\\",\\\"3.42\\\",\\\"3.43\\\",\\\"3.44\\\",\\\"3.45\\\",\\\"3.46\\\",\\\"3.47\\\",\\\"3.48\\\",\\\"3.49\\\",\\\"3.5\\\",\\\"3.51\\\",\\\"3.52\\\",\\\"3.53\\\",\\\"3.54\\\",\\\"3.55\\\",\\\"3.56\\\",\\\"3.57\\\",\\\"3.58\\\",\\\"3.59\\\",\\\"3.6\\\",\\\"3.61\\\",\\\"3.62\\\",\\\"3.63\\\",\\\"3.64\\\",\\\"3.65\\\",\\\"3.66\\\",\\\"3.67\\\",\\\"3.68\\\",\\\"3.69\\\",\\\"3.7\\\",\\\"3.71\\\",\\\"3.72\\\",\\\"3.73\\\",\\\"3.74\\\",\\\"3.75\\\",\\\"3.76\\\",\\\"3.77\\\",\\\"3.78\\\",\\\"3.79\\\",\\\"3.8\\\",\\\"3.81\\\",\\\"3.82\\\",\\\"3.83\\\",\\\"3.84\\\",\\\"3.85\\\",\\\"3.86\\\",\\\"3.87\\\",\\\"3.88\\\",\\\"3.89\\\",\\\"3.9\\\",\\\"3.91\\\",\\\"3.92\\\",\\\"3.93\\\",\\\"3.94\\\",\\\"3.95\\\",\\\"3.96\\\",\\\"3.97\\\",\\\"3.98\\\",\\\"3.99\\\",\\\"4.0\\\",\\\"4.01\\\",\\\"4.02\\\",\\\"4.03\\\",\\\"4.04\\\",\\\"4.05\\\",\\\"4.06\\\",\\\"4.07\\\",\\\"4.08\\\",\\\"4.09\\\",\\\"4.1\\\",\\\"4.11\\\",\\\"4.12\\\",\\\"4.13\\\",\\\"4.14\\\",\\\"4.15\\\",\\\"4.16\\\",\\\"4.17\\\",\\\"4.18\\\",\\\"4.19\\\",\\\"4.2\\\",\\\"4.21\\\",\\\"4.22\\\",\\\"4.23\\\",\\\"4.24\\\",\\\"4.25\\\",\\\"4.26\\\",\\\"4.27\\\",\\\"4.28\\\",\\\"4.29\\\",\\\"4.3\\\",\\\"4.31\\\",\\\"4.32\\\",\\\"4.33\\\",\\\"4.34\\\",\\\"4.35\\\",\\\"4.36\\\",\\\"4.37\\\",\\\"4.38\\\",\\\"4.39\\\",\\\"4.4\\\",\\\"4.41\\\",\\\"4.42\\\",\\\"4.43\\\",\\\"4.44\\\",\\\"4.45\\\",\\\"4.46\\\",\\\"4.47\\\",\\\"4.48\\\",\\\"4.49\\\",\\\"4.5\\\",\\\"4.51\\\",\\\"4.52\\\",\\\"4.53\\\",\\\"4.54\\\",\\\"4.55\\\",\\\"4.56\\\",\\\"4.57\\\",\\\"4.58\\\",\\\"4.59\\\",\\\"4.6\\\",\\\"4.61\\\",\\\"4.62\\\",\\\"4.63\\\",\\\"4.64\\\",\\\"4.65\\\",\\\"4.66\\\",\\\"4.67\\\",\\\"4.68\\\",\\\"4.69\\\",\\\"4.7\\\",\\\"4.71\\\",\\\"4.72\\\",\\\"4.73\\\",\\\"4.74\\\",\\\"4.75\\\",\\\"4.76\\\",\\\"4.77\\\",\\\"4.78\\\",\\\"4.79\\\",\\\"4.8\\\",\\\"4.81\\\",\\\"4.82\\\",\\\"4.83\\\",\\\"4.84\\\",\\\"4.85\\\",\\\"4.86\\\",\\\"4.87\\\",\\\"4.88\\\",\\\"4.89\\\",\\\"4.9\\\",\\\"4.91\\\",\\\"4.92\\\",\\\"4.93\\\",\\\"4.94\\\",\\\"4.95\\\",\\\"4.96\\\",\\\"4.97\\\",\\\"4.98\\\",\\\"4.99\\\",\\\"5.0\\\",\\\"5.01\\\",\\\"5.02\\\",\\\"5.03\\\",\\\"5.04\\\",\\\"5.05\\\",\\\"5.06\\\",\\\"5.07\\\",\\\"5.08\\\",\\\"5.09\\\",\\\"5.1\\\",\\\"5.11\\\",\\\"5.12\\\",\\\"5.13\\\",\\\"5.14\\\",\\\"5.15\\\",\\\"5.16\\\",\\\"5.17\\\",\\\"5.18\\\",\\\"5.19\\\",\\\"5.2\\\",\\\"5.21\\\",\\\"5.22\\\",\\\"5.23\\\",\\\"5.24\\\",\\\"5.25\\\",\\\"5.26\\\",\\\"5.27\\\",\\\"5.28\\\",\\\"5.29\\\",\\\"5.3\\\",\\\"5.31\\\",\\\"5.32\\\",\\\"5.33\\\",\\\"5.34\\\",\\\"5.35\\\",\\\"5.36\\\",\\\"5.37\\\",\\\"5.38\\\",\\\"5.39\\\",\\\"5.4\\\",\\\"5.41\\\",\\\"5.42\\\",\\\"5.43\\\",\\\"5.44\\\",\\\"5.45\\\",\\\"5.46\\\",\\\"5.47\\\",\\\"5.48\\\",\\\"5.49\\\",\\\"5.5\\\",\\\"5.51\\\",\\\"5.52\\\",\\\"5.53\\\",\\\"5.54\\\",\\\"5.55\\\",\\\"5.56\\\",\\\"5.57\\\",\\\"5.58\\\",\\\"5.59\\\",\\\"5.6\\\",\\\"5.61\\\",\\\"5.62\\\",\\\"5.63\\\",\\\"5.64\\\",\\\"5.65\\\",\\\"5.66\\\",\\\"5.67\\\",\\\"5.68\\\",\\\"5.69\\\",\\\"5.7\\\",\\\"5.71\\\",\\\"5.72\\\",\\\"5.73\\\",\\\"5.74\\\",\\\"5.75\\\",\\\"5.76\\\",\\\"5.77\\\",\\\"5.78\\\",\\\"5.79\\\",\\\"5.8\\\",\\\"5.81\\\",\\\"5.82\\\",\\\"5.83\\\",\\\"5.84\\\",\\\"5.85\\\",\\\"5.86\\\",\\\"5.87\\\",\\\"5.88\\\",\\\"5.89\\\",\\\"5.9\\\",\\\"5.91\\\",\\\"5.92\\\",\\\"5.93\\\",\\\"5.94\\\",\\\"5.95\\\",\\\"5.96\\\",\\\"5.97\\\",\\\"5.98\\\",\\\"5.99\\\",\\\"6.0\\\",\\\"6.01\\\",\\\"6.02\\\",\\\"6.03\\\",\\\"6.04\\\",\\\"6.05\\\",\\\"6.06\\\",\\\"6.07\\\",\\\"6.08\\\",\\\"6.09\\\",\\\"6.1\\\",\\\"6.11\\\",\\\"6.12\\\",\\\"6.13\\\",\\\"6.14\\\",\\\"6.15\\\",\\\"6.16\\\",\\\"6.17\\\",\\\"6.18\\\",\\\"6.19\\\",\\\"6.2\\\",\\\"6.21\\\",\\\"6.22\\\",\\\"6.23\\\",\\\"6.24\\\",\\\"6.25\\\",\\\"6.26\\\",\\\"6.27\\\",\\\"6.28\\\",\\\"6.29\\\",\\\"6.3\\\",\\\"6.31\\\",\\\"6.32\\\",\\\"6.33\\\",\\\"6.34\\\",\\\"6.35\\\",\\\"6.36\\\",\\\"6.37\\\",\\\"6.38\\\",\\\"6.39\\\",\\\"6.4\\\",\\\"6.41\\\",\\\"6.42\\\",\\\"6.43\\\",\\\"6.44\\\",\\\"6.45\\\",\\\"6.46\\\",\\\"6.47\\\",\\\"6.48\\\",\\\"6.49\\\",\\\"6.5\\\",\\\"6.51\\\",\\\"6.52\\\",\\\"6.53\\\",\\\"6.54\\\",\\\"6.55\\\",\\\"6.56\\\",\\\"6.57\\\",\\\"6.58\\\",\\\"6.59\\\",\\\"6.6\\\",\\\"6.61\\\",\\\"6.62\\\",\\\"6.63\\\",\\\"6.64\\\",\\\"6.65\\\",\\\"6.66\\\",\\\"6.67\\\",\\\"6.68\\\",\\\"6.69\\\",\\\"6.7\\\",\\\"6.71\\\",\\\"6.72\\\",\\\"6.73\\\",\\\"6.74\\\",\\\"6.75\\\",\\\"6.76\\\",\\\"6.77\\\",\\\"6.78\\\",\\\"6.79\\\",\\\"6.8\\\",\\\"6.81\\\",\\\"6.82\\\",\\\"6.83\\\",\\\"6.84\\\",\\\"6.85\\\",\\\"6.86\\\",\\\"6.87\\\",\\\"6.88\\\",\\\"6.89\\\",\\\"6.9\\\",\\\"6.91\\\",\\\"6.92\\\",\\\"6.93\\\",\\\"6.94\\\",\\\"6.95\\\",\\\"6.96\\\",\\\"6.97\\\",\\\"6.98\\\",\\\"6.99\\\",\\\"7.0\\\",\\\"7.01\\\",\\\"7.02\\\",\\\"7.03\\\",\\\"7.04\\\",\\\"7.05\\\",\\\"7.06\\\",\\\"7.07\\\",\\\"7.08\\\",\\\"7.09\\\",\\\"7.1\\\",\\\"7.11\\\",\\\"7.12\\\",\\\"7.13\\\",\\\"7.14\\\",\\\"7.15\\\",\\\"7.16\\\",\\\"7.17\\\",\\\"7.18\\\",\\\"7.19\\\",\\\"7.2\\\",\\\"7.21\\\",\\\"7.22\\\",\\\"7.23\\\",\\\"7.24\\\",\\\"7.25\\\",\\\"7.26\\\",\\\"7.27\\\",\\\"7.28\\\",\\\"7.29\\\",\\\"7.3\\\",\\\"7.31\\\",\\\"7.32\\\",\\\"7.33\\\",\\\"7.34\\\",\\\"7.35\\\",\\\"7.36\\\",\\\"7.37\\\",\\\"7.38\\\",\\\"7.39\\\",\\\"7.4\\\",\\\"7.41\\\",\\\"7.42\\\",\\\"7.43\\\",\\\"7.44\\\",\\\"7.45\\\",\\\"7.46\\\",\\\"7.47\\\",\\\"7.48\\\",\\\"7.49\\\",\\\"7.5\\\",\\\"7.51\\\",\\\"7.52\\\",\\\"7.53\\\",\\\"7.54\\\",\\\"7.55\\\",\\\"7.56\\\",\\\"7.57\\\",\\\"7.58\\\",\\\"7.59\\\",\\\"7.6\\\",\\\"7.61\\\",\\\"7.62\\\",\\\"7.63\\\",\\\"7.64\\\",\\\"7.65\\\",\\\"7.66\\\",\\\"7.67\\\",\\\"7.68\\\",\\\"7.69\\\",\\\"7.7\\\",\\\"7.71\\\",\\\"7.72\\\",\\\"7.73\\\",\\\"7.74\\\",\\\"7.75\\\",\\\"7.76\\\",\\\"7.77\\\",\\\"7.78\\\",\\\"7.79\\\",\\\"7.8\\\",\\\"7.81\\\",\\\"7.82\\\",\\\"7.83\\\",\\\"7.84\\\",\\\"7.85\\\",\\\"7.86\\\",\\\"7.87\\\",\\\"7.88\\\",\\\"7.89\\\",\\\"7.9\\\",\\\"7.91\\\",\\\"7.92\\\",\\\"7.93\\\",\\\"7.94\\\",\\\"7.95\\\",\\\"7.96\\\",\\\"7.97\\\",\\\"7.98\\\",\\\"7.99\\\",\\\"8.0\\\",\\\"8.01\\\",\\\"8.02\\\",\\\"8.03\\\",\\\"8.04\\\",\\\"8.05\\\",\\\"8.06\\\",\\\"8.07\\\",\\\"8.08\\\",\\\"8.09\\\",\\\"8.1\\\",\\\"8.11\\\",\\\"8.12\\\",\\\"8.13\\\",\\\"8.14\\\",\\\"8.15\\\",\\\"8.16\\\",\\\"8.17\\\",\\\"8.18\\\",\\\"8.19\\\",\\\"8.2\\\",\\\"8.21\\\",\\\"8.22\\\",\\\"8.23\\\",\\\"8.24\\\",\\\"8.25\\\",\\\"8.26\\\",\\\"8.27\\\",\\\"8.28\\\",\\\"8.29\\\",\\\"8.3\\\",\\\"8.31\\\",\\\"8.32\\\",\\\"8.33\\\",\\\"8.34\\\",\\\"8.35\\\",\\\"8.36\\\",\\\"8.37\\\",\\\"8.38\\\",\\\"8.39\\\",\\\"8.4\\\",\\\"8.41\\\",\\\"8.42\\\",\\\"8.43\\\",\\\"8.44\\\",\\\"8.45\\\",\\\"8.46\\\",\\\"8.47\\\",\\\"8.48\\\",\\\"8.49\\\",\\\"8.5\\\",\\\"8.51\\\",\\\"8.52\\\",\\\"8.53\\\",\\\"8.54\\\",\\\"8.55\\\",\\\"8.56\\\",\\\"8.57\\\",\\\"8.58\\\",\\\"8.59\\\",\\\"8.6\\\",\\\"8.61\\\",\\\"8.62\\\",\\\"8.63\\\",\\\"8.64\\\",\\\"8.65\\\",\\\"8.66\\\",\\\"8.67\\\",\\\"8.68\\\",\\\"8.69\\\",\\\"8.7\\\",\\\"8.71\\\",\\\"8.72\\\",\\\"8.73\\\",\\\"8.74\\\",\\\"8.75\\\",\\\"8.76\\\",\\\"8.77\\\",\\\"8.78\\\",\\\"8.79\\\",\\\"8.8\\\",\\\"8.81\\\",\\\"8.82\\\",\\\"8.83\\\",\\\"8.84\\\",\\\"8.85\\\",\\\"8.86\\\",\\\"8.87\\\",\\\"8.88\\\",\\\"8.89\\\",\\\"8.9\\\",\\\"8.91\\\",\\\"8.92\\\",\\\"8.93\\\",\\\"8.94\\\",\\\"8.95\\\",\\\"8.96\\\",\\\"8.97\\\",\\\"8.98\\\",\\\"8.99\\\",\\\"9.0\\\",\\\"9.01\\\",\\\"9.02\\\",\\\"9.03\\\",\\\"9.04\\\",\\\"9.05\\\",\\\"9.06\\\",\\\"9.07\\\",\\\"9.08\\\",\\\"9.09\\\",\\\"9.1\\\",\\\"9.11\\\",\\\"9.12\\\",\\\"9.13\\\",\\\"9.14\\\",\\\"9.15\\\",\\\"9.16\\\",\\\"9.17\\\",\\\"9.18\\\",\\\"9.19\\\",\\\"9.2\\\",\\\"9.21\\\",\\\"9.22\\\",\\\"9.23\\\",\\\"9.24\\\",\\\"9.25\\\",\\\"9.26\\\",\\\"9.27\\\",\\\"9.28\\\",\\\"9.29\\\",\\\"9.3\\\",\\\"9.31\\\",\\\"9.32\\\",\\\"9.33\\\",\\\"9.34\\\",\\\"9.35\\\",\\\"9.36\\\",\\\"9.37\\\",\\\"9.38\\\",\\\"9.39\\\",\\\"9.4\\\",\\\"9.41\\\",\\\"9.42\\\",\\\"9.43\\\",\\\"9.44\\\",\\\"9.45\\\",\\\"9.46\\\",\\\"9.47\\\",\\\"9.48\\\",\\\"9.49\\\",\\\"9.5\\\",\\\"9.51\\\",\\\"9.52\\\",\\\"9.53\\\",\\\"9.54\\\",\\\"9.55\\\",\\\"9.56\\\",\\\"9.57\\\",\\\"9.58\\\",\\\"9.59\\\",\\\"9.6\\\",\\\"9.61\\\",\\\"9.62\\\",\\\"9.63\\\",\\\"9.64\\\",\\\"9.65\\\",\\\"9.66\\\",\\\"9.67\\\",\\\"9.68\\\",\\\"9.69\\\",\\\"9.7\\\",\\\"9.71\\\",\\\"9.72\\\",\\\"9.73\\\",\\\"9.74\\\",\\\"9.75\\\",\\\"9.76\\\",\\\"9.77\\\",\\\"9.78\\\",\\\"9.79\\\",\\\"9.8\\\",\\\"9.81\\\",\\\"9.82\\\",\\\"9.83\\\",\\\"9.84\\\",\\\"9.85\\\",\\\"9.86\\\",\\\"9.87\\\",\\\"9.88\\\",\\\"9.89\\\",\\\"9.9\\\",\\\"9.91\\\",\\\"9.92\\\",\\\"9.93\\\",\\\"9.94\\\",\\\"9.95\\\",\\\"9.96\\\",\\\"9.97\\\",\\\"9.98\\\",\\\"9.99\\\",\\\"10.0\\\"],\\\"changes\\\":WebIO.getval({\\\"name\\\":\\\"changes\\\",\\\"scope\\\":\\\"4298254072035559467\\\",\\\"id\\\":\\\"ob_39\\\",\\\"type\\\":\\\"observable\\\"}),\\\"index\\\":WebIO.getval({\\\"name\\\":\\\"index\\\",\\\"scope\\\":\\\"4298254072035559467\\\",\\\"id\\\":\\\"ob_38\\\",\\\"type\\\":\\\"observable\\\"})};\\n    var self = this;\\n    function AppViewModel() {\\n        for (var key in json_data) {\\n            var el = json_data[key];\\n            this[key] = Array.isArray(el) ? ko.observableArray(el) : ko.observable(el);\\n        }\\n        \\n        [this[\\\"formatted_val\\\"]=ko.computed(    function(){\\n        return this.formatted_vals()[parseInt(this.index())-(1)];\\n    }\\n,this)]\\n        [this[\\\"changes\\\"].subscribe((function (val){!(this.valueFromJulia[\\\"changes\\\"]) ? (WebIO.setval({\\\"name\\\":\\\"changes\\\",\\\"scope\\\":\\\"4298254072035559467\\\",\\\"id\\\":\\\"ob_39\\\",\\\"type\\\":\\\"observable\\\"},val)) : undefined; return this.valueFromJulia[\\\"changes\\\"]=false}),self),this[\\\"index\\\"].subscribe((function (val){!(this.valueFromJulia[\\\"index\\\"]) ? (WebIO.setval({\\\"name\\\":\\\"index\\\",\\\"scope\\\":\\\"4298254072035559467\\\",\\\"id\\\":\\\"ob_38\\\",\\\"type\\\":\\\"observable\\\"},val)) : undefined; return this.valueFromJulia[\\\"index\\\"]=false}),self)]\\n        \\n    }\\n    self.model = new AppViewModel();\\n    self.valueFromJulia = {};\\n    for (var key in json_data) {\\n        self.valueFromJulia[key] = false;\\n    }\\n    ko.applyBindings(self.model, self.dom);\\n}\\n);\\n    (WebIO.importBlock({\\\"data\\\":[{\\\"name\\\":\\\"knockout\\\",\\\"type\\\":\\\"js\\\",\\\"url\\\":\\\"\\/assetserver\\/9a186147d51179d2ec12ccfac1799b0b805a79d5-knockout.js\\\"},{\\\"name\\\":\\\"knockout_punches\\\",\\\"type\\\":\\\"js\\\",\\\"url\\\":\\\"\\/assetserver\\/eccef011301f679ebde0900f01478cac573870ce-knockout_punches.js\\\"}],\\\"type\\\":\\\"async_block\\\"})).then((imports) => handler.apply(this, imports));\\n}\\n\"],\"observables\":{\"changes\":{\"sync\":false,\"id\":\"ob_39\",\"value\":0},\"index\":{\"sync\":true,\"id\":\"ob_38\",\"value\":500}}},\"children\":[{\"props\":{\"className\":\"interact-flex-row interact-widget\"},\"nodeType\":\"DOM\",\"type\":\"node\",\"instanceArgs\":{\"namespace\":\"html\",\"tag\":\"div\"},\"children\":[{\"props\":{\"className\":\"interact-flex-row-left\"},\"nodeType\":\"DOM\",\"type\":\"node\",\"instanceArgs\":{\"namespace\":\"html\",\"tag\":\"div\"},\"children\":[{\"props\":{\"className\":\"interact \",\"style\":{\"padding\":\"5px 10px 0px 10px\"}},\"nodeType\":\"DOM\",\"type\":\"node\",\"instanceArgs\":{\"namespace\":\"html\",\"tag\":\"label\"},\"children\":[\"r\"]}]},{\"props\":{\"className\":\"interact-flex-row-center\"},\"nodeType\":\"DOM\",\"type\":\"node\",\"instanceArgs\":{\"namespace\":\"html\",\"tag\":\"div\"},\"children\":[{\"props\":{\"max\":1000,\"min\":1,\"attributes\":{\"type\":\"range\",\"data-bind\":\"numericValue: index, valueUpdate: 'input', event: {change: function (){this.changes(this.changes()+1)}}\",\"orient\":\"horizontal\"},\"step\":1,\"className\":\"slider slider is-fullwidth\",\"style\":{}},\"nodeType\":\"DOM\",\"type\":\"node\",\"instanceArgs\":{\"namespace\":\"html\",\"tag\":\"input\"},\"children\":[]}]},{\"props\":{\"className\":\"interact-flex-row-right\"},\"nodeType\":\"DOM\",\"type\":\"node\",\"instanceArgs\":{\"namespace\":\"html\",\"tag\":\"div\"},\"children\":[{\"props\":{\"attributes\":{\"data-bind\":\"text: formatted_val\"}},\"nodeType\":\"DOM\",\"type\":\"node\",\"instanceArgs\":{\"namespace\":\"html\",\"tag\":\"p\"},\"children\":[]}]}]}]}]},{\"props\":{},\"nodeType\":\"Scope\",\"type\":\"node\",\"instanceArgs\":{\"imports\":{\"data\":[],\"type\":\"async_block\"},\"id\":\"6830662884232334210\",\"handlers\":{},\"systemjs_options\":null,\"mount_callbacks\":[],\"observables\":{\"obs-node\":{\"sync\":false,\"id\":\"ob_43\",\"value\":{\"props\":{\"className\":\"interact-flex-row interact-widget\"},\"nodeType\":\"DOM\",\"type\":\"node\",\"instanceArgs\":{\"namespace\":\"html\",\"tag\":\"div\"},\"children\":[{\"props\":{\"setInnerHtml\":\"<?xml version=\\\"1.0\\\" encoding=\\\"utf-8\\\"?>\\n<svg xmlns=\\\"http:\\/\\/www.w3.org\\/2000\\/svg\\\" xmlns:xlink=\\\"http:\\/\\/www.w3.org\\/1999\\/xlink\\\" width=\\\"600\\\" height=\\\"400\\\" viewBox=\\\"0 0 2400 1600\\\">\\n<defs>\\n  <clipPath id=\\\"clip5000\\\">\\n    <rect x=\\\"0\\\" y=\\\"0\\\" width=\\\"2400\\\" height=\\\"1600\\\"\\/>\\n  <\\/clipPath>\\n<\\/defs>\\n<path clip-path=\\\"url(#clip5000)\\\" d=\\\"\\nM0 1600 L2400 1600 L2400 0 L0 0  Z\\n  \\\" fill=\\\"#ffffff\\\" fill-rule=\\\"evenodd\\\" fill-opacity=\\\"1\\\"\\/>\\n<defs>\\n  <clipPath id=\\\"clip5001\\\">\\n    <rect x=\\\"480\\\" y=\\\"0\\\" width=\\\"1681\\\" height=\\\"1600\\\"\\/>\\n  <\\/clipPath>\\n<\\/defs>\\n<path clip-path=\\\"url(#clip5000)\\\" d=\\\"\\nM547.267 1487.47 L1987.5 1487.47 L1987.5 47.2441 L547.267 47.2441  Z\\n  \\\" fill=\\\"#ffffff\\\" fill-rule=\\\"evenodd\\\" fill-opacity=\\\"1\\\"\\/>\\n<defs>\\n  <clipPath id=\\\"clip5002\\\">\\n    <rect x=\\\"547\\\" y=\\\"47\\\" width=\\\"1441\\\" height=\\\"1441\\\"\\/>\\n  <\\/clipPath>\\n<\\/defs>\\n<polyline clip-path=\\\"url(#clip5002)\\\" style=\\\"stroke:#000000; stroke-width:2; stroke-opacity:0.1; fill:none\\\" points=\\\"\\n  547.267,1487.47 547.267,47.2441 \\n  \\\"\\/>\\n<polyline clip-path=\\\"url(#clip5002)\\\" style=\\\"stroke:#000000; stroke-width:2; stroke-opacity:0.1; fill:none\\\" points=\\\"\\n  907.324,1487.47 907.324,47.2441 \\n  \\\"\\/>\\n<polyline clip-path=\\\"url(#clip5002)\\\" style=\\\"stroke:#000000; stroke-width:2; stroke-opacity:0.1; fill:none\\\" points=\\\"\\n  1267.38,1487.47 1267.38,47.2441 \\n  \\\"\\/>\\n<polyline clip-path=\\\"url(#clip5002)\\\" style=\\\"stroke:#000000; stroke-width:2; stroke-opacity:0.1; fill:none\\\" points=\\\"\\n  1627.44,1487.47 1627.44,47.2441 \\n  \\\"\\/>\\n<polyline clip-path=\\\"url(#clip5002)\\\" style=\\\"stroke:#000000; stroke-width:2; stroke-opacity:0.1; fill:none\\\" points=\\\"\\n  1987.5,1487.47 1987.5,47.2441 \\n  \\\"\\/>\\n<polyline clip-path=\\\"url(#clip5002)\\\" style=\\\"stroke:#000000; stroke-width:2; stroke-opacity:0.1; fill:none\\\" points=\\\"\\n  547.267,1487.47 1987.5,1487.47 \\n  \\\"\\/>\\n<polyline clip-path=\\\"url(#clip5002)\\\" style=\\\"stroke:#000000; stroke-width:2; stroke-opacity:0.1; fill:none\\\" points=\\\"\\n  547.267,1127.42 1987.5,1127.42 \\n  \\\"\\/>\\n<polyline clip-path=\\\"url(#clip5002)\\\" style=\\\"stroke:#000000; stroke-width:2; stroke-opacity:0.1; fill:none\\\" points=\\\"\\n  547.267,767.359 1987.5,767.359 \\n  \\\"\\/>\\n<polyline clip-path=\\\"url(#clip5002)\\\" style=\\\"stroke:#000000; stroke-width:2; stroke-opacity:0.1; fill:none\\\" points=\\\"\\n  547.267,407.302 1987.5,407.302 \\n  \\\"\\/>\\n<polyline clip-path=\\\"url(#clip5002)\\\" style=\\\"stroke:#000000; stroke-width:2; stroke-opacity:0.1; fill:none\\\" points=\\\"\\n  547.267,47.2441 1987.5,47.2441 \\n  \\\"\\/>\\n<polyline clip-path=\\\"url(#clip5000)\\\" style=\\\"stroke:#000000; stroke-width:4; stroke-opacity:1; fill:none\\\" points=\\\"\\n  547.267,1487.47 1987.5,1487.47 \\n  \\\"\\/>\\n<polyline clip-path=\\\"url(#clip5000)\\\" style=\\\"stroke:#000000; stroke-width:4; stroke-opacity:1; fill:none\\\" points=\\\"\\n  547.267,1487.47 547.267,47.2441 \\n  \\\"\\/>\\n<polyline clip-path=\\\"url(#clip5000)\\\" style=\\\"stroke:#000000; stroke-width:4; stroke-opacity:1; fill:none\\\" points=\\\"\\n  547.267,1487.47 547.267,1470.19 \\n  \\\"\\/>\\n<polyline clip-path=\\\"url(#clip5000)\\\" style=\\\"stroke:#000000; stroke-width:4; stroke-opacity:1; fill:none\\\" points=\\\"\\n  907.324,1487.47 907.324,1470.19 \\n  \\\"\\/>\\n<polyline clip-path=\\\"url(#clip5000)\\\" style=\\\"stroke:#000000; stroke-width:4; stroke-opacity:1; fill:none\\\" points=\\\"\\n  1267.38,1487.47 1267.38,1470.19 \\n  \\\"\\/>\\n<polyline clip-path=\\\"url(#clip5000)\\\" style=\\\"stroke:#000000; stroke-width:4; stroke-opacity:1; fill:none\\\" points=\\\"\\n  1627.44,1487.47 1627.44,1470.19 \\n  \\\"\\/>\\n<polyline clip-path=\\\"url(#clip5000)\\\" style=\\\"stroke:#000000; stroke-width:4; stroke-opacity:1; fill:none\\\" points=\\\"\\n  1987.5,1487.47 1987.5,1470.19 \\n  \\\"\\/>\\n<polyline clip-path=\\\"url(#clip5000)\\\" style=\\\"stroke:#000000; stroke-width:4; stroke-opacity:1; fill:none\\\" points=\\\"\\n  547.267,1487.47 564.549,1487.47 \\n  \\\"\\/>\\n<polyline clip-path=\\\"url(#clip5000)\\\" style=\\\"stroke:#000000; stroke-width:4; stroke-opacity:1; fill:none\\\" points=\\\"\\n  547.267,1127.42 564.549,1127.42 \\n  \\\"\\/>\\n<polyline clip-path=\\\"url(#clip5000)\\\" style=\\\"stroke:#000000; stroke-width:4; stroke-opacity:1; fill:none\\\" points=\\\"\\n  547.267,767.359 564.549,767.359 \\n  \\\"\\/>\\n<polyline clip-path=\\\"url(#clip5000)\\\" style=\\\"stroke:#000000; stroke-width:4; stroke-opacity:1; fill:none\\\" points=\\\"\\n  547.267,407.302 564.549,407.302 \\n  \\\"\\/>\\n<polyline clip-path=\\\"url(#clip5000)\\\" style=\\\"stroke:#000000; stroke-width:4; stroke-opacity:1; fill:none\\\" points=\\\"\\n  547.267,47.2441 564.549,47.2441 \\n  \\\"\\/>\\n<g clip-path=\\\"url(#clip5000)\\\">\\n<text style=\\\"fill:#000000; fill-opacity:1; font-family:Arial,Helvetica Neue,Helvetica,sans-serif; font-size:48px; text-anchor:middle;\\\" transform=\\\"rotate(0, 547.267, 1541.47)\\\" x=\\\"547.267\\\" y=\\\"1541.47\\\">-5.0<\\/text>\\n<\\/g>\\n<g clip-path=\\\"url(#clip5000)\\\">\\n<text style=\\\"fill:#000000; fill-opacity:1; font-family:Arial,Helvetica Neue,Helvetica,sans-serif; font-size:48px; text-anchor:middle;\\\" transform=\\\"rotate(0, 907.324, 1541.47)\\\" x=\\\"907.324\\\" y=\\\"1541.47\\\">-2.5<\\/text>\\n<\\/g>\\n<g clip-path=\\\"url(#clip5000)\\\">\\n<text style=\\\"fill:#000000; fill-opacity:1; font-family:Arial,Helvetica Neue,Helvetica,sans-serif; font-size:48px; text-anchor:middle;\\\" transform=\\\"rotate(0, 1267.38, 1541.47)\\\" x=\\\"1267.38\\\" y=\\\"1541.47\\\">0.0<\\/text>\\n<\\/g>\\n<g clip-path=\\\"url(#clip5000)\\\">\\n<text style=\\\"fill:#000000; fill-opacity:1; font-family:Arial,Helvetica Neue,Helvetica,sans-serif; font-size:48px; text-anchor:middle;\\\" transform=\\\"rotate(0, 1627.44, 1541.47)\\\" x=\\\"1627.44\\\" y=\\\"1541.47\\\">2.5<\\/text>\\n<\\/g>\\n<g clip-path=\\\"url(#clip5000)\\\">\\n<text style=\\\"fill:#000000; fill-opacity:1; font-family:Arial,Helvetica Neue,Helvetica,sans-serif; font-size:48px; text-anchor:middle;\\\" transform=\\\"rotate(0, 1987.5, 1541.47)\\\" x=\\\"1987.5\\\" y=\\\"1541.47\\\">5.0<\\/text>\\n<\\/g>\\n<g clip-path=\\\"url(#clip5000)\\\">\\n<text style=\\\"fill:#000000; fill-opacity:1; font-family:Arial,Helvetica Neue,Helvetica,sans-serif; font-size:48px; text-anchor:end;\\\" transform=\\\"rotate(0, 523.267, 1504.97)\\\" x=\\\"523.267\\\" y=\\\"1504.97\\\">-5.0<\\/text>\\n<\\/g>\\n<g clip-path=\\\"url(#clip5000)\\\">\\n<text style=\\\"fill:#000000; fill-opacity:1; font-family:Arial,Helvetica Neue,Helvetica,sans-serif; font-size:48px; text-anchor:end;\\\" transform=\\\"rotate(0, 523.267, 1144.92)\\\" x=\\\"523.267\\\" y=\\\"1144.92\\\">-2.5<\\/text>\\n<\\/g>\\n<g clip-path=\\\"url(#clip5000)\\\">\\n<text style=\\\"fill:#000000; fill-opacity:1; font-family:Arial,Helvetica Neue,Helvetica,sans-serif; font-size:48px; text-anchor:end;\\\" transform=\\\"rotate(0, 523.267, 784.859)\\\" x=\\\"523.267\\\" y=\\\"784.859\\\">0.0<\\/text>\\n<\\/g>\\n<g clip-path=\\\"url(#clip5000)\\\">\\n<text style=\\\"fill:#000000; fill-opacity:1; font-family:Arial,Helvetica Neue,Helvetica,sans-serif; font-size:48px; text-anchor:end;\\\" transform=\\\"rotate(0, 523.267, 424.802)\\\" x=\\\"523.267\\\" y=\\\"424.802\\\">2.5<\\/text>\\n<\\/g>\\n<g clip-path=\\\"url(#clip5000)\\\">\\n<text style=\\\"fill:#000000; fill-opacity:1; font-family:Arial,Helvetica Neue,Helvetica,sans-serif; font-size:48px; text-anchor:end;\\\" transform=\\\"rotate(0, 523.267, 64.7441)\\\" x=\\\"523.267\\\" y=\\\"64.7441\\\">5.0<\\/text>\\n<\\/g>\\n<polyline clip-path=\\\"url(#clip5002)\\\" style=\\\"stroke:#009af9; stroke-width:4; stroke-opacity:1; fill:none\\\" points=\\\"\\n  1987.5,767.359 1987.46,760.158 1987.35,752.958 1987.17,745.759 1986.92,738.562 1986.6,731.369 1986.2,724.178 1985.73,716.992 1985.19,709.812 1984.58,702.636 \\n  1983.9,695.468 1983.14,688.306 1982.32,681.153 1981.42,674.008 1980.45,666.872 1979.41,659.747 1978.3,652.632 1977.12,645.529 1975.86,638.437 1974.54,631.359 \\n  1973.14,624.295 1971.68,617.244 1970.14,610.209 1968.53,603.189 1966.86,596.186 1965.11,589.2 1963.29,582.232 1961.41,575.282 1959.45,568.351 1957.43,561.441 \\n  1955.33,554.551 1953.17,547.682 1950.94,540.835 1948.64,534.011 1946.27,527.21 1943.84,520.433 1941.34,513.681 1938.77,506.955 1936.13,500.254 1933.42,493.58 \\n  1930.65,486.933 1927.81,480.315 1924.91,473.725 1921.94,467.164 1918.91,460.634 1915.81,454.134 1912.64,447.666 1909.41,441.229 1906.12,434.825 1902.76,428.455 \\n  1899.34,422.118 1895.86,415.815 1892.31,409.548 1888.7,403.317 1885.03,397.122 1881.3,390.964 1877.5,384.844 1873.65,378.762 1869.73,372.719 1865.76,366.715 \\n  1861.72,360.752 1857.62,354.829 1853.47,348.947 1849.25,343.107 1844.98,337.31 1840.65,331.555 1836.27,325.845 1831.82,320.178 1827.32,314.556 1822.77,308.979 \\n  1818.16,303.448 1813.49,297.964 1808.77,292.526 1803.99,287.136 1799.16,281.794 1794.28,276.501 1789.35,271.257 1784.36,266.062 1779.32,260.917 1774.23,255.823 \\n  1769.09,250.78 1763.9,245.789 1758.66,240.85 1753.37,235.964 1748.03,231.13 1742.65,226.351 1737.21,221.625 1731.73,216.954 1726.2,212.339 1720.63,207.778 \\n  1715.01,203.274 1709.35,198.826 1703.64,194.434 1697.89,190.101 1692.1,185.824 1686.26,181.606 1680.38,177.447 1674.46,173.347 1668.5,169.306 1662.5,165.324 \\n  1656.46,161.403 1650.38,157.543 1644.27,153.743 1638.11,150.005 1631.92,146.329 1625.69,142.715 1619.43,139.163 1613.13,135.674 1606.79,132.248 1600.42,128.886 \\n  1594.02,125.587 1587.59,122.353 1581.12,119.183 1574.63,116.078 1568.1,113.039 1561.54,110.064 1554.95,107.155 1548.34,104.313 1541.69,101.536 1535.02,98.8267 \\n  1528.32,96.1838 1521.6,93.608 1514.85,91.0996 1508.07,88.6588 1501.27,86.2859 1494.45,83.9811 1487.61,81.7446 1480.74,79.5767 1473.85,77.4775 1466.94,75.4474 \\n  1460.01,73.4864 1453.06,71.5948 1446.1,69.7728 1439.11,68.0206 1432.11,66.3383 1425.09,64.7261 1418.06,63.1841 1411.01,61.7126 1403.95,60.3116 1396.87,58.9814 \\n  1389.78,57.722 1382.68,56.5335 1375.56,55.4161 1368.44,54.37 1361.3,53.3951 1354.16,52.4916 1347,51.6596 1339.84,50.8991 1332.68,50.2104 1325.5,49.5933 \\n  1318.32,49.048 1311.14,48.5745 1303.95,48.1729 1296.75,47.8433 1289.56,47.5856 1282.36,47.3998 1275.16,47.2861 1267.96,47.2443 1260.75,47.2746 1253.55,47.3769 \\n  1246.35,47.5511 1239.16,47.7974 1231.96,48.1156 1224.77,48.5058 1217.59,48.9678 1210.41,49.5016 1203.23,50.1073 1196.06,50.7846 1188.9,51.5337 1181.74,52.3543 \\n  1174.6,53.2464 1167.46,54.2099 1160.34,55.2447 1153.22,56.3508 1146.12,57.5279 1139.02,58.7761 1131.94,60.095 1124.88,61.4848 1117.83,62.9451 1110.79,64.4758 \\n  1103.77,66.0768 1096.77,67.748 1089.78,69.4891 1082.81,71.3 1075.86,73.1805 1068.93,75.1304 1062.01,77.1496 1055.12,79.2377 1048.25,81.3947 1041.4,83.6203 \\n  1034.58,85.9142 1027.77,88.2763 1020.99,90.7063 1014.24,93.204 1007.51,95.7691 1000.81,98.4013 994.133,101.1 987.484,103.866 980.863,106.698 974.271,109.596 \\n  967.708,112.56 961.175,115.59 954.673,118.684 948.202,121.844 941.763,125.068 935.356,128.356 928.983,131.708 922.644,135.124 916.339,138.603 910.069,142.145 \\n  903.835,145.749 897.637,149.416 891.476,153.144 885.353,156.934 879.268,160.784 873.221,164.696 867.215,168.667 861.248,172.699 855.322,176.79 849.437,180.94 \\n  843.593,185.149 837.792,189.416 832.035,193.74 826.32,198.122 820.65,202.562 815.025,207.057 809.444,211.608 803.91,216.216 798.422,220.878 792.98,225.595 \\n  787.586,230.366 782.241,235.19 776.943,240.068 771.695,244.999 766.496,249.982 761.348,255.017 756.249,260.102 751.203,265.239 746.207,270.426 741.264,275.662 \\n  736.373,280.948 731.536,286.282 726.752,291.665 722.022,297.095 717.347,302.572 712.727,308.095 708.162,313.665 703.653,319.279 699.2,324.939 694.805,330.643 \\n  690.466,336.39 686.185,342.181 681.963,348.014 677.799,353.889 673.694,359.806 669.648,365.763 665.662,371.76 661.736,377.797 657.871,383.873 654.066,389.987 \\n  650.323,396.139 646.642,402.328 643.023,408.554 639.466,414.815 635.972,421.112 632.541,427.443 629.174,433.808 625.87,440.207 622.631,446.638 619.456,453.102 \\n  616.346,459.597 613.301,466.122 610.321,472.678 607.407,479.263 604.559,485.877 601.778,492.519 599.063,499.189 596.414,505.886 593.833,512.608 591.319,519.356 \\n  588.873,526.129 586.495,532.926 584.185,539.747 581.943,546.59 579.769,553.455 577.665,560.342 575.629,567.249 573.663,574.177 571.765,581.124 569.938,588.089 \\n  568.18,595.072 566.492,602.073 564.874,609.09 563.327,616.123 561.85,623.171 560.443,630.233 559.107,637.309 557.842,644.398 556.648,651.5 555.525,658.613 \\n  554.473,665.737 553.493,672.871 552.583,680.014 551.746,687.167 550.98,694.327 550.285,701.494 549.662,708.668 549.111,715.848 548.632,723.034 548.225,730.223 \\n  547.889,737.417 547.626,744.613 547.435,751.811 547.315,759.012 547.268,766.213 547.292,773.414 547.389,780.614 547.557,787.813 547.798,795.01 548.11,802.205 \\n  548.495,809.396 548.951,816.582 549.479,823.764 550.079,830.94 550.751,838.11 551.494,845.272 552.309,852.427 553.195,859.574 554.153,866.711 555.182,873.838 \\n  556.283,880.955 557.454,888.06 558.697,895.153 560.01,902.233 561.394,909.3 562.849,916.353 564.374,923.39 565.969,930.413 567.635,937.418 569.37,944.407 \\n  571.176,951.378 573.051,958.331 574.995,965.265 577.009,972.179 579.091,979.072 581.243,985.944 583.463,992.795 585.752,999.622 588.108,1006.43 590.533,1013.21 \\n  593.025,1019.96 595.585,1026.69 598.212,1033.4 600.906,1040.08 603.666,1046.73 606.493,1053.35 609.386,1059.95 612.345,1066.51 615.369,1073.05 618.458,1079.55 \\n  621.613,1086.03 624.831,1092.47 628.115,1098.88 631.462,1105.25 634.872,1111.59 638.346,1117.9 641.883,1124.17 645.482,1130.41 649.144,1136.61 652.867,1142.78 \\n  656.652,1148.9 660.498,1154.99 664.405,1161.04 668.372,1167.05 672.398,1173.02 676.485,1178.95 680.63,1184.84 684.834,1190.68 689.096,1196.49 693.416,1202.25 \\n  697.794,1207.97 702.229,1213.64 706.72,1219.27 711.267,1224.85 715.869,1230.39 720.527,1235.88 725.24,1241.33 730.006,1246.73 734.827,1252.08 739.701,1257.38 \\n  744.627,1262.63 749.606,1267.83 754.636,1272.99 759.718,1278.09 764.851,1283.14 770.034,1288.14 775.266,1293.09 780.548,1297.98 785.878,1302.82 791.257,1307.61 \\n  796.683,1312.34 802.156,1317.02 807.676,1321.65 813.242,1326.22 818.853,1330.73 824.509,1335.19 830.21,1339.59 835.954,1343.93 841.741,1348.22 847.571,1352.44 \\n  853.442,1356.61 859.356,1360.72 865.31,1364.77 871.304,1368.76 877.337,1372.7 883.41,1376.57 889.521,1380.37 895.67,1384.12 901.856,1387.81 908.079,1391.43 \\n  914.338,1394.99 920.632,1398.49 926.96,1401.93 933.323,1405.3 939.719,1408.61 946.148,1411.85 952.608,1415.04 959.101,1418.15 965.624,1421.2 972.177,1424.19 \\n  978.76,1427.1 985.372,1429.96 992.012,1432.74 998.68,1435.47 1005.37,1438.12 1012.09,1440.71 1018.84,1443.22 1025.61,1445.68 1032.41,1448.06 1039.23,1450.38 \\n  1046.07,1452.62 1052.93,1454.8 1059.82,1456.91 1066.72,1458.95 1073.65,1460.92 1080.59,1462.83 1087.56,1464.66 1094.54,1466.42 1101.54,1468.12 1108.55,1469.74 \\n  1115.58,1471.29 1122.63,1472.78 1129.69,1474.19 1136.77,1475.53 1143.86,1476.8 1150.96,1478 1158.07,1479.13 1165.19,1480.19 1172.32,1481.17 1179.47,1482.09 \\n  1186.62,1482.93 1193.78,1483.7 1200.95,1484.4 1208.12,1485.03 1215.3,1485.59 1222.48,1486.07 1229.67,1486.49 1236.87,1486.83 1244.06,1487.1 1251.26,1487.29 \\n  1258.46,1487.42 1265.66,1487.47 1272.86,1487.45 1280.06,1487.36 1287.26,1487.2 1294.46,1486.97 1301.65,1486.66 1308.85,1486.28 1316.03,1485.83 1323.21,1485.31 \\n  1330.39,1484.71 1337.56,1484.05 1344.72,1483.31 1351.88,1482.5 1359.03,1481.62 1366.17,1480.67 1373.29,1479.64 1380.41,1478.55 1387.52,1477.38 1394.61,1476.15 \\n  1401.69,1474.84 1408.76,1473.46 1415.81,1472.01 1422.85,1470.49 1429.88,1468.9 1436.88,1467.24 1443.87,1465.51 1450.85,1463.71 1457.8,1461.84 1464.74,1459.9 \\n  1471.65,1457.9 1478.55,1455.82 1485.42,1453.67 1492.27,1451.46 1499.1,1449.17 1505.91,1446.82 1512.69,1444.4 1519.45,1441.92 1526.18,1439.36 1532.89,1436.74 \\n  1539.57,1434.05 1546.22,1431.3 1552.85,1428.48 1559.44,1425.59 1566.01,1422.63 1572.55,1419.62 1579.06,1416.53 1585.53,1413.38 1591.98,1410.17 1598.39,1406.89 \\n  1604.77,1403.55 1611.11,1400.14 1617.42,1396.67 1623.7,1393.14 1629.94,1389.55 1636.14,1385.89 1642.31,1382.17 1648.44,1378.39 1654.53,1374.55 1660.58,1370.65 \\n  1666.6,1366.69 1672.57,1362.67 1678.5,1358.58 1684.39,1354.44 1690.24,1350.24 1696.05,1345.99 1701.82,1341.67 1707.54,1337.3 1713.21,1332.87 1718.85,1328.38 \\n  1724.43,1323.84 1729.98,1319.24 1735.47,1314.59 1740.92,1309.88 1746.32,1305.12 1751.68,1300.3 1756.98,1295.43 1762.24,1290.51 1767.44,1285.53 1772.6,1280.51 \\n  1777.71,1275.43 1782.76,1270.3 1787.76,1265.12 1792.72,1259.89 1797.62,1254.62 1802.46,1249.29 1807.25,1243.91 1811.99,1238.49 1816.68,1233.02 1821.31,1227.51 \\n  1825.88,1221.94 1830.4,1216.34 1834.86,1210.68 1839.26,1204.99 1843.61,1199.25 1847.9,1193.46 1852.13,1187.64 1856.31,1181.77 1860.42,1175.86 1864.48,1169.91 \\n  1868.47,1163.92 1872.41,1157.89 1876.28,1151.82 1880.1,1145.71 1883.85,1139.56 1887.54,1133.38 1891.17,1127.16 1894.74,1120.9 1898.24,1114.61 1901.68,1108.29 \\n  1905.06,1101.93 1908.37,1095.53 1911.62,1089.11 1914.81,1082.65 1917.93,1076.16 1920.98,1069.64 1923.97,1063.09 1926.9,1056.51 1929.76,1049.9 1932.55,1043.26 \\n  1935.27,1036.59 1937.93,1029.9 1940.52,1023.18 1943.05,1016.44 1945.51,1009.67 1947.89,1002.88 1950.22,996.06 1952.47,989.22 1954.65,982.358 1956.77,975.475 \\n  1958.82,968.571 1960.79,961.647 1962.7,954.703 1964.54,947.74 1966.31,940.76 1968.01,933.762 1969.64,926.748 1971.2,919.717 1972.68,912.672 1974.1,905.611 \\n  1975.45,898.537 1976.72,891.45 1977.93,884.351 1979.06,877.24 1980.13,870.117 1981.12,862.985 1982.04,855.843 1982.89,848.692 1983.67,841.533 1984.37,834.367 \\n  1985.01,827.193 1985.57,820.014 1986.06,812.83 1986.48,805.641 1986.83,798.448 1987.1,791.252 1987.3,784.054 1987.43,776.854 1987.49,769.653 \\n  \\\"\\/>\\n<polyline clip-path=\\\"url(#clip5002)\\\" style=\\\"stroke:#e26f46; stroke-width:4; stroke-opacity:1; fill:none\\\" points=\\\"\\n  8180.49,767.359 8175.09,479.376 8158.89,191.766 8131.92,-95.0947 8094.21,-380.834 8045.79,-665.08 7986.72,-947.462 7917.08,-1227.61 7836.93,-1505.16 7746.38,-1779.75 \\n  7645.52,-2051.02 7534.47,-2318.6 7413.35,-2582.16 7282.32,-2841.33 7141.5,-3095.78 6991.08,-3345.17 6831.21,-3589.15 6662.08,-3827.41 6483.9,-4059.62 6296.85,-4285.46 \\n  6101.16,-4504.63 5897.05,-4716.83 5684.76,-4921.75 5464.53,-5119.12 5236.61,-5308.65 5001.28,-5490.07 4758.79,-5663.12 4509.44,-5827.54 4253.52,-5983.1 3991.31,-6129.55 \\n  3723.13,-6266.67 3449.29,-6394.25 3170.12,-6512.08 2885.92,-6619.96 2597.05,-6717.72 2303.84,-6805.17 2006.64,-6882.15 1705.79,-6948.52 1401.66,-7004.13 1094.6,-7048.86 \\n  784.987,-7082.58 473.183,-7105.19 159.564,-7116.61 -155.493,-7116.74 -471.609,-7105.52 -788.401,-7082.89 -1105.48,-7048.81 -1422.47,-7003.24 -1738.98,-6946.17 -2054.61,-6877.59 \\n  -2368.99,-6797.51 -2681.71,-6705.94 -2992.39,-6602.92 -3300.65,-6488.48 -3606.08,-6362.69 -3908.32,-6225.62 -4206.97,-6077.34 -4501.64,-5917.95 -4791.97,-5747.55 -5077.56,-5566.27 \\n  -5358.06,-5374.23 -5633.09,-5171.58 -5902.27,-4958.48 -6165.26,-4735.08 -6421.7,-4501.58 -6671.23,-4258.15 -6913.5,-4005.01 -7148.19,-3742.37 -7374.95,-3470.44 -7593.46,-3189.47 \\n  -7803.4,-2899.7 -8004.45,-2601.4 -8196.32,-2294.82 -8378.7,-1980.24 -8551.32,-1657.96 -8713.88,-1328.27 -8866.12,-991.466 -9007.78,-647.877 -9138.6,-297.823 -9258.35,58.3649 \\n  -9366.79,420.345 -9463.7,787.768 -9548.88,1160.28 -9622.12,1537.51 -9683.23,1919.1 -9732.04,2304.66 -9768.39,2693.82 -9792.11,3086.18 -9803.06,3481.35 -9801.13,3878.93 \\n  -9786.18,4278.51 -9758.12,4679.69 -9716.85,5082.06 -9662.3,5485.19 -9594.4,5888.66 -9513.09,6292.07 -9418.33,6694.97 -9310.1,7096.94 -9188.39,7497.55 -9053.18,7896.38 \\n  -8904.51,8292.99 -8742.39,8686.95 -8566.86,9077.84 -8377.97,9465.21 -8175.8,9848.64 -7960.42,10227.7 -7731.93,10602 -7490.43,10971 -7236.04,11334.4 -6968.91,11691.7 \\n  -6689.17,12042.6 -6396.98,12386.6 -6092.52,12723.2 -5775.98,13052.2 -5447.54,13373 -5107.44,13685.4 -4755.88,13988.9 -4393.1,14283.1 -4019.36,14567.6 -3634.92,14842.2 \\n  -3240.03,15106.4 -2835,15359.8 -2420.11,15602.2 -1995.68,15833.2 -1562.01,16052.4 -1119.44,16259.6 -668.303,16454.4 -208.949,16636.6 258.263,16805.8 732.967,16961.7 \\n  1214.79,17104.2 1703.33,17232.9 2198.21,17347.5 2699.03,17448 3205.36,17533.9 3716.79,17605.2 4232.91,17661.6 4753.26,17702.9 5277.43,17728.9 5804.95,17739.6 \\n  6335.38,17734.7 6868.27,17714 7403.15,17677.6 7939.56,17625.3 8477.02,17556.9 9015.07,17472.4 9553.22,17371.8 10091,17254.9 10627.9,17121.8 11163.5,16972.3 \\n  11697.3,16806.6 12228.7,16624.6 12757.4,16426.3 13282.7,16211.8 13804.3,15981.1 14321.6,15734.3 14834.2,15471.4 15341.5,15192.6 15843.1,14897.9 16338.5,14587.4 \\n  16827.2,14261.4 17308.7,13920 17782.7,13563.2 18248.5,13191.4 18705.7,12804.7 19154,12403.2 19592.8,11987.3 20021.6,11557.1 20440.1,11113 20847.8,10655.1 \\n  21244.2,10183.7 21629,9699.23 22001.8,9201.84 22362.1,8691.89 22709.5,8169.72 23043.7,7635.65 23364.3,7090.05 23670.8,6533.26 23963,5965.67 24240.5,5387.66 \\n  24503,4799.62 24750.1,4201.96 24981.5,3595.1 25196.9,2979.46 25396,2355.48 25578.6,1723.6 25744.4,1084.27 25893.1,437.968 26024.4,-214.85 26138.3,-873.703 \\n  26234.3,-1538.1 26312.4,-2207.56 26372.3,-2881.58 26413.9,-3559.64 26437.1,-4241.25 26441.6,-4925.89 26427.3,-5613.03 26394.2,-6302.14 26342.2,-6992.71 26271,-7684.19 \\n  26180.8,-8376.05 26071.4,-9067.75 25942.7,-9758.75 25794.9,-10448.5 25627.8,-11136.5 25441.4,-11822.1 25235.9,-12504.8 25011.2,-13184.2 24767.4,-13859.5 24504.6,-14530.3 \\n  24222.8,-15196.1 23922.2,-15856.3 23602.9,-16510.3 23264.9,-17157.6 22908.6,-17797.7 22533.9,-18430.1 22141.2,-19054.2 21730.6,-19669.5 21302.3,-20275.5 20856.6,-20871.7 \\n  20393.6,-21457.6 19913.7,-22032.7 19417.1,-22596.4 18904.1,-23148.3 18375.1,-23688 17830.2,-24214.9 17269.9,-24728.7 16694.4,-25228.7 16104.2,-25714.7 15499.6,-26186.1 \\n  14881,-26642.6 14248.8,-27083.8 13603.3,-27509.1 12945.1,-27918.3 12274.5,-28311 11591.9,-28686.8 10897.9,-29045.3 10192.8,-29386.2 9477.17,-29709.2 8751.47,-30013.9 \\n  8016.18,-30300.1 7271.81,-30567.4 6518.86,-30815.6 5757.85,-31044.5 4989.29,-31253.7 4213.73,-31443.1 3431.69,-31612.4 2643.73,-31761.4 1850.39,-31889.9 1052.22,-31997.8 \\n  249.802,-32084.9 -556.314,-32151.1 -1365.55,-32196.2 -2177.34,-32220.1 -2991.1,-32222.8 -3806.24,-32204.1 -4622.19,-32164.1 -5438.37,-32102.6 -6254.17,-32019.6 -7069.02,-31915.1 \\n  -7882.33,-31789.2 -8693.5,-31641.8 -9501.95,-31473 -10307.1,-31282.8 -11108.3,-31071.4 -11905.1,-30838.8 -12696.8,-30585 -13482.8,-30310.3 -14262.7,-30014.8 -15035.7,-29698.6 \\n  -15801.4,-29361.9 -16559.1,-29004.8 -17308.4,-28627.7 -18048.6,-28230.6 -18779.2,-27813.9 -19499.7,-27377.8 -20209.6,-26922.5 -20908.2,-26448.4 -21595.1,-25955.6 -22269.9,-25444.7 \\n  -22931.8,-24915.7 -23580.6,-24369.2 -24215.7,-23805.4 -24836.5,-23224.8 -25442.8,-22627.6 -26033.9,-22014.3 -26609.5,-21385.3 -27169.1,-20741 -27712.3,-20081.9 -28238.8,-19408.3 \\n  -28748,-18720.8 -29239.6,-18019.7 -29713.3,-17305.7 -30168.7,-16579.1 -30605.5,-15840.4 -31023.2,-15090.2 -31421.7,-14329 -31800.6,-13557.2 -32159.6,-12775.5 -32498.4,-11984.3 \\n  -32816.8,-11184.3 -33114.6,-10375.9 -33391.5,-9559.76 -33647.4,-8736.39 -33881.9,-7906.38 -34095,-7070.31 -34286.5,-6228.76 -34456.2,-5382.32 -34604,-4531.58 -34729.8,-3677.13 \\n  -34833.5,-2819.57 -34915.1,-1959.51 -34974.4,-1097.53 -35011.4,-234.249 -35026.1,629.733 -35018.5,1493.81 -34988.6,2357.38 -34936.4,3219.84 -34861.9,4080.58 -34765.3,4939 \\n  -34646.5,5794.5 -34505.6,6646.49 -34342.9,7494.36 -34158.3,8337.53 -33952.1,9175.41 -33724.4,10007.4 -33475.3,10833 -33205.1,11651.5 -32914,12462.4 -32602.1,13265.2 \\n  -32269.7,14059.2 -31917.1,14844 -31544.5,15619 -31152.3,16383.6 -30740.6,17137.4 -30309.9,17879.8 -29860.4,18610.3 -29392.5,19328.4 -28906.5,20033.6 -28402.9,20725.5 \\n  -27881.9,21403.6 -27343.9,22067.4 -26789.5,22716.4 -26219,23350.4 -25632.7,23968.7 -25031.2,24571 -24415,25157 -23784.4,25726.2 -23139.9,26278.3 -22482.1,26812.8 \\n  -21811.4,27329.6 -21128.3,27828.1 -20433.4,28308.2 -19727,28769.5 -19009.9,29211.8 -18282.4,29634.7 -17545.2,30038.1 -16798.7,30421.6 -16043.6,30785 -15280.4,31128.3 \\n  -14509.7,31451 -13731.9,31753.2 -12947.8,32034.5 -12157.8,32294.9 -11362.6,32534.3 -10562.8,32752.5 -9758.8,32949.5 -8951.34,33125.1 -8140.97,33279.3 -7328.28,33412.1 \\n  -6513.86,33523.4 -5698.29,33613.2 -4882.17,33681.5 -4066.09,33728.4 -3250.62,33753.9 -2436.36,33758 -1623.88,33740.8 -813.769,33702.5 -6.59669,33643 797.064,33562.5 \\n  1596.64,33461.2 2391.58,33339.3 3181.32,33196.7 3965.3,33033.9 4742.99,32850.9 5513.83,32648 6277.31,32425.4 7032.88,32183.3 7780.04,31922 8518.27,31641.8 \\n  9247.08,31342.9 9965.97,31025.7 10674.4,30690.5 11372.1,30337.6 12058.3,29967.3 12732.8,29579.9 13395,29176 14044.6,28755.7 14681.1,28319.6 15304.1,27867.9 \\n  15913.2,27401.2 16508,26919.8 17088.2,26424.2 17653.4,25914.7 18203.2,25392 18737.3,24856.3 19255.5,24308.2 19757.3,23748.2 20242.6,23176.7 20711,22594.2 \\n  21162.2,22001.2 21596.1,21398.3 22012.4,20785.9 22410.8,20164.5 22791.2,19534.7 23153.4,18897 23497.2,18251.9 23822.5,17600 24129.1,16941.7 24416.9,16277.7 \\n  24685.8,15608.4 24935.6,14934.5 25166.4,14256.3 25378.1,13574.6 25570.5,12889.9 25743.7,12202.6 25897.7,11513.3 26032.5,10822.7 26148,10131.1 26244.4,9439.27 \\n  26321.6,8747.61 26379.7,8056.7 26418.8,7367.06 26439.1,6679.23 26440.5,5993.75 26423.3,5311.12 26387.6,4631.87 26333.5,3956.5 26261.1,3285.54 26170.8,2619.47 \\n  26062.6,1958.8 25936.8,1304.01 25793.6,655.577 25633.3,13.9783 25456,-620.323 25262.1,-1246.87 25051.8,-1865.21 24825.5,-2474.92 24583.4,-3075.55 24325.8,-3666.7 \\n  24053,-4247.95 23765.5,-4818.9 23463.4,-5379.17 23147.3,-5928.38 22817.4,-6466.16 22474.2,-6992.16 22117.9,-7506.03 21749.1,-8007.46 21368.1,-8496.11 20975.3,-8971.69 \\n  20571.1,-9433.89 20156,-9882.46 19730.5,-10317.1 19294.8,-10737.6 18849.5,-11143.7 18395.1,-11535.1 17931.9,-11911.7 17460.5,-12273.3 16981.4,-12619.6 16494.9,-12950.6 \\n  16001.6,-13266 15501.9,-13565.7 14996.4,-13849.6 14485.4,-14117.6 13969.6,-14369.5 13449.3,-14605.4 12925.1,-14825 12397.4,-15028.5 11866.8,-15215.7 11333.8,-15386.6 \\n  10798.7,-15541.2 10262.1,-15679.5 9724.58,-15801.6 9186.5,-15907.4 8648.36,-15997 8110.66,-16070.5 7573.87,-16128 7038.45,-16169.4 6504.88,-16195.1 5973.61,-16205 \\n  5445.11,-16199.3 4919.83,-16178.1 4398.22,-16141.6 3880.7,-16090 3367.73,-16023.5 2859.73,-15942.2 2357.11,-15846.4 1860.3,-15736.2 1369.69,-15612 885.688,-15473.9 \\n  408.676,-15322.2 -60.9635,-15157.2 -522.86,-14979.1 -976.652,-14788.3 -1421.99,-14585 -1858.53,-14369.6 -2285.94,-14142.3 -2703.9,-13903.5 -3112.11,-13653.5 -3510.25,-13392.7 \\n  -3898.05,-13121.5 -4275.23,-12840 -4641.53,-12548.9 -4996.69,-12248.3 -5340.47,-11938.7 -5672.64,-11620.6 -5992.99,-11294.1 -6301.32,-10959.9 -6597.44,-10618.2 -6881.16,-10269.5 \\n  -7152.33,-9914.18 -7410.79,-9552.67 -7656.41,-9185.38 -7889.06,-8812.73 -8108.62,-8435.15 -8315.01,-8053.07 -8508.14,-7666.91 -8687.93,-7277.1 -8854.33,-6884.07 -9007.29,-6488.26 \\n  -9146.78,-6090.09 -9272.8,-5689.99 -9385.32,-5288.41 -9484.36,-4885.76 -9569.95,-4482.47 -9642.12,-4078.97 -9700.92,-3675.68 -9746.41,-3273.03 -9778.67,-2871.43 -9797.78,-2471.29 \\n  -9803.85,-2073.03 -9796.99,-1677.05 -9777.32,-1283.75 -9744.98,-893.53 -9700.12,-506.781 -9642.91,-123.886 -9573.51,254.775 -9492.12,628.83 -9398.92,997.913 -9294.13,1361.66 \\n  -9177.96,1719.73 -9050.63,2071.78 -8912.4,2417.46 -8763.5,2756.46 -8604.2,3088.45 -8434.76,3413.13 -8255.46,3730.19 -8066.58,4039.35 -7868.42,4340.32 -7661.27,4632.83 \\n  -7445.46,4916.63 -7221.29,5191.46 -6989.1,5457.09 -6749.2,5713.28 -6501.95,5959.83 -6247.67,6196.51 -5986.73,6423.15 -5719.48,6639.55 -5446.28,6845.55 -5167.48,7040.98 \\n  -4883.47,7225.7 -4594.61,7399.58 -4301.28,7562.49 -4003.85,7714.32 -3702.72,7854.97 -3398.26,7984.36 -3090.86,8102.42 -2780.91,8209.09 -2468.8,8304.31 -2154.91,8388.05 \\n  -1839.63,8460.3 -1523.36,8521.03 -1206.48,8570.26 -889.388,8607.99 -572.462,8634.27 -256.089,8649.12 59.347,8652.59 373.465,8644.77 685.888,8625.71 996.241,8595.52 \\n  1304.15,8554.29 1609.25,8502.13 1911.19,8439.17 2209.59,8365.55 2504.11,8281.42 2794.4,8186.93 3080.12,8082.25 3360.93,7967.57 3636.51,7843.07 3906.52,7708.97 \\n  4170.66,7565.46 4428.62,7412.78 4680.1,7251.16 4924.8,7080.83 5162.44,6902.05 5392.75,6715.07 5615.46,6520.17 5830.3,6317.63 6037.05,6107.72 6235.44,5890.73 \\n  6425.27,5666.98 6606.3,5436.77 6778.33,5200.4 6941.17,4958.2 7094.62,4710.5 7238.52,4457.63 7372.68,4199.92 7496.97,3937.73 7611.24,3671.39 7715.36,3401.25 \\n  7809.21,3127.69 7892.68,2851.04 7965.68,2571.68 8028.13,2289.97 8079.94,2006.27 8121.07,1720.97 8151.47,1434.43 8171.1,1147.01 8179.94,859.109 \\n  \\\"\\/>\\n<circle clip-path=\\\"url(#clip5002)\\\" style=\\\"fill:#000000; stroke:none; fill-opacity:1\\\" cx=\\\"1267.38\\\" cy=\\\"767.359\\\" r=\\\"18\\\"\\/>\\n<circle clip-path=\\\"url(#clip5002)\\\" style=\\\"fill:#3da44d; stroke:none; fill-opacity:1\\\" cx=\\\"1267.38\\\" cy=\\\"767.359\\\" r=\\\"14\\\"\\/>\\n<\\/svg>\\n\"},\"nodeType\":\"DOM\",\"type\":\"node\",\"instanceArgs\":{\"namespace\":\"html\",\"tag\":\"div\"},\"children\":[]}]}}}},\"children\":[{\"props\":{},\"nodeType\":\"ObservableNode\",\"type\":\"node\",\"instanceArgs\":{\"id\":\"ob_43\",\"name\":\"obs-node\"},\"children\":[]}]}]},\n",
       "            window,\n",
       "        );\n",
       "    } else {\n",
       "        document\n",
       "            .querySelector('[data-webio-mountpoint=\"14357218238283856795\"]')\n",
       "            .innerHTML = (\n",
       "                '<div style=\"padding: 1em; background-color: #f8d6da; border: 1px solid #f5c6cb\">' +\n",
       "                '<p><strong>WebIO not detected.</strong></p>' +\n",
       "                '<p>Please read ' +\n",
       "                '<a href=\"https://juliagizmos.github.io/WebIO.jl/latest/troubleshooting/not-detected/\" target=\"_blank\">the troubleshooting guide</a> ' +\n",
       "                'for more information on how to resolve this issue.</p>' +\n",
       "                '<p><a href=\"https://juliagizmos.github.io/WebIO.jl/latest/troubleshooting/not-detected/\" target=\"_blank\">https://juliagizmos.github.io/WebIO.jl/latest/troubleshooting/not-detected/</a></p>' +\n",
       "                '</div>'\n",
       "            );\n",
       "    }\n",
       "    </script>\n",
       "</div>\n"
      ],
      "text/plain": [
       "Node{WebIO.DOM}(WebIO.DOM(:html, :div), Any[Node{WebIO.DOM}(WebIO.DOM(:html, :div), Any[Scope(Node{WebIO.DOM}(WebIO.DOM(:html, :div), Any[Node{WebIO.DOM}(WebIO.DOM(:html, :div), Any[Node{WebIO.DOM}(WebIO.DOM(:html, :label), Any[\"r\"], Dict{Symbol,Any}(:className => \"interact \",:style => Dict{Any,Any}(:padding => \"5px 10px 0px 10px\")))], Dict{Symbol,Any}(:className => \"interact-flex-row-left\")), Node{WebIO.DOM}(WebIO.DOM(:html, :div), Any[Node{WebIO.DOM}(WebIO.DOM(:html, :input), Any[], Dict{Symbol,Any}(:max => 1000,:min => 1,:attributes => Dict{Any,Any}(:type => \"range\",Symbol(\"data-bind\") => \"numericValue: index, valueUpdate: 'input', event: {change: function (){this.changes(this.changes()+1)}}\",\"orient\" => \"horizontal\"),:step => 1,:className => \"slider slider is-fullwidth\",:style => Dict{Any,Any}()))], Dict{Symbol,Any}(:className => \"interact-flex-row-center\")), Node{WebIO.DOM}(WebIO.DOM(:html, :div), Any[Node{WebIO.DOM}(WebIO.DOM(:html, :p), Any[], Dict{Symbol,Any}(:attributes => Dict(\"data-bind\" => \"text: formatted_val\")))], Dict{Symbol,Any}(:className => \"interact-flex-row-right\"))], Dict{Symbol,Any}(:className => \"interact-flex-row interact-widget\")), Dict{String,Tuple{Observables.AbstractObservable,Union{Nothing, Bool}}}(\"changes\" => (Observable{Int64} with 1 listeners. Value:\n",
       "0, nothing),\"index\" => (Observable{Any} with 2 listeners. Value:\n",
       "500, nothing)), Set(String[]), nothing, Asset[Asset(\"js\", \"knockout\", \"/Users/dpsanders/.julia/packages/Knockout/1sDlc/src/../assets/knockout.js\"), Asset(\"js\", \"knockout_punches\", \"/Users/dpsanders/.julia/packages/Knockout/1sDlc/src/../assets/knockout_punches.js\"), Asset(\"js\", nothing, \"/Users/dpsanders/.julia/packages/InteractBase/9mFwe/src/../assets/all.js\"), Asset(\"css\", nothing, \"/Users/dpsanders/.julia/packages/InteractBase/9mFwe/src/../assets/style.css\"), Asset(\"css\", nothing, \"/Users/dpsanders/.julia/packages/Interact/SbgIk/src/../assets/bulma_confined.min.css\")], Dict{Any,Any}(\"changes\" => Any[WebIO.JSString(\"(function (val){return (val!=this.model[\\\"changes\\\"]()) ? (this.valueFromJulia[\\\"changes\\\"]=true, this.model[\\\"changes\\\"](val)) : undefined})\")],\"index\" => Any[WebIO.JSString(\"(function (val){return (val!=this.model[\\\"index\\\"]()) ? (this.valueFromJulia[\\\"index\\\"]=true, this.model[\\\"index\\\"](val)) : undefined})\")]), WebIO.ConnectionPool(Channel{Any}(sz_max:32,sz_curr:0), Set(AbstractConnection[]), Base.GenericCondition{Base.AlwaysLockedST}(Base.InvasiveLinkedList{Task}(Task (runnable) @0x0000000110175210, Task (runnable) @0x0000000110175210), Base.AlwaysLockedST(1))), WebIO.JSString[WebIO.JSString(\"function () {\\n    var handler = (function (ko, koPunches) {\\n    ko.punches.enableAll();\\n    ko.bindingHandlers.numericValue = {\\n        init: function(element, valueAccessor, allBindings, data, context) {\\n            var stringified = ko.observable(ko.unwrap(valueAccessor()));\\n            stringified.subscribe(function(value) {\\n                var val = parseFloat(value);\\n                if (!isNaN(val)) {\\n                    valueAccessor()(val);\\n                }\\n            });\\n            valueAccessor().subscribe(function(value) {\\n                var str = JSON.stringify(value);\\n                if ((str == \\\"0\\\") && ([\\\"-0\\\", \\\"-0.\\\"].indexOf(stringified()) >= 0))\\n                     return;\\n                 if ([\\\"null\\\", \\\"\\\"].indexOf(str) >= 0)\\n                     return;\\n                stringified(str);\\n            });\\n            ko.applyBindingsToNode(\\n                element,\\n                {\\n                    value: stringified,\\n                    valueUpdate: allBindings.get('valueUpdate'),\\n                },\\n                context,\\n            );\\n        }\\n    };\\n    var json_data = {\\\"formatted_vals\\\":[\\\"0.01\\\",\\\"0.02\\\",\\\"0.03\\\",\\\"0.04\\\",\\\"0.05\\\",\\\"0.06\\\",\\\"0.07\\\",\\\"0.08\\\",\\\"0.09\\\",\\\"0.1\\\",\\\"0.11\\\",\\\"0.12\\\",\\\"0.13\\\",\\\"0.14\\\",\\\"0.15\\\",\\\"0.16\\\",\\\"0.17\\\",\\\"0.18\\\",\\\"0.19\\\",\\\"0.2\\\",\\\"0.21\\\",\\\"0.22\\\",\\\"0.23\\\",\\\"0.24\\\",\\\"0.25\\\",\\\"0.26\\\",\\\"0.27\\\",\\\"0.28\\\",\\\"0.29\\\",\\\"0.3\\\",\\\"0.31\\\",\\\"0.32\\\",\\\"0.33\\\",\\\"0.34\\\",\\\"0.35\\\",\\\"0.36\\\",\\\"0.37\\\",\\\"0.38\\\",\\\"0.39\\\",\\\"0.4\\\",\\\"0.41\\\",\\\"0.42\\\",\\\"0.43\\\",\\\"0.44\\\",\\\"0.45\\\",\\\"0.46\\\",\\\"0.47\\\",\\\"0.48\\\",\\\"0.49\\\",\\\"0.5\\\",\\\"0.51\\\",\\\"0.52\\\",\\\"0.53\\\",\\\"0.54\\\",\\\"0.55\\\",\\\"0.56\\\",\\\"0.57\\\",\\\"0.58\\\",\\\"0.59\\\",\\\"0.6\\\",\\\"0.61\\\",\\\"0.62\\\",\\\"0.63\\\",\\\"0.64\\\",\\\"0.65\\\",\\\"0.66\\\",\\\"0.67\\\",\\\"0.68\\\",\\\"0.69\\\",\\\"0.7\\\",\\\"0.71\\\",\\\"0.72\\\",\\\"0.73\\\",\\\"0.74\\\",\\\"0.75\\\",\\\"0.76\\\",\\\"0.77\\\",\\\"0.78\\\",\\\"0.79\\\",\\\"0.8\\\",\\\"0.81\\\",\\\"0.82\\\",\\\"0.83\\\",\\\"0.84\\\",\\\"0.85\\\",\\\"0.86\\\",\\\"0.87\\\",\\\"0.88\\\",\\\"0.89\\\",\\\"0.9\\\",\\\"0.91\\\",\\\"0.92\\\",\\\"0.93\\\",\\\"0.94\\\",\\\"0.95\\\",\\\"0.96\\\",\\\"0.97\\\",\\\"0.98\\\",\\\"0.99\\\",\\\"1.0\\\",\\\"1.01\\\",\\\"1.02\\\",\\\"1.03\\\",\\\"1.04\\\",\\\"1.05\\\",\\\"1.06\\\",\\\"1.07\\\",\\\"1.08\\\",\\\"1.09\\\",\\\"1.1\\\",\\\"1.11\\\",\\\"1.12\\\",\\\"1.13\\\",\\\"1.14\\\",\\\"1.15\\\",\\\"1.16\\\",\\\"1.17\\\",\\\"1.18\\\",\\\"1.19\\\",\\\"1.2\\\",\\\"1.21\\\",\\\"1.22\\\",\\\"1.23\\\",\\\"1.24\\\",\\\"1.25\\\",\\\"1.26\\\",\\\"1.27\\\",\\\"1.28\\\",\\\"1.29\\\",\\\"1.3\\\",\\\"1.31\\\",\\\"1.32\\\",\\\"1.33\\\",\\\"1.34\\\",\\\"1.35\\\",\\\"1.36\\\",\\\"1.37\\\",\\\"1.38\\\",\\\"1.39\\\",\\\"1.4\\\",\\\"1.41\\\",\\\"1.42\\\",\\\"1.43\\\",\\\"1.44\\\",\\\"1.45\\\",\\\"1.46\\\",\\\"1.47\\\",\\\"1.48\\\",\\\"1.49\\\",\\\"1.5\\\",\\\"1.51\\\",\\\"1.52\\\",\\\"1.53\\\",\\\"1.54\\\",\\\"1.55\\\",\\\"1.56\\\",\\\"1.57\\\",\\\"1.58\\\",\\\"1.59\\\",\\\"1.6\\\",\\\"1.61\\\",\\\"1.62\\\",\\\"1.63\\\",\\\"1.64\\\",\\\"1.65\\\",\\\"1.66\\\",\\\"1.67\\\",\\\"1.68\\\",\\\"1.69\\\",\\\"1.7\\\",\\\"1.71\\\",\\\"1.72\\\",\\\"1.73\\\",\\\"1.74\\\",\\\"1.75\\\",\\\"1.76\\\",\\\"1.77\\\",\\\"1.78\\\",\\\"1.79\\\",\\\"1.8\\\",\\\"1.81\\\",\\\"1.82\\\",\\\"1.83\\\",\\\"1.84\\\",\\\"1.85\\\",\\\"1.86\\\",\\\"1.87\\\",\\\"1.88\\\",\\\"1.89\\\",\\\"1.9\\\",\\\"1.91\\\",\\\"1.92\\\",\\\"1.93\\\",\\\"1.94\\\",\\\"1.95\\\",\\\"1.96\\\",\\\"1.97\\\",\\\"1.98\\\",\\\"1.99\\\",\\\"2.0\\\",\\\"2.01\\\",\\\"2.02\\\",\\\"2.03\\\",\\\"2.04\\\",\\\"2.05\\\",\\\"2.06\\\",\\\"2.07\\\",\\\"2.08\\\",\\\"2.09\\\",\\\"2.1\\\",\\\"2.11\\\",\\\"2.12\\\",\\\"2.13\\\",\\\"2.14\\\",\\\"2.15\\\",\\\"2.16\\\",\\\"2.17\\\",\\\"2.18\\\",\\\"2.19\\\",\\\"2.2\\\",\\\"2.21\\\",\\\"2.22\\\",\\\"2.23\\\",\\\"2.24\\\",\\\"2.25\\\",\\\"2.26\\\",\\\"2.27\\\",\\\"2.28\\\",\\\"2.29\\\",\\\"2.3\\\",\\\"2.31\\\",\\\"2.32\\\",\\\"2.33\\\",\\\"2.34\\\",\\\"2.35\\\",\\\"2.36\\\",\\\"2.37\\\",\\\"2.38\\\",\\\"2.39\\\",\\\"2.4\\\",\\\"2.41\\\",\\\"2.42\\\",\\\"2.43\\\",\\\"2.44\\\",\\\"2.45\\\",\\\"2.46\\\",\\\"2.47\\\",\\\"2.48\\\",\\\"2.49\\\",\\\"2.5\\\",\\\"2.51\\\",\\\"2.52\\\",\\\"2.53\\\",\\\"2.54\\\",\\\"2.55\\\",\\\"2.56\\\",\\\"2.57\\\",\\\"2.58\\\",\\\"2.59\\\",\\\"2.6\\\",\\\"2.61\\\",\\\"2.62\\\",\\\"2.63\\\",\\\"2.64\\\",\\\"2.65\\\",\\\"2.66\\\",\\\"2.67\\\",\\\"2.68\\\",\\\"2.69\\\",\\\"2.7\\\",\\\"2.71\\\",\\\"2.72\\\",\\\"2.73\\\",\\\"2.74\\\",\\\"2.75\\\",\\\"2.76\\\",\\\"2.77\\\",\\\"2.78\\\",\\\"2.79\\\",\\\"2.8\\\",\\\"2.81\\\",\\\"2.82\\\",\\\"2.83\\\",\\\"2.84\\\",\\\"2.85\\\",\\\"2.86\\\",\\\"2.87\\\",\\\"2.88\\\",\\\"2.89\\\",\\\"2.9\\\",\\\"2.91\\\",\\\"2.92\\\",\\\"2.93\\\",\\\"2.94\\\",\\\"2.95\\\",\\\"2.96\\\",\\\"2.97\\\",\\\"2.98\\\",\\\"2.99\\\",\\\"3.0\\\",\\\"3.01\\\",\\\"3.02\\\",\\\"3.03\\\",\\\"3.04\\\",\\\"3.05\\\",\\\"3.06\\\",\\\"3.07\\\",\\\"3.08\\\",\\\"3.09\\\",\\\"3.1\\\",\\\"3.11\\\",\\\"3.12\\\",\\\"3.13\\\",\\\"3.14\\\",\\\"3.15\\\",\\\"3.16\\\",\\\"3.17\\\",\\\"3.18\\\",\\\"3.19\\\",\\\"3.2\\\",\\\"3.21\\\",\\\"3.22\\\",\\\"3.23\\\",\\\"3.24\\\",\\\"3.25\\\",\\\"3.26\\\",\\\"3.27\\\",\\\"3.28\\\",\\\"3.29\\\",\\\"3.3\\\",\\\"3.31\\\",\\\"3.32\\\",\\\"3.33\\\",\\\"3.34\\\",\\\"3.35\\\",\\\"3.36\\\",\\\"3.37\\\",\\\"3.38\\\",\\\"3.39\\\",\\\"3.4\\\",\\\"3.41\\\",\\\"3.42\\\",\\\"3.43\\\",\\\"3.44\\\",\\\"3.45\\\",\\\"3.46\\\",\\\"3.47\\\",\\\"3.48\\\",\\\"3.49\\\",\\\"3.5\\\",\\\"3.51\\\",\\\"3.52\\\",\\\"3.53\\\",\\\"3.54\\\",\\\"3.55\\\",\\\"3.56\\\",\\\"3.57\\\",\\\"3.58\\\",\\\"3.59\\\",\\\"3.6\\\",\\\"3.61\\\",\\\"3.62\\\",\\\"3.63\\\",\\\"3.64\\\",\\\"3.65\\\",\\\"3.66\\\",\\\"3.67\\\",\\\"3.68\\\",\\\"3.69\\\",\\\"3.7\\\",\\\"3.71\\\",\\\"3.72\\\",\\\"3.73\\\",\\\"3.74\\\",\\\"3.75\\\",\\\"3.76\\\",\\\"3.77\\\",\\\"3.78\\\",\\\"3.79\\\",\\\"3.8\\\",\\\"3.81\\\",\\\"3.82\\\",\\\"3.83\\\",\\\"3.84\\\",\\\"3.85\\\",\\\"3.86\\\",\\\"3.87\\\",\\\"3.88\\\",\\\"3.89\\\",\\\"3.9\\\",\\\"3.91\\\",\\\"3.92\\\",\\\"3.93\\\",\\\"3.94\\\",\\\"3.95\\\",\\\"3.96\\\",\\\"3.97\\\",\\\"3.98\\\",\\\"3.99\\\",\\\"4.0\\\",\\\"4.01\\\",\\\"4.02\\\",\\\"4.03\\\",\\\"4.04\\\",\\\"4.05\\\",\\\"4.06\\\",\\\"4.07\\\",\\\"4.08\\\",\\\"4.09\\\",\\\"4.1\\\",\\\"4.11\\\",\\\"4.12\\\",\\\"4.13\\\",\\\"4.14\\\",\\\"4.15\\\",\\\"4.16\\\",\\\"4.17\\\",\\\"4.18\\\",\\\"4.19\\\",\\\"4.2\\\",\\\"4.21\\\",\\\"4.22\\\",\\\"4.23\\\",\\\"4.24\\\",\\\"4.25\\\",\\\"4.26\\\",\\\"4.27\\\",\\\"4.28\\\",\\\"4.29\\\",\\\"4.3\\\",\\\"4.31\\\",\\\"4.32\\\",\\\"4.33\\\",\\\"4.34\\\",\\\"4.35\\\",\\\"4.36\\\",\\\"4.37\\\",\\\"4.38\\\",\\\"4.39\\\",\\\"4.4\\\",\\\"4.41\\\",\\\"4.42\\\",\\\"4.43\\\",\\\"4.44\\\",\\\"4.45\\\",\\\"4.46\\\",\\\"4.47\\\",\\\"4.48\\\",\\\"4.49\\\",\\\"4.5\\\",\\\"4.51\\\",\\\"4.52\\\",\\\"4.53\\\",\\\"4.54\\\",\\\"4.55\\\",\\\"4.56\\\",\\\"4.57\\\",\\\"4.58\\\",\\\"4.59\\\",\\\"4.6\\\",\\\"4.61\\\",\\\"4.62\\\",\\\"4.63\\\",\\\"4.64\\\",\\\"4.65\\\",\\\"4.66\\\",\\\"4.67\\\",\\\"4.68\\\",\\\"4.69\\\",\\\"4.7\\\",\\\"4.71\\\",\\\"4.72\\\",\\\"4.73\\\",\\\"4.74\\\",\\\"4.75\\\",\\\"4.76\\\",\\\"4.77\\\",\\\"4.78\\\",\\\"4.79\\\",\\\"4.8\\\",\\\"4.81\\\",\\\"4.82\\\",\\\"4.83\\\",\\\"4.84\\\",\\\"4.85\\\",\\\"4.86\\\",\\\"4.87\\\",\\\"4.88\\\",\\\"4.89\\\",\\\"4.9\\\",\\\"4.91\\\",\\\"4.92\\\",\\\"4.93\\\",\\\"4.94\\\",\\\"4.95\\\",\\\"4.96\\\",\\\"4.97\\\",\\\"4.98\\\",\\\"4.99\\\",\\\"5.0\\\",\\\"5.01\\\",\\\"5.02\\\",\\\"5.03\\\",\\\"5.04\\\",\\\"5.05\\\",\\\"5.06\\\",\\\"5.07\\\",\\\"5.08\\\",\\\"5.09\\\",\\\"5.1\\\",\\\"5.11\\\",\\\"5.12\\\",\\\"5.13\\\",\\\"5.14\\\",\\\"5.15\\\",\\\"5.16\\\",\\\"5.17\\\",\\\"5.18\\\",\\\"5.19\\\",\\\"5.2\\\",\\\"5.21\\\",\\\"5.22\\\",\\\"5.23\\\",\\\"5.24\\\",\\\"5.25\\\",\\\"5.26\\\",\\\"5.27\\\",\\\"5.28\\\",\\\"5.29\\\",\\\"5.3\\\",\\\"5.31\\\",\\\"5.32\\\",\\\"5.33\\\",\\\"5.34\\\",\\\"5.35\\\",\\\"5.36\\\",\\\"5.37\\\",\\\"5.38\\\",\\\"5.39\\\",\\\"5.4\\\",\\\"5.41\\\",\\\"5.42\\\",\\\"5.43\\\",\\\"5.44\\\",\\\"5.45\\\",\\\"5.46\\\",\\\"5.47\\\",\\\"5.48\\\",\\\"5.49\\\",\\\"5.5\\\",\\\"5.51\\\",\\\"5.52\\\",\\\"5.53\\\",\\\"5.54\\\",\\\"5.55\\\",\\\"5.56\\\",\\\"5.57\\\",\\\"5.58\\\",\\\"5.59\\\",\\\"5.6\\\",\\\"5.61\\\",\\\"5.62\\\",\\\"5.63\\\",\\\"5.64\\\",\\\"5.65\\\",\\\"5.66\\\",\\\"5.67\\\",\\\"5.68\\\",\\\"5.69\\\",\\\"5.7\\\",\\\"5.71\\\",\\\"5.72\\\",\\\"5.73\\\",\\\"5.74\\\",\\\"5.75\\\",\\\"5.76\\\",\\\"5.77\\\",\\\"5.78\\\",\\\"5.79\\\",\\\"5.8\\\",\\\"5.81\\\",\\\"5.82\\\",\\\"5.83\\\",\\\"5.84\\\",\\\"5.85\\\",\\\"5.86\\\",\\\"5.87\\\",\\\"5.88\\\",\\\"5.89\\\",\\\"5.9\\\",\\\"5.91\\\",\\\"5.92\\\",\\\"5.93\\\",\\\"5.94\\\",\\\"5.95\\\",\\\"5.96\\\",\\\"5.97\\\",\\\"5.98\\\",\\\"5.99\\\",\\\"6.0\\\",\\\"6.01\\\",\\\"6.02\\\",\\\"6.03\\\",\\\"6.04\\\",\\\"6.05\\\",\\\"6.06\\\",\\\"6.07\\\",\\\"6.08\\\",\\\"6.09\\\",\\\"6.1\\\",\\\"6.11\\\",\\\"6.12\\\",\\\"6.13\\\",\\\"6.14\\\",\\\"6.15\\\",\\\"6.16\\\",\\\"6.17\\\",\\\"6.18\\\",\\\"6.19\\\",\\\"6.2\\\",\\\"6.21\\\",\\\"6.22\\\",\\\"6.23\\\",\\\"6.24\\\",\\\"6.25\\\",\\\"6.26\\\",\\\"6.27\\\",\\\"6.28\\\",\\\"6.29\\\",\\\"6.3\\\",\\\"6.31\\\",\\\"6.32\\\",\\\"6.33\\\",\\\"6.34\\\",\\\"6.35\\\",\\\"6.36\\\",\\\"6.37\\\",\\\"6.38\\\",\\\"6.39\\\",\\\"6.4\\\",\\\"6.41\\\",\\\"6.42\\\",\\\"6.43\\\",\\\"6.44\\\",\\\"6.45\\\",\\\"6.46\\\",\\\"6.47\\\",\\\"6.48\\\",\\\"6.49\\\",\\\"6.5\\\",\\\"6.51\\\",\\\"6.52\\\",\\\"6.53\\\",\\\"6.54\\\",\\\"6.55\\\",\\\"6.56\\\",\\\"6.57\\\",\\\"6.58\\\",\\\"6.59\\\",\\\"6.6\\\",\\\"6.61\\\",\\\"6.62\\\",\\\"6.63\\\",\\\"6.64\\\",\\\"6.65\\\",\\\"6.66\\\",\\\"6.67\\\",\\\"6.68\\\",\\\"6.69\\\",\\\"6.7\\\",\\\"6.71\\\",\\\"6.72\\\",\\\"6.73\\\",\\\"6.74\\\",\\\"6.75\\\",\\\"6.76\\\",\\\"6.77\\\",\\\"6.78\\\",\\\"6.79\\\",\\\"6.8\\\",\\\"6.81\\\",\\\"6.82\\\",\\\"6.83\\\",\\\"6.84\\\",\\\"6.85\\\",\\\"6.86\\\",\\\"6.87\\\",\\\"6.88\\\",\\\"6.89\\\",\\\"6.9\\\",\\\"6.91\\\",\\\"6.92\\\",\\\"6.93\\\",\\\"6.94\\\",\\\"6.95\\\",\\\"6.96\\\",\\\"6.97\\\",\\\"6.98\\\",\\\"6.99\\\",\\\"7.0\\\",\\\"7.01\\\",\\\"7.02\\\",\\\"7.03\\\",\\\"7.04\\\",\\\"7.05\\\",\\\"7.06\\\",\\\"7.07\\\",\\\"7.08\\\",\\\"7.09\\\",\\\"7.1\\\",\\\"7.11\\\",\\\"7.12\\\",\\\"7.13\\\",\\\"7.14\\\",\\\"7.15\\\",\\\"7.16\\\",\\\"7.17\\\",\\\"7.18\\\",\\\"7.19\\\",\\\"7.2\\\",\\\"7.21\\\",\\\"7.22\\\",\\\"7.23\\\",\\\"7.24\\\",\\\"7.25\\\",\\\"7.26\\\",\\\"7.27\\\",\\\"7.28\\\",\\\"7.29\\\",\\\"7.3\\\",\\\"7.31\\\",\\\"7.32\\\",\\\"7.33\\\",\\\"7.34\\\",\\\"7.35\\\",\\\"7.36\\\",\\\"7.37\\\",\\\"7.38\\\",\\\"7.39\\\",\\\"7.4\\\",\\\"7.41\\\",\\\"7.42\\\",\\\"7.43\\\",\\\"7.44\\\",\\\"7.45\\\",\\\"7.46\\\",\\\"7.47\\\",\\\"7.48\\\",\\\"7.49\\\",\\\"7.5\\\",\\\"7.51\\\",\\\"7.52\\\",\\\"7.53\\\",\\\"7.54\\\",\\\"7.55\\\",\\\"7.56\\\",\\\"7.57\\\",\\\"7.58\\\",\\\"7.59\\\",\\\"7.6\\\",\\\"7.61\\\",\\\"7.62\\\",\\\"7.63\\\",\\\"7.64\\\",\\\"7.65\\\",\\\"7.66\\\",\\\"7.67\\\",\\\"7.68\\\",\\\"7.69\\\",\\\"7.7\\\",\\\"7.71\\\",\\\"7.72\\\",\\\"7.73\\\",\\\"7.74\\\",\\\"7.75\\\",\\\"7.76\\\",\\\"7.77\\\",\\\"7.78\\\",\\\"7.79\\\",\\\"7.8\\\",\\\"7.81\\\",\\\"7.82\\\",\\\"7.83\\\",\\\"7.84\\\",\\\"7.85\\\",\\\"7.86\\\",\\\"7.87\\\",\\\"7.88\\\",\\\"7.89\\\",\\\"7.9\\\",\\\"7.91\\\",\\\"7.92\\\",\\\"7.93\\\",\\\"7.94\\\",\\\"7.95\\\",\\\"7.96\\\",\\\"7.97\\\",\\\"7.98\\\",\\\"7.99\\\",\\\"8.0\\\",\\\"8.01\\\",\\\"8.02\\\",\\\"8.03\\\",\\\"8.04\\\",\\\"8.05\\\",\\\"8.06\\\",\\\"8.07\\\",\\\"8.08\\\",\\\"8.09\\\",\\\"8.1\\\",\\\"8.11\\\",\\\"8.12\\\",\\\"8.13\\\",\\\"8.14\\\",\\\"8.15\\\",\\\"8.16\\\",\\\"8.17\\\",\\\"8.18\\\",\\\"8.19\\\",\\\"8.2\\\",\\\"8.21\\\",\\\"8.22\\\",\\\"8.23\\\",\\\"8.24\\\",\\\"8.25\\\",\\\"8.26\\\",\\\"8.27\\\",\\\"8.28\\\",\\\"8.29\\\",\\\"8.3\\\",\\\"8.31\\\",\\\"8.32\\\",\\\"8.33\\\",\\\"8.34\\\",\\\"8.35\\\",\\\"8.36\\\",\\\"8.37\\\",\\\"8.38\\\",\\\"8.39\\\",\\\"8.4\\\",\\\"8.41\\\",\\\"8.42\\\",\\\"8.43\\\",\\\"8.44\\\",\\\"8.45\\\",\\\"8.46\\\",\\\"8.47\\\",\\\"8.48\\\",\\\"8.49\\\",\\\"8.5\\\",\\\"8.51\\\",\\\"8.52\\\",\\\"8.53\\\",\\\"8.54\\\",\\\"8.55\\\",\\\"8.56\\\",\\\"8.57\\\",\\\"8.58\\\",\\\"8.59\\\",\\\"8.6\\\",\\\"8.61\\\",\\\"8.62\\\",\\\"8.63\\\",\\\"8.64\\\",\\\"8.65\\\",\\\"8.66\\\",\\\"8.67\\\",\\\"8.68\\\",\\\"8.69\\\",\\\"8.7\\\",\\\"8.71\\\",\\\"8.72\\\",\\\"8.73\\\",\\\"8.74\\\",\\\"8.75\\\",\\\"8.76\\\",\\\"8.77\\\",\\\"8.78\\\",\\\"8.79\\\",\\\"8.8\\\",\\\"8.81\\\",\\\"8.82\\\",\\\"8.83\\\",\\\"8.84\\\",\\\"8.85\\\",\\\"8.86\\\",\\\"8.87\\\",\\\"8.88\\\",\\\"8.89\\\",\\\"8.9\\\",\\\"8.91\\\",\\\"8.92\\\",\\\"8.93\\\",\\\"8.94\\\",\\\"8.95\\\",\\\"8.96\\\",\\\"8.97\\\",\\\"8.98\\\",\\\"8.99\\\",\\\"9.0\\\",\\\"9.01\\\",\\\"9.02\\\",\\\"9.03\\\",\\\"9.04\\\",\\\"9.05\\\",\\\"9.06\\\",\\\"9.07\\\",\\\"9.08\\\",\\\"9.09\\\",\\\"9.1\\\",\\\"9.11\\\",\\\"9.12\\\",\\\"9.13\\\",\\\"9.14\\\",\\\"9.15\\\",\\\"9.16\\\",\\\"9.17\\\",\\\"9.18\\\",\\\"9.19\\\",\\\"9.2\\\",\\\"9.21\\\",\\\"9.22\\\",\\\"9.23\\\",\\\"9.24\\\",\\\"9.25\\\",\\\"9.26\\\",\\\"9.27\\\",\\\"9.28\\\",\\\"9.29\\\",\\\"9.3\\\",\\\"9.31\\\",\\\"9.32\\\",\\\"9.33\\\",\\\"9.34\\\",\\\"9.35\\\",\\\"9.36\\\",\\\"9.37\\\",\\\"9.38\\\",\\\"9.39\\\",\\\"9.4\\\",\\\"9.41\\\",\\\"9.42\\\",\\\"9.43\\\",\\\"9.44\\\",\\\"9.45\\\",\\\"9.46\\\",\\\"9.47\\\",\\\"9.48\\\",\\\"9.49\\\",\\\"9.5\\\",\\\"9.51\\\",\\\"9.52\\\",\\\"9.53\\\",\\\"9.54\\\",\\\"9.55\\\",\\\"9.56\\\",\\\"9.57\\\",\\\"9.58\\\",\\\"9.59\\\",\\\"9.6\\\",\\\"9.61\\\",\\\"9.62\\\",\\\"9.63\\\",\\\"9.64\\\",\\\"9.65\\\",\\\"9.66\\\",\\\"9.67\\\",\\\"9.68\\\",\\\"9.69\\\",\\\"9.7\\\",\\\"9.71\\\",\\\"9.72\\\",\\\"9.73\\\",\\\"9.74\\\",\\\"9.75\\\",\\\"9.76\\\",\\\"9.77\\\",\\\"9.78\\\",\\\"9.79\\\",\\\"9.8\\\",\\\"9.81\\\",\\\"9.82\\\",\\\"9.83\\\",\\\"9.84\\\",\\\"9.85\\\",\\\"9.86\\\",\\\"9.87\\\",\\\"9.88\\\",\\\"9.89\\\",\\\"9.9\\\",\\\"9.91\\\",\\\"9.92\\\",\\\"9.93\\\",\\\"9.94\\\",\\\"9.95\\\",\\\"9.96\\\",\\\"9.97\\\",\\\"9.98\\\",\\\"9.99\\\",\\\"10.0\\\"],\\\"changes\\\":WebIO.getval({\\\"name\\\":\\\"changes\\\",\\\"scope\\\":\\\"4298254072035559467\\\",\\\"id\\\":\\\"ob_39\\\",\\\"type\\\":\\\"observable\\\"}),\\\"index\\\":WebIO.getval({\\\"name\\\":\\\"index\\\",\\\"scope\\\":\\\"4298254072035559467\\\",\\\"id\\\":\\\"ob_38\\\",\\\"type\\\":\\\"observable\\\"})};\\n    var self = this;\\n    function AppViewModel() {\\n        for (var key in json_data) {\\n            var el = json_data[key];\\n            this[key] = Array.isArray(el) ? ko.observableArray(el) : ko.observable(el);\\n        }\\n        \\n        [this[\\\"formatted_val\\\"]=ko.computed(    function(){\\n        return this.formatted_vals()[parseInt(this.index())-(1)];\\n    }\\n,this)]\\n        [this[\\\"changes\\\"].subscribe((function (val){!(this.valueFromJulia[\\\"changes\\\"]) ? (WebIO.setval({\\\"name\\\":\\\"changes\\\",\\\"scope\\\":\\\"4298254072035559467\\\",\\\"id\\\":\\\"ob_39\\\",\\\"type\\\":\\\"observable\\\"},val)) : undefined; return this.valueFromJulia[\\\"changes\\\"]=false}),self),this[\\\"index\\\"].subscribe((function (val){!(this.valueFromJulia[\\\"index\\\"]) ? (WebIO.setval({\\\"name\\\":\\\"index\\\",\\\"scope\\\":\\\"4298254072035559467\\\",\\\"id\\\":\\\"ob_38\\\",\\\"type\\\":\\\"observable\\\"},val)) : undefined; return this.valueFromJulia[\\\"index\\\"]=false}),self)]\\n        \\n    }\\n    self.model = new AppViewModel();\\n    self.valueFromJulia = {};\\n    for (var key in json_data) {\\n        self.valueFromJulia[key] = false;\\n    }\\n    ko.applyBindings(self.model, self.dom);\\n}\\n);\\n    (WebIO.importBlock({\\\"data\\\":[{\\\"name\\\":\\\"knockout\\\",\\\"type\\\":\\\"js\\\",\\\"url\\\":\\\"/assetserver/9a186147d51179d2ec12ccfac1799b0b805a79d5-knockout.js\\\"},{\\\"name\\\":\\\"knockout_punches\\\",\\\"type\\\":\\\"js\\\",\\\"url\\\":\\\"/assetserver/eccef011301f679ebde0900f01478cac573870ce-knockout_punches.js\\\"}],\\\"type\\\":\\\"async_block\\\"})).then((imports) => handler.apply(this, imports));\\n}\\n\")])], Dict{Symbol,Any}(:className => \"field interact-widget\")), Observable{Any} with 0 listeners. Value:\n",
       "Node{WebIO.DOM}(WebIO.DOM(:html, :div), Any[Plot{Plots.GRBackend() n=3}], Dict{Symbol,Any}(:className => \"interact-flex-row interact-widget\"))], Dict{Symbol,Any}())"
      ]
     },
     "execution_count": 21,
     "metadata": {
      "application/vnd.webio.node+json": {
       "kernelId": "92f1b1da-720a-4211-bb08-8363f43fa6c5"
      }
     },
     "output_type": "execute_result"
    }
   ],
   "source": [
    "@manipulate for r in 0.01:0.01:10.0\n",
    "    zs = make_circle(r)\n",
    "    ys = f.(zs)\n",
    "    \n",
    "    plot(real.(zs), imag.(zs), ratio=1, leg=false)\n",
    "    plot!(real.(ys), imag.(ys), ratio=1, leg=false)\n",
    "    \n",
    "    xlims!(-5, 5)\n",
    "    ylims!(-5, 5)\n",
    "    \n",
    "    scatter!([ (0, 0) ])\n",
    "    \n",
    "end"
   ]
  },
  {
   "cell_type": "code",
   "execution_count": null,
   "metadata": {},
   "outputs": [],
   "source": []
  }
 ],
 "metadata": {
  "@webio": {
   "lastCommId": "942fcdf1d66d4aa082b8ebebbd545cd9",
   "lastKernelId": "92f1b1da-720a-4211-bb08-8363f43fa6c5"
  },
  "kernelspec": {
   "display_name": "Julia 1.4.0-rc1",
   "language": "julia",
   "name": "julia-1.4"
  },
  "language_info": {
   "file_extension": ".jl",
   "mimetype": "application/julia",
   "name": "julia",
   "version": "1.4.0"
  }
 },
 "nbformat": 4,
 "nbformat_minor": 2
}
